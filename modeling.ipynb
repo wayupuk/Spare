{
 "cells": [
  {
   "cell_type": "markdown",
   "id": "b911ee26",
   "metadata": {},
   "source": [
    "prosess data"
   ]
  },
  {
   "cell_type": "code",
   "execution_count": 41,
   "id": "4f90f5a7",
   "metadata": {},
   "outputs": [
    {
     "name": "stdout",
     "output_type": "stream",
     "text": [
      "🖥️  Using device: cuda\n",
      "✅ Training data loaded: 596008 samples\n",
      "Found 9669 label groups\n",
      "Kept 3409 groups after length filtering\n"
     ]
    },
    {
     "name": "stderr",
     "output_type": "stream",
     "text": [
      "Processing sequences: 100%|██████████| 3409/3409 [00:01<00:00, 2407.77it/s]\n"
     ]
    },
    {
     "name": "stdout",
     "output_type": "stream",
     "text": [
      "Dataset created: 3409 sequences of shape torch.Size([3409, 50, 28])\n",
      "Classes: 51, Distribution: Counter({np.int64(0): 125, np.int64(11): 100, np.int64(18): 93, np.int64(39): 93, np.int64(45): 86, np.int64(42): 84, np.int64(13): 79, np.int64(7): 78, np.int64(46): 78, np.int64(15): 78, np.int64(17): 78, np.int64(36): 77, np.int64(37): 77, np.int64(6): 77, np.int64(3): 77, np.int64(2): 76, np.int64(10): 76, np.int64(21): 76, np.int64(12): 76, np.int64(25): 76, np.int64(35): 76, np.int64(16): 75, np.int64(4): 75, np.int64(23): 74, np.int64(5): 73, np.int64(29): 67, np.int64(24): 67, np.int64(1): 64, np.int64(47): 64, np.int64(20): 63, np.int64(26): 63, np.int64(30): 62, np.int64(32): 62, np.int64(28): 60, np.int64(49): 59, np.int64(48): 59, np.int64(19): 59, np.int64(50): 59, np.int64(34): 58, np.int64(22): 56, np.int64(33): 55, np.int64(41): 54, np.int64(40): 54, np.int64(44): 51, np.int64(31): 49, np.int64(9): 45, np.int64(43): 37, np.int64(8): 32, np.int64(27): 27, np.int64(38): 25, np.int64(14): 25})\n",
      "📊 Dataset Info:\n",
      "   Input Shape: (50, 28)\n",
      "   Classes: 51\n",
      "   Class Names: ['nothing', 'กาแฟ', 'กิน', 'ขอบคุณ', 'คำถาม', 'คุณ', 'ฉัน', 'ชอบ', 'ช่วย', 'ดี', 'ดื่ม', 'ตอนนี้', 'ต้องการ', 'ทำ', 'ทำงาน', 'ทีหลัง', 'ที่นั่น', 'ที่นี่', 'นอน', 'น้ำ', 'บ้าน', 'ป่วย', 'พรุ่งนี้', 'พูด', 'มา', 'มี', 'รถ', 'รอ', 'ร้อน', 'ร้าย', 'วันนี้', 'วิ่ง', 'หนังสือ', 'หนาว', 'อันตราย', 'อาหาร', 'อ่าน', 'เขียน', 'เข้าใจ', 'เดิน', 'เพื่อน', 'เมื่อวาน', 'เรา', 'เรียน', 'เล็ก', 'เล่น', 'เวลา', 'โทรศัพท์', 'โรงเรียน', 'ใหญ่', 'ไป']\n",
      "📈 Data Split: Train=2727, Val=682\n",
      "🏗️  Model created with 403243 parameters\n",
      "🚀 Starting CNN training on cuda\n",
      "📊 Scheduler: warmup_cosine, Epochs: 100, LR: 0.001\n"
     ]
    },
    {
     "name": "stderr",
     "output_type": "stream",
     "text": [
      "Epoch 1/100 [TRAIN]: 100%|██████████| 43/43 [00:00<00:00, 47.68it/s, Loss=3.3500, Acc=21.60%, LR=0.001000]\n"
     ]
    },
    {
     "name": "stdout",
     "output_type": "stream",
     "text": [
      "💾 New best model! Val Acc: 55.28%\n",
      "Epoch [1/100]\n",
      "Train - Loss: 3.2721, Acc: 21.60%\n",
      "Val   - Loss: 2.1976, Acc: 55.28%, F1: 46.65%\n",
      "LR: 0.001000, Patience: 0/20\n",
      "----------------------------------------------------------------------\n"
     ]
    },
    {
     "name": "stderr",
     "output_type": "stream",
     "text": [
      "Epoch 2/100 [TRAIN]: 100%|██████████| 43/43 [00:00<00:00, 57.56it/s, Loss=2.7241, Acc=45.98%, LR=0.000000]\n"
     ]
    },
    {
     "name": "stdout",
     "output_type": "stream",
     "text": [
      "Epoch [2/100]\n",
      "Train - Loss: 2.4074, Acc: 45.98%\n",
      "Val   - Loss: 2.1957, Acc: 54.84%, F1: 46.44%\n",
      "LR: 0.000000, Patience: 1/20\n",
      "----------------------------------------------------------------------\n"
     ]
    },
    {
     "name": "stderr",
     "output_type": "stream",
     "text": [
      "Epoch 3/100 [TRAIN]: 100%|██████████| 43/43 [00:00<00:00, 76.44it/s, Loss=2.3584, Acc=52.15%, LR=0.000100]\n"
     ]
    },
    {
     "name": "stdout",
     "output_type": "stream",
     "text": [
      "💾 New best model! Val Acc: 67.60%\n",
      "Epoch [3/100]\n",
      "Train - Loss: 2.2487, Acc: 52.15%\n",
      "Val   - Loss: 1.9042, Acc: 67.60%, F1: 63.48%\n",
      "LR: 0.000100, Patience: 0/20\n",
      "----------------------------------------------------------------------\n"
     ]
    },
    {
     "name": "stderr",
     "output_type": "stream",
     "text": [
      "Epoch 4/100 [TRAIN]: 100%|██████████| 43/43 [00:00<00:00, 68.10it/s, Loss=2.2400, Acc=60.07%, LR=0.000200]\n"
     ]
    },
    {
     "name": "stdout",
     "output_type": "stream",
     "text": [
      "💾 New best model! Val Acc: 78.89%\n",
      "Epoch [4/100]\n",
      "Train - Loss: 2.0316, Acc: 60.07%\n",
      "Val   - Loss: 1.6089, Acc: 78.89%, F1: 77.04%\n",
      "LR: 0.000200, Patience: 0/20\n",
      "----------------------------------------------------------------------\n"
     ]
    },
    {
     "name": "stderr",
     "output_type": "stream",
     "text": [
      "Epoch 5/100 [TRAIN]: 100%|██████████| 43/43 [00:00<00:00, 62.50it/s, Loss=2.0495, Acc=68.79%, LR=0.000300]\n"
     ]
    },
    {
     "name": "stdout",
     "output_type": "stream",
     "text": [
      "💾 New best model! Val Acc: 85.34%\n",
      "Epoch [5/100]\n",
      "Train - Loss: 1.8112, Acc: 68.79%\n",
      "Val   - Loss: 1.4113, Acc: 85.34%, F1: 85.12%\n",
      "LR: 0.000300, Patience: 0/20\n",
      "----------------------------------------------------------------------\n"
     ]
    },
    {
     "name": "stderr",
     "output_type": "stream",
     "text": [
      "Epoch 6/100 [TRAIN]: 100%|██████████| 43/43 [00:00<00:00, 74.05it/s, Loss=1.6410, Acc=76.42%, LR=0.000400]\n"
     ]
    },
    {
     "name": "stdout",
     "output_type": "stream",
     "text": [
      "💾 New best model! Val Acc: 90.47%\n",
      "Epoch [6/100]\n",
      "Train - Loss: 1.6028, Acc: 76.42%\n",
      "Val   - Loss: 1.2255, Acc: 90.47%, F1: 90.40%\n",
      "LR: 0.000400, Patience: 0/20\n",
      "----------------------------------------------------------------------\n"
     ]
    },
    {
     "name": "stderr",
     "output_type": "stream",
     "text": [
      "Epoch 7/100 [TRAIN]: 100%|██████████| 43/43 [00:00<00:00, 63.11it/s, Loss=1.6804, Acc=82.62%, LR=0.000500]\n"
     ]
    },
    {
     "name": "stdout",
     "output_type": "stream",
     "text": [
      "💾 New best model! Val Acc: 92.82%\n",
      "Epoch [7/100]\n",
      "Train - Loss: 1.4459, Acc: 82.62%\n",
      "Val   - Loss: 1.1192, Acc: 92.82%, F1: 92.87%\n",
      "LR: 0.000500, Patience: 0/20\n",
      "----------------------------------------------------------------------\n"
     ]
    },
    {
     "name": "stderr",
     "output_type": "stream",
     "text": [
      "Epoch 8/100 [TRAIN]: 100%|██████████| 43/43 [00:00<00:00, 78.57it/s, Loss=1.6723, Acc=85.96%, LR=0.000600]\n"
     ]
    },
    {
     "name": "stdout",
     "output_type": "stream",
     "text": [
      "💾 New best model! Val Acc: 93.11%\n",
      "Epoch [8/100]\n",
      "Train - Loss: 1.3612, Acc: 85.96%\n",
      "Val   - Loss: 1.0924, Acc: 93.11%, F1: 93.16%\n",
      "LR: 0.000600, Patience: 0/20\n",
      "----------------------------------------------------------------------\n"
     ]
    },
    {
     "name": "stderr",
     "output_type": "stream",
     "text": [
      "Epoch 9/100 [TRAIN]: 100%|██████████| 43/43 [00:00<00:00, 70.24it/s, Loss=1.4646, Acc=88.16%, LR=0.000700]\n"
     ]
    },
    {
     "name": "stdout",
     "output_type": "stream",
     "text": [
      "💾 New best model! Val Acc: 94.87%\n",
      "Epoch [9/100]\n",
      "Train - Loss: 1.2943, Acc: 88.16%\n",
      "Val   - Loss: 1.0282, Acc: 94.87%, F1: 94.87%\n",
      "LR: 0.000700, Patience: 0/20\n",
      "----------------------------------------------------------------------\n"
     ]
    },
    {
     "name": "stderr",
     "output_type": "stream",
     "text": [
      "Epoch 10/100 [TRAIN]: 100%|██████████| 43/43 [00:00<00:00, 73.04it/s, Loss=1.3187, Acc=91.02%, LR=0.000800]\n"
     ]
    },
    {
     "name": "stdout",
     "output_type": "stream",
     "text": [
      "💾 New best model! Val Acc: 95.31%\n",
      "Epoch [10/100]\n",
      "Train - Loss: 1.2267, Acc: 91.02%\n",
      "Val   - Loss: 0.9997, Acc: 95.31%, F1: 95.36%\n",
      "LR: 0.000800, Patience: 0/20\n",
      "----------------------------------------------------------------------\n"
     ]
    },
    {
     "name": "stderr",
     "output_type": "stream",
     "text": [
      "Epoch 11/100 [TRAIN]: 100%|██████████| 43/43 [00:00<00:00, 72.83it/s, Loss=1.1691, Acc=92.59%, LR=0.000900]\n"
     ]
    },
    {
     "name": "stdout",
     "output_type": "stream",
     "text": [
      "💾 New best model! Val Acc: 95.60%\n",
      "Epoch [11/100]\n",
      "Train - Loss: 1.1691, Acc: 92.59%\n",
      "Val   - Loss: 0.9902, Acc: 95.60%, F1: 95.61%\n",
      "LR: 0.000900, Patience: 0/20\n",
      "----------------------------------------------------------------------\n"
     ]
    },
    {
     "name": "stderr",
     "output_type": "stream",
     "text": [
      "Epoch 12/100 [TRAIN]: 100%|██████████| 43/43 [00:00<00:00, 73.16it/s, Loss=1.1393, Acc=94.50%, LR=0.001000]\n"
     ]
    },
    {
     "name": "stdout",
     "output_type": "stream",
     "text": [
      "💾 New best model! Val Acc: 95.75%\n",
      "Epoch [12/100]\n",
      "Train - Loss: 1.1393, Acc: 94.50%\n",
      "Val   - Loss: 0.9599, Acc: 95.75%, F1: 95.79%\n",
      "LR: 0.001000, Patience: 0/20\n",
      "----------------------------------------------------------------------\n"
     ]
    },
    {
     "name": "stderr",
     "output_type": "stream",
     "text": [
      "Epoch 13/100 [TRAIN]: 100%|██████████| 43/43 [00:00<00:00, 84.19it/s, Loss=1.3342, Acc=94.06%, LR=0.001000]\n"
     ]
    },
    {
     "name": "stdout",
     "output_type": "stream",
     "text": [
      "Epoch [13/100]\n",
      "Train - Loss: 1.1170, Acc: 94.06%\n",
      "Val   - Loss: 0.9712, Acc: 95.75%, F1: 95.82%\n",
      "LR: 0.001000, Patience: 1/20\n",
      "----------------------------------------------------------------------\n"
     ]
    },
    {
     "name": "stderr",
     "output_type": "stream",
     "text": [
      "Epoch 14/100 [TRAIN]: 100%|██████████| 43/43 [00:00<00:00, 60.05it/s, Loss=1.0784, Acc=95.60%, LR=0.000999]\n"
     ]
    },
    {
     "name": "stdout",
     "output_type": "stream",
     "text": [
      "💾 New best model! Val Acc: 96.04%\n",
      "Epoch [14/100]\n",
      "Train - Loss: 1.0784, Acc: 95.60%\n",
      "Val   - Loss: 0.9474, Acc: 96.04%, F1: 96.07%\n",
      "LR: 0.000999, Patience: 0/20\n",
      "----------------------------------------------------------------------\n"
     ]
    },
    {
     "name": "stderr",
     "output_type": "stream",
     "text": [
      "Epoch 15/100 [TRAIN]: 100%|██████████| 43/43 [00:00<00:00, 72.72it/s, Loss=1.0729, Acc=97.07%, LR=0.000997]\n"
     ]
    },
    {
     "name": "stdout",
     "output_type": "stream",
     "text": [
      "💾 New best model! Val Acc: 96.48%\n",
      "Epoch [15/100]\n",
      "Train - Loss: 1.0480, Acc: 97.07%\n",
      "Val   - Loss: 0.9366, Acc: 96.48%, F1: 96.51%\n",
      "LR: 0.000997, Patience: 0/20\n",
      "----------------------------------------------------------------------\n"
     ]
    },
    {
     "name": "stderr",
     "output_type": "stream",
     "text": [
      "Epoch 16/100 [TRAIN]: 100%|██████████| 43/43 [00:00<00:00, 87.49it/s, Loss=1.1455, Acc=97.07%, LR=0.000995]\n"
     ]
    },
    {
     "name": "stdout",
     "output_type": "stream",
     "text": [
      "💾 New best model! Val Acc: 96.63%\n",
      "Epoch [16/100]\n",
      "Train - Loss: 1.0389, Acc: 97.07%\n",
      "Val   - Loss: 0.9448, Acc: 96.63%, F1: 96.68%\n",
      "LR: 0.000995, Patience: 0/20\n",
      "----------------------------------------------------------------------\n"
     ]
    },
    {
     "name": "stderr",
     "output_type": "stream",
     "text": [
      "Epoch 17/100 [TRAIN]: 100%|██████████| 43/43 [00:00<00:00, 82.98it/s, Loss=1.2122, Acc=97.58%, LR=0.000992]\n"
     ]
    },
    {
     "name": "stdout",
     "output_type": "stream",
     "text": [
      "💾 New best model! Val Acc: 96.77%\n",
      "Epoch [17/100]\n",
      "Train - Loss: 1.0149, Acc: 97.58%\n",
      "Val   - Loss: 0.9192, Acc: 96.77%, F1: 96.77%\n",
      "LR: 0.000992, Patience: 0/20\n",
      "----------------------------------------------------------------------\n"
     ]
    },
    {
     "name": "stderr",
     "output_type": "stream",
     "text": [
      "Epoch 18/100 [TRAIN]: 100%|██████████| 43/43 [00:00<00:00, 76.87it/s, Loss=1.0036, Acc=97.84%, LR=0.000989]\n"
     ]
    },
    {
     "name": "stdout",
     "output_type": "stream",
     "text": [
      "Epoch [18/100]\n",
      "Train - Loss: 1.0036, Acc: 97.84%\n",
      "Val   - Loss: 0.9032, Acc: 96.77%, F1: 96.83%\n",
      "LR: 0.000989, Patience: 1/20\n",
      "----------------------------------------------------------------------\n"
     ]
    },
    {
     "name": "stderr",
     "output_type": "stream",
     "text": [
      "Epoch 19/100 [TRAIN]: 100%|██████████| 43/43 [00:00<00:00, 88.79it/s, Loss=1.1002, Acc=97.95%, LR=0.000985]\n"
     ]
    },
    {
     "name": "stdout",
     "output_type": "stream",
     "text": [
      "💾 New best model! Val Acc: 97.51%\n",
      "Epoch [19/100]\n",
      "Train - Loss: 0.9978, Acc: 97.95%\n",
      "Val   - Loss: 0.9013, Acc: 97.51%, F1: 97.56%\n",
      "LR: 0.000985, Patience: 0/20\n",
      "----------------------------------------------------------------------\n"
     ]
    },
    {
     "name": "stderr",
     "output_type": "stream",
     "text": [
      "Epoch 20/100 [TRAIN]: 100%|██████████| 43/43 [00:00<00:00, 80.75it/s, Loss=1.2271, Acc=99.05%, LR=0.000981]\n"
     ]
    },
    {
     "name": "stdout",
     "output_type": "stream",
     "text": [
      "Epoch [20/100]\n",
      "Train - Loss: 0.9703, Acc: 99.05%\n",
      "Val   - Loss: 0.8936, Acc: 97.07%, F1: 97.09%\n",
      "LR: 0.000981, Patience: 1/20\n",
      "----------------------------------------------------------------------\n"
     ]
    },
    {
     "name": "stderr",
     "output_type": "stream",
     "text": [
      "Epoch 21/100 [TRAIN]: 100%|██████████| 43/43 [00:00<00:00, 88.63it/s, Loss=1.1034, Acc=98.57%, LR=0.000976]\n"
     ]
    },
    {
     "name": "stdout",
     "output_type": "stream",
     "text": [
      "Epoch [21/100]\n",
      "Train - Loss: 0.9751, Acc: 98.57%\n",
      "Val   - Loss: 0.9035, Acc: 97.36%, F1: 97.38%\n",
      "LR: 0.000976, Patience: 2/20\n",
      "----------------------------------------------------------------------\n"
     ]
    },
    {
     "name": "stderr",
     "output_type": "stream",
     "text": [
      "Epoch 22/100 [TRAIN]: 100%|██████████| 43/43 [00:00<00:00, 79.49it/s, Loss=1.2201, Acc=99.01%, LR=0.000970]\n"
     ]
    },
    {
     "name": "stdout",
     "output_type": "stream",
     "text": [
      "Epoch [22/100]\n",
      "Train - Loss: 0.9647, Acc: 99.01%\n",
      "Val   - Loss: 0.8857, Acc: 96.77%, F1: 96.83%\n",
      "LR: 0.000970, Patience: 3/20\n",
      "----------------------------------------------------------------------\n"
     ]
    },
    {
     "name": "stderr",
     "output_type": "stream",
     "text": [
      "Epoch 23/100 [TRAIN]: 100%|██████████| 43/43 [00:00<00:00, 85.98it/s, Loss=1.0205, Acc=99.01%, LR=0.000964]\n"
     ]
    },
    {
     "name": "stdout",
     "output_type": "stream",
     "text": [
      "Epoch [23/100]\n",
      "Train - Loss: 0.9493, Acc: 99.01%\n",
      "Val   - Loss: 0.8848, Acc: 97.51%, F1: 97.53%\n",
      "LR: 0.000964, Patience: 4/20\n",
      "----------------------------------------------------------------------\n"
     ]
    },
    {
     "name": "stderr",
     "output_type": "stream",
     "text": [
      "Epoch 24/100 [TRAIN]: 100%|██████████| 43/43 [00:00<00:00, 85.87it/s, Loss=1.1308, Acc=99.01%, LR=0.000957]\n"
     ]
    },
    {
     "name": "stdout",
     "output_type": "stream",
     "text": [
      "Epoch [24/100]\n",
      "Train - Loss: 0.9467, Acc: 99.01%\n",
      "Val   - Loss: 0.8819, Acc: 97.21%, F1: 97.23%\n",
      "LR: 0.000957, Patience: 5/20\n",
      "----------------------------------------------------------------------\n"
     ]
    },
    {
     "name": "stderr",
     "output_type": "stream",
     "text": [
      "Epoch 25/100 [TRAIN]: 100%|██████████| 43/43 [00:00<00:00, 80.03it/s, Loss=1.0468, Acc=99.08%, LR=0.000949]\n"
     ]
    },
    {
     "name": "stdout",
     "output_type": "stream",
     "text": [
      "Epoch [25/100]\n",
      "Train - Loss: 0.9494, Acc: 99.08%\n",
      "Val   - Loss: 0.8999, Acc: 97.07%, F1: 97.12%\n",
      "LR: 0.000949, Patience: 6/20\n",
      "----------------------------------------------------------------------\n"
     ]
    },
    {
     "name": "stderr",
     "output_type": "stream",
     "text": [
      "Epoch 26/100 [TRAIN]: 100%|██████████| 43/43 [00:00<00:00, 90.88it/s, Loss=1.0139, Acc=99.08%, LR=0.000942]\n"
     ]
    },
    {
     "name": "stdout",
     "output_type": "stream",
     "text": [
      "Epoch [26/100]\n",
      "Train - Loss: 0.9432, Acc: 99.08%\n",
      "Val   - Loss: 0.8822, Acc: 96.92%, F1: 96.95%\n",
      "LR: 0.000942, Patience: 7/20\n",
      "----------------------------------------------------------------------\n"
     ]
    },
    {
     "name": "stderr",
     "output_type": "stream",
     "text": [
      "Epoch 27/100 [TRAIN]: 100%|██████████| 43/43 [00:00<00:00, 70.24it/s, Loss=1.0389, Acc=99.34%, LR=0.000933]\n"
     ]
    },
    {
     "name": "stdout",
     "output_type": "stream",
     "text": [
      "Epoch [27/100]\n",
      "Train - Loss: 0.9423, Acc: 99.34%\n",
      "Val   - Loss: 0.9021, Acc: 97.07%, F1: 97.09%\n",
      "LR: 0.000933, Patience: 8/20\n",
      "----------------------------------------------------------------------\n"
     ]
    },
    {
     "name": "stderr",
     "output_type": "stream",
     "text": [
      "Epoch 28/100 [TRAIN]: 100%|██████████| 43/43 [00:00<00:00, 72.14it/s, Loss=0.9848, Acc=99.16%, LR=0.000924]\n"
     ]
    },
    {
     "name": "stdout",
     "output_type": "stream",
     "text": [
      "Epoch [28/100]\n",
      "Train - Loss: 0.9390, Acc: 99.16%\n",
      "Val   - Loss: 0.8714, Acc: 97.21%, F1: 97.24%\n",
      "LR: 0.000924, Patience: 9/20\n",
      "----------------------------------------------------------------------\n"
     ]
    },
    {
     "name": "stderr",
     "output_type": "stream",
     "text": [
      "Epoch 29/100 [TRAIN]: 100%|██████████| 43/43 [00:00<00:00, 86.10it/s, Loss=1.0710, Acc=99.56%, LR=0.000915]\n"
     ]
    },
    {
     "name": "stdout",
     "output_type": "stream",
     "text": [
      "Epoch [29/100]\n",
      "Train - Loss: 0.9216, Acc: 99.56%\n",
      "Val   - Loss: 0.8860, Acc: 96.92%, F1: 96.94%\n",
      "LR: 0.000915, Patience: 10/20\n",
      "----------------------------------------------------------------------\n"
     ]
    },
    {
     "name": "stderr",
     "output_type": "stream",
     "text": [
      "Epoch 30/100 [TRAIN]: 100%|██████████| 43/43 [00:00<00:00, 77.94it/s, Loss=1.1360, Acc=99.49%, LR=0.000905]\n"
     ]
    },
    {
     "name": "stdout",
     "output_type": "stream",
     "text": [
      "Epoch [30/100]\n",
      "Train - Loss: 0.9247, Acc: 99.49%\n",
      "Val   - Loss: 0.8741, Acc: 97.07%, F1: 97.09%\n",
      "LR: 0.000905, Patience: 11/20\n",
      "----------------------------------------------------------------------\n"
     ]
    },
    {
     "name": "stderr",
     "output_type": "stream",
     "text": [
      "Epoch 31/100 [TRAIN]: 100%|██████████| 43/43 [00:00<00:00, 93.46it/s, Loss=0.9707, Acc=99.16%, LR=0.000894]\n"
     ]
    },
    {
     "name": "stdout",
     "output_type": "stream",
     "text": [
      "Epoch [31/100]\n",
      "Train - Loss: 0.9255, Acc: 99.16%\n",
      "Val   - Loss: 0.8754, Acc: 97.21%, F1: 97.26%\n",
      "LR: 0.000894, Patience: 12/20\n",
      "----------------------------------------------------------------------\n"
     ]
    },
    {
     "name": "stderr",
     "output_type": "stream",
     "text": [
      "Epoch 32/100 [TRAIN]: 100%|██████████| 43/43 [00:00<00:00, 74.85it/s, Loss=1.0800, Acc=99.34%, LR=0.000883]\n"
     ]
    },
    {
     "name": "stdout",
     "output_type": "stream",
     "text": [
      "Epoch [32/100]\n",
      "Train - Loss: 0.9293, Acc: 99.34%\n",
      "Val   - Loss: 0.8760, Acc: 96.77%, F1: 96.80%\n",
      "LR: 0.000883, Patience: 13/20\n",
      "----------------------------------------------------------------------\n"
     ]
    },
    {
     "name": "stderr",
     "output_type": "stream",
     "text": [
      "Epoch 33/100 [TRAIN]: 100%|██████████| 43/43 [00:00<00:00, 83.39it/s, Loss=1.1676, Acc=99.45%, LR=0.000872]\n"
     ]
    },
    {
     "name": "stdout",
     "output_type": "stream",
     "text": [
      "Epoch [33/100]\n",
      "Train - Loss: 0.9232, Acc: 99.45%\n",
      "Val   - Loss: 0.8813, Acc: 97.21%, F1: 97.25%\n",
      "LR: 0.000872, Patience: 14/20\n",
      "----------------------------------------------------------------------\n"
     ]
    },
    {
     "name": "stderr",
     "output_type": "stream",
     "text": [
      "Epoch 34/100 [TRAIN]: 100%|██████████| 43/43 [00:00<00:00, 74.27it/s, Loss=0.9654, Acc=99.56%, LR=0.000860]\n"
     ]
    },
    {
     "name": "stdout",
     "output_type": "stream",
     "text": [
      "Epoch [34/100]\n",
      "Train - Loss: 0.9205, Acc: 99.56%\n",
      "Val   - Loss: 0.8738, Acc: 97.36%, F1: 97.38%\n",
      "LR: 0.000860, Patience: 15/20\n",
      "----------------------------------------------------------------------\n"
     ]
    },
    {
     "name": "stderr",
     "output_type": "stream",
     "text": [
      "Epoch 35/100 [TRAIN]: 100%|██████████| 43/43 [00:00<00:00, 90.11it/s, Loss=0.9869, Acc=99.56%, LR=0.000847]\n"
     ]
    },
    {
     "name": "stdout",
     "output_type": "stream",
     "text": [
      "💾 New best model! Val Acc: 97.65%\n",
      "Epoch [35/100]\n",
      "Train - Loss: 0.9181, Acc: 99.56%\n",
      "Val   - Loss: 0.8646, Acc: 97.65%, F1: 97.68%\n",
      "LR: 0.000847, Patience: 0/20\n",
      "----------------------------------------------------------------------\n"
     ]
    },
    {
     "name": "stderr",
     "output_type": "stream",
     "text": [
      "Epoch 36/100 [TRAIN]: 100%|██████████| 43/43 [00:00<00:00, 89.16it/s, Loss=1.0122, Acc=99.34%, LR=0.000835]\n"
     ]
    },
    {
     "name": "stdout",
     "output_type": "stream",
     "text": [
      "Epoch [36/100]\n",
      "Train - Loss: 0.9180, Acc: 99.34%\n",
      "Val   - Loss: 0.8742, Acc: 97.21%, F1: 97.25%\n",
      "LR: 0.000835, Patience: 1/20\n",
      "----------------------------------------------------------------------\n"
     ]
    },
    {
     "name": "stderr",
     "output_type": "stream",
     "text": [
      "Epoch 37/100 [TRAIN]: 100%|██████████| 43/43 [00:00<00:00, 78.37it/s, Loss=1.0817, Acc=99.34%, LR=0.000822]\n"
     ]
    },
    {
     "name": "stdout",
     "output_type": "stream",
     "text": [
      "Epoch [37/100]\n",
      "Train - Loss: 0.9056, Acc: 99.34%\n",
      "Val   - Loss: 0.8689, Acc: 97.65%, F1: 97.67%\n",
      "LR: 0.000822, Patience: 2/20\n",
      "----------------------------------------------------------------------\n"
     ]
    },
    {
     "name": "stderr",
     "output_type": "stream",
     "text": [
      "Epoch 38/100 [TRAIN]: 100%|██████████| 43/43 [00:00<00:00, 85.13it/s, Loss=1.0295, Acc=99.63%, LR=0.000808]\n"
     ]
    },
    {
     "name": "stdout",
     "output_type": "stream",
     "text": [
      "Epoch [38/100]\n",
      "Train - Loss: 0.9098, Acc: 99.63%\n",
      "Val   - Loss: 0.8822, Acc: 97.36%, F1: 97.41%\n",
      "LR: 0.000808, Patience: 3/20\n",
      "----------------------------------------------------------------------\n"
     ]
    },
    {
     "name": "stderr",
     "output_type": "stream",
     "text": [
      "Epoch 39/100 [TRAIN]: 100%|██████████| 43/43 [00:00<00:00, 68.74it/s, Loss=0.9750, Acc=99.71%, LR=0.000794]\n"
     ]
    },
    {
     "name": "stdout",
     "output_type": "stream",
     "text": [
      "Epoch [39/100]\n",
      "Train - Loss: 0.9070, Acc: 99.71%\n",
      "Val   - Loss: 0.8626, Acc: 97.21%, F1: 97.24%\n",
      "LR: 0.000794, Patience: 4/20\n",
      "----------------------------------------------------------------------\n"
     ]
    },
    {
     "name": "stderr",
     "output_type": "stream",
     "text": [
      "Epoch 40/100 [TRAIN]: 100%|██████████| 43/43 [00:00<00:00, 91.78it/s, Loss=0.9692, Acc=99.74%, LR=0.000780]\n"
     ]
    },
    {
     "name": "stdout",
     "output_type": "stream",
     "text": [
      "Epoch [40/100]\n",
      "Train - Loss: 0.9016, Acc: 99.74%\n",
      "Val   - Loss: 0.8785, Acc: 96.92%, F1: 96.95%\n",
      "LR: 0.000780, Patience: 5/20\n",
      "----------------------------------------------------------------------\n"
     ]
    },
    {
     "name": "stderr",
     "output_type": "stream",
     "text": [
      "Epoch 41/100 [TRAIN]: 100%|██████████| 43/43 [00:00<00:00, 74.97it/s, Loss=1.1112, Acc=99.63%, LR=0.000765]\n"
     ]
    },
    {
     "name": "stdout",
     "output_type": "stream",
     "text": [
      "💾 New best model! Val Acc: 97.80%\n",
      "Epoch [41/100]\n",
      "Train - Loss: 0.9045, Acc: 99.63%\n",
      "Val   - Loss: 0.8673, Acc: 97.80%, F1: 97.84%\n",
      "LR: 0.000765, Patience: 0/20\n",
      "----------------------------------------------------------------------\n"
     ]
    },
    {
     "name": "stderr",
     "output_type": "stream",
     "text": [
      "Epoch 42/100 [TRAIN]: 100%|██████████| 43/43 [00:00<00:00, 77.86it/s, Loss=1.0438, Acc=99.67%, LR=0.000750]\n"
     ]
    },
    {
     "name": "stdout",
     "output_type": "stream",
     "text": [
      "Epoch [42/100]\n",
      "Train - Loss: 0.8982, Acc: 99.67%\n",
      "Val   - Loss: 0.8648, Acc: 97.36%, F1: 97.39%\n",
      "LR: 0.000750, Patience: 1/20\n",
      "----------------------------------------------------------------------\n"
     ]
    },
    {
     "name": "stderr",
     "output_type": "stream",
     "text": [
      "Epoch 43/100 [TRAIN]: 100%|██████████| 43/43 [00:00<00:00, 74.06it/s, Loss=0.9680, Acc=99.52%, LR=0.000735]\n"
     ]
    },
    {
     "name": "stdout",
     "output_type": "stream",
     "text": [
      "Epoch [43/100]\n",
      "Train - Loss: 0.9005, Acc: 99.52%\n",
      "Val   - Loss: 0.8628, Acc: 97.21%, F1: 97.27%\n",
      "LR: 0.000735, Patience: 2/20\n",
      "----------------------------------------------------------------------\n"
     ]
    },
    {
     "name": "stderr",
     "output_type": "stream",
     "text": [
      "Epoch 44/100 [TRAIN]: 100%|██████████| 43/43 [00:00<00:00, 84.50it/s, Loss=0.9652, Acc=99.52%, LR=0.000719]\n"
     ]
    },
    {
     "name": "stdout",
     "output_type": "stream",
     "text": [
      "Epoch [44/100]\n",
      "Train - Loss: 0.8979, Acc: 99.52%\n",
      "Val   - Loss: 0.8695, Acc: 97.21%, F1: 97.24%\n",
      "LR: 0.000719, Patience: 3/20\n",
      "----------------------------------------------------------------------\n"
     ]
    },
    {
     "name": "stderr",
     "output_type": "stream",
     "text": [
      "Epoch 45/100 [TRAIN]: 100%|██████████| 43/43 [00:00<00:00, 93.18it/s, Loss=0.9592, Acc=99.71%, LR=0.000704]\n"
     ]
    },
    {
     "name": "stdout",
     "output_type": "stream",
     "text": [
      "Epoch [45/100]\n",
      "Train - Loss: 0.8923, Acc: 99.71%\n",
      "Val   - Loss: 0.8581, Acc: 97.65%, F1: 97.69%\n",
      "LR: 0.000704, Patience: 4/20\n",
      "----------------------------------------------------------------------\n"
     ]
    },
    {
     "name": "stderr",
     "output_type": "stream",
     "text": [
      "Epoch 46/100 [TRAIN]: 100%|██████████| 43/43 [00:00<00:00, 77.66it/s, Loss=0.9612, Acc=99.82%, LR=0.000688]\n"
     ]
    },
    {
     "name": "stdout",
     "output_type": "stream",
     "text": [
      "Epoch [46/100]\n",
      "Train - Loss: 0.8942, Acc: 99.82%\n",
      "Val   - Loss: 0.8649, Acc: 97.51%, F1: 97.53%\n",
      "LR: 0.000688, Patience: 5/20\n",
      "----------------------------------------------------------------------\n"
     ]
    },
    {
     "name": "stderr",
     "output_type": "stream",
     "text": [
      "Epoch 47/100 [TRAIN]: 100%|██████████| 43/43 [00:00<00:00, 92.17it/s, Loss=0.9637, Acc=99.74%, LR=0.000671]\n"
     ]
    },
    {
     "name": "stdout",
     "output_type": "stream",
     "text": [
      "Epoch [47/100]\n",
      "Train - Loss: 0.8965, Acc: 99.74%\n",
      "Val   - Loss: 0.8605, Acc: 96.92%, F1: 97.00%\n",
      "LR: 0.000671, Patience: 6/20\n",
      "----------------------------------------------------------------------\n"
     ]
    },
    {
     "name": "stderr",
     "output_type": "stream",
     "text": [
      "Epoch 48/100 [TRAIN]: 100%|██████████| 43/43 [00:00<00:00, 81.74it/s, Loss=1.0731, Acc=99.78%, LR=0.000655]\n"
     ]
    },
    {
     "name": "stdout",
     "output_type": "stream",
     "text": [
      "Epoch [48/100]\n",
      "Train - Loss: 0.8984, Acc: 99.78%\n",
      "Val   - Loss: 0.8608, Acc: 97.65%, F1: 97.68%\n",
      "LR: 0.000655, Patience: 7/20\n",
      "----------------------------------------------------------------------\n"
     ]
    },
    {
     "name": "stderr",
     "output_type": "stream",
     "text": [
      "Epoch 49/100 [TRAIN]: 100%|██████████| 43/43 [00:00<00:00, 83.38it/s, Loss=1.0356, Acc=99.67%, LR=0.000638]\n"
     ]
    },
    {
     "name": "stdout",
     "output_type": "stream",
     "text": [
      "Epoch [49/100]\n",
      "Train - Loss: 0.8911, Acc: 99.67%\n",
      "Val   - Loss: 0.8551, Acc: 97.36%, F1: 97.39%\n",
      "LR: 0.000638, Patience: 8/20\n",
      "----------------------------------------------------------------------\n"
     ]
    },
    {
     "name": "stderr",
     "output_type": "stream",
     "text": [
      "Epoch 50/100 [TRAIN]: 100%|██████████| 43/43 [00:00<00:00, 66.89it/s, Loss=0.9827, Acc=99.78%, LR=0.000621]\n"
     ]
    },
    {
     "name": "stdout",
     "output_type": "stream",
     "text": [
      "Epoch [50/100]\n",
      "Train - Loss: 0.8913, Acc: 99.78%\n",
      "Val   - Loss: 0.8623, Acc: 97.36%, F1: 97.39%\n",
      "LR: 0.000621, Patience: 9/20\n",
      "----------------------------------------------------------------------\n"
     ]
    },
    {
     "name": "stderr",
     "output_type": "stream",
     "text": [
      "Epoch 51/100 [TRAIN]: 100%|██████████| 43/43 [00:00<00:00, 91.06it/s, Loss=0.9342, Acc=99.71%, LR=0.000604]\n"
     ]
    },
    {
     "name": "stdout",
     "output_type": "stream",
     "text": [
      "Epoch [51/100]\n",
      "Train - Loss: 0.8907, Acc: 99.71%\n",
      "Val   - Loss: 0.8629, Acc: 97.21%, F1: 97.28%\n",
      "LR: 0.000604, Patience: 10/20\n",
      "----------------------------------------------------------------------\n"
     ]
    },
    {
     "name": "stderr",
     "output_type": "stream",
     "text": [
      "Epoch 52/100 [TRAIN]: 100%|██████████| 43/43 [00:00<00:00, 88.92it/s, Loss=1.0355, Acc=99.63%, LR=0.000587]\n"
     ]
    },
    {
     "name": "stdout",
     "output_type": "stream",
     "text": [
      "Epoch [52/100]\n",
      "Train - Loss: 0.8911, Acc: 99.63%\n",
      "Val   - Loss: 0.8621, Acc: 97.21%, F1: 97.24%\n",
      "LR: 0.000587, Patience: 11/20\n",
      "----------------------------------------------------------------------\n"
     ]
    },
    {
     "name": "stderr",
     "output_type": "stream",
     "text": [
      "Epoch 53/100 [TRAIN]: 100%|██████████| 43/43 [00:00<00:00, 78.41it/s, Loss=1.0267, Acc=99.93%, LR=0.000570]\n"
     ]
    },
    {
     "name": "stdout",
     "output_type": "stream",
     "text": [
      "Epoch [53/100]\n",
      "Train - Loss: 0.8834, Acc: 99.93%\n",
      "Val   - Loss: 0.8629, Acc: 97.21%, F1: 97.25%\n",
      "LR: 0.000570, Patience: 12/20\n",
      "----------------------------------------------------------------------\n"
     ]
    },
    {
     "name": "stderr",
     "output_type": "stream",
     "text": [
      "Epoch 54/100 [TRAIN]: 100%|██████████| 43/43 [00:00<00:00, 88.66it/s, Loss=0.9755, Acc=99.71%, LR=0.000553]\n"
     ]
    },
    {
     "name": "stdout",
     "output_type": "stream",
     "text": [
      "Epoch [54/100]\n",
      "Train - Loss: 0.8848, Acc: 99.71%\n",
      "Val   - Loss: 0.8622, Acc: 97.51%, F1: 97.55%\n",
      "LR: 0.000553, Patience: 13/20\n",
      "----------------------------------------------------------------------\n"
     ]
    },
    {
     "name": "stderr",
     "output_type": "stream",
     "text": [
      "Epoch 55/100 [TRAIN]: 100%|██████████| 43/43 [00:00<00:00, 77.55it/s, Loss=0.9306, Acc=99.85%, LR=0.000535]\n"
     ]
    },
    {
     "name": "stdout",
     "output_type": "stream",
     "text": [
      "Epoch [55/100]\n",
      "Train - Loss: 0.8873, Acc: 99.85%\n",
      "Val   - Loss: 0.8576, Acc: 97.36%, F1: 97.41%\n",
      "LR: 0.000535, Patience: 14/20\n",
      "----------------------------------------------------------------------\n"
     ]
    },
    {
     "name": "stderr",
     "output_type": "stream",
     "text": [
      "Epoch 56/100 [TRAIN]: 100%|██████████| 43/43 [00:00<00:00, 87.10it/s, Loss=0.9941, Acc=99.78%, LR=0.000518]\n"
     ]
    },
    {
     "name": "stdout",
     "output_type": "stream",
     "text": [
      "Epoch [56/100]\n",
      "Train - Loss: 0.8785, Acc: 99.78%\n",
      "Val   - Loss: 0.8578, Acc: 97.65%, F1: 97.69%\n",
      "LR: 0.000518, Patience: 15/20\n",
      "----------------------------------------------------------------------\n"
     ]
    },
    {
     "name": "stderr",
     "output_type": "stream",
     "text": [
      "Epoch 57/100 [TRAIN]: 100%|██████████| 43/43 [00:00<00:00, 84.81it/s, Loss=0.9954, Acc=99.82%, LR=0.000501]\n"
     ]
    },
    {
     "name": "stdout",
     "output_type": "stream",
     "text": [
      "Epoch [57/100]\n",
      "Train - Loss: 0.8797, Acc: 99.82%\n",
      "Val   - Loss: 0.8602, Acc: 97.36%, F1: 97.40%\n",
      "LR: 0.000501, Patience: 16/20\n",
      "----------------------------------------------------------------------\n"
     ]
    },
    {
     "name": "stderr",
     "output_type": "stream",
     "text": [
      "Epoch 58/100 [TRAIN]: 100%|██████████| 43/43 [00:00<00:00, 82.00it/s, Loss=0.9967, Acc=99.85%, LR=0.000483]\n"
     ]
    },
    {
     "name": "stdout",
     "output_type": "stream",
     "text": [
      "Epoch [58/100]\n",
      "Train - Loss: 0.8808, Acc: 99.85%\n",
      "Val   - Loss: 0.8611, Acc: 97.21%, F1: 97.27%\n",
      "LR: 0.000483, Patience: 17/20\n",
      "----------------------------------------------------------------------\n"
     ]
    },
    {
     "name": "stderr",
     "output_type": "stream",
     "text": [
      "Epoch 59/100 [TRAIN]: 100%|██████████| 43/43 [00:00<00:00, 84.65it/s, Loss=1.0769, Acc=99.82%, LR=0.000466]\n"
     ]
    },
    {
     "name": "stdout",
     "output_type": "stream",
     "text": [
      "Epoch [59/100]\n",
      "Train - Loss: 0.8765, Acc: 99.82%\n",
      "Val   - Loss: 0.8571, Acc: 97.51%, F1: 97.54%\n",
      "LR: 0.000466, Patience: 18/20\n",
      "----------------------------------------------------------------------\n"
     ]
    },
    {
     "name": "stderr",
     "output_type": "stream",
     "text": [
      "Epoch 60/100 [TRAIN]: 100%|██████████| 43/43 [00:00<00:00, 63.40it/s, Loss=0.8828, Acc=99.85%, LR=0.000448] \n"
     ]
    },
    {
     "name": "stdout",
     "output_type": "stream",
     "text": [
      "Epoch [60/100]\n",
      "Train - Loss: 0.8828, Acc: 99.85%\n",
      "Val   - Loss: 0.8601, Acc: 97.51%, F1: 97.56%\n",
      "LR: 0.000448, Patience: 19/20\n",
      "----------------------------------------------------------------------\n"
     ]
    },
    {
     "name": "stderr",
     "output_type": "stream",
     "text": [
      "Epoch 61/100 [TRAIN]: 100%|██████████| 43/43 [00:00<00:00, 76.75it/s, Loss=0.8774, Acc=99.85%, LR=0.000431]\n"
     ]
    },
    {
     "name": "stdout",
     "output_type": "stream",
     "text": [
      "🛑 Early stopping after 20 epochs without improvement\n",
      "🔄 Loaded best model with validation accuracy: 97.80%\n",
      "✅ Model saved successfully to: saved_models\\cnn_timeseries_model_20250801_140048.pth\n",
      "📊 Training history saved to: saved_models\\cnn_timeseries_model_20250801_140048_history.json\n",
      "\n",
      "📋 MODEL SAVE SUMMARY:\n",
      "==================================================\n",
      "Model Name:     cnn_timeseries_model_20250801_140048.pth\n",
      "Input Shape:    (50, 28)\n",
      "Classes:        51\n",
      "Parameters:     403,243\n",
      "Scheduler:      warmup_cosine\n",
      "Save Time:      2025-08-01 14:00:48\n",
      "==================================================\n",
      "Found 201 label groups\n",
      "Kept 103 groups after length filtering\n"
     ]
    },
    {
     "name": "stderr",
     "output_type": "stream",
     "text": [
      "Processing sequences: 100%|██████████| 103/103 [00:00<00:00, 1782.30it/s]\n"
     ]
    },
    {
     "name": "stdout",
     "output_type": "stream",
     "text": [
      "Dataset created: 103 sequences of shape torch.Size([103, 50, 28])\n",
      "Classes: 51, Distribution: Counter({np.int64(0): 5, np.int64(6): 2, np.int64(5): 2, np.int64(3): 2, np.int64(42): 2, np.int64(10): 2, np.int64(50): 2, np.int64(24): 2, np.int64(21): 2, np.int64(7): 2, np.int64(12): 2, np.int64(25): 2, np.int64(13): 2, np.int64(23): 2, np.int64(36): 2, np.int64(37): 2, np.int64(18): 2, np.int64(45): 2, np.int64(39): 2, np.int64(31): 2, np.int64(9): 2, np.int64(29): 2, np.int64(49): 2, np.int64(44): 2, np.int64(28): 2, np.int64(33): 2, np.int64(30): 2, np.int64(22): 2, np.int64(41): 2, np.int64(20): 2, np.int64(48): 2, np.int64(40): 2, np.int64(19): 2, np.int64(35): 2, np.int64(1): 2, np.int64(32): 2, np.int64(47): 2, np.int64(26): 2, np.int64(46): 2, np.int64(11): 2, np.int64(15): 2, np.int64(17): 2, np.int64(4): 2, np.int64(34): 2, np.int64(8): 2, np.int64(27): 2, np.int64(38): 2, np.int64(43): 2, np.int64(14): 2, np.int64(2): 1, np.int64(16): 1})\n",
      "✅ Test data loaded: 103 samples\n",
      "🔍 Evaluating CNN model...\n"
     ]
    },
    {
     "name": "stderr",
     "output_type": "stream",
     "text": [
      "Evaluating: 100%|██████████| 2/2 [00:00<00:00, 210.18it/s]\n"
     ]
    },
    {
     "name": "stdout",
     "output_type": "stream",
     "text": [
      "torch.Size([64, 50, 28])\n",
      "torch.Size([39, 50, 28])\n",
      "\n",
      "📊 EVALUATION RESULTS:\n",
      "==================================================\n",
      "Test Loss:      1.0310\n",
      "Accuracy:       76.70%\n",
      "F1 (Macro):     73.27%\n",
      "F1 (Weighted):  73.77%\n",
      "Recall:         76.70%\n",
      "==================================================\n",
      "\n",
      "📋 PER-CLASS BREAKDOWN:\n",
      "nothing        : 60.0% (5 samples)\n",
      "กาแฟ           : 100.0% (2 samples)\n",
      "กิน            : 0.0% (1 samples)\n",
      "ขอบคุณ         : 0.0% (2 samples)\n",
      "คำถาม          : 100.0% (2 samples)\n",
      "คุณ            : 0.0% (2 samples)\n",
      "ฉัน            : 100.0% (2 samples)\n",
      "ชอบ            : 100.0% (2 samples)\n",
      "ช่วย           : 100.0% (2 samples)\n",
      "ดี             : 100.0% (2 samples)\n",
      "ดื่ม           : 100.0% (2 samples)\n",
      "ตอนนี้         : 100.0% (2 samples)\n",
      "ต้องการ        : 0.0% (2 samples)\n",
      "ทำ             : 100.0% (2 samples)\n",
      "ทำงาน          : 0.0% (2 samples)\n",
      "ทีหลัง         : 100.0% (2 samples)\n",
      "ที่นั่น        : 100.0% (1 samples)\n",
      "ที่นี่         : 100.0% (2 samples)\n",
      "นอน            : 100.0% (2 samples)\n",
      "น้ำ            : 100.0% (2 samples)\n",
      "บ้าน           : 100.0% (2 samples)\n",
      "ป่วย           : 100.0% (2 samples)\n",
      "พรุ่งนี้       : 100.0% (2 samples)\n",
      "พูด            : 100.0% (2 samples)\n",
      "มา             : 50.0% (2 samples)\n",
      "มี             : 100.0% (2 samples)\n",
      "รถ             : 100.0% (2 samples)\n",
      "รอ             : 50.0% (2 samples)\n",
      "ร้อน           : 100.0% (2 samples)\n",
      "ร้าย           : 100.0% (2 samples)\n",
      "วันนี้         : 100.0% (2 samples)\n",
      "วิ่ง           : 100.0% (2 samples)\n",
      "หนังสือ        : 50.0% (2 samples)\n",
      "หนาว           : 100.0% (2 samples)\n",
      "อันตราย        : 100.0% (2 samples)\n",
      "อาหาร          : 50.0% (2 samples)\n",
      "อ่าน           : 100.0% (2 samples)\n",
      "เขียน          : 100.0% (2 samples)\n",
      "เข้าใจ         : 0.0% (2 samples)\n",
      "เดิน           : 100.0% (2 samples)\n",
      "เพื่อน         : 100.0% (2 samples)\n",
      "เมื่อวาน       : 50.0% (2 samples)\n",
      "เรา            : 50.0% (2 samples)\n",
      "เรียน          : 50.0% (2 samples)\n",
      "เล็ก           : 50.0% (2 samples)\n",
      "เล่น           : 50.0% (2 samples)\n",
      "เวลา           : 100.0% (2 samples)\n",
      "โทรศัพท์       : 100.0% (2 samples)\n",
      "โรงเรียน       : 100.0% (2 samples)\n",
      "ใหญ่           : 50.0% (2 samples)\n",
      "ไป             : 50.0% (2 samples)\n",
      "\n",
      "📈 DETAILED CLASSIFICATION REPORT:\n",
      "              precision    recall  f1-score   support\n",
      "\n",
      "     nothing       1.00      0.60      0.75         5\n",
      "        กาแฟ       1.00      1.00      1.00         2\n",
      "         กิน       0.00      0.00      0.00         1\n",
      "      ขอบคุณ       0.00      0.00      0.00         2\n",
      "       คำถาม       1.00      1.00      1.00         2\n",
      "         คุณ       0.00      0.00      0.00         2\n",
      "         ฉัน       0.50      1.00      0.67         2\n",
      "         ชอบ       1.00      1.00      1.00         2\n",
      "        ช่วย       0.67      1.00      0.80         2\n",
      "          ดี       1.00      1.00      1.00         2\n",
      "        ดื่ม       0.67      1.00      0.80         2\n",
      "      ตอนนี้       1.00      1.00      1.00         2\n",
      "     ต้องการ       0.00      0.00      0.00         2\n",
      "          ทำ       0.40      1.00      0.57         2\n",
      "       ทำงาน       0.00      0.00      0.00         2\n",
      "      ทีหลัง       1.00      1.00      1.00         2\n",
      "     ที่นั่น       1.00      1.00      1.00         1\n",
      "      ที่นี่       1.00      1.00      1.00         2\n",
      "         นอน       1.00      1.00      1.00         2\n",
      "         น้ำ       0.50      1.00      0.67         2\n",
      "        บ้าน       0.67      1.00      0.80         2\n",
      "        ป่วย       1.00      1.00      1.00         2\n",
      "    พรุ่งนี้       1.00      1.00      1.00         2\n",
      "         พูด       1.00      1.00      1.00         2\n",
      "          มา       1.00      0.50      0.67         2\n",
      "          มี       0.67      1.00      0.80         2\n",
      "          รถ       1.00      1.00      1.00         2\n",
      "          รอ       1.00      0.50      0.67         2\n",
      "        ร้อน       1.00      1.00      1.00         2\n",
      "        ร้าย       1.00      1.00      1.00         2\n",
      "      วันนี้       1.00      1.00      1.00         2\n",
      "        วิ่ง       0.33      1.00      0.50         2\n",
      "     หนังสือ       1.00      0.50      0.67         2\n",
      "        หนาว       1.00      1.00      1.00         2\n",
      "     อันตราย       1.00      1.00      1.00         2\n",
      "       อาหาร       1.00      0.50      0.67         2\n",
      "        อ่าน       0.67      1.00      0.80         2\n",
      "       เขียน       0.67      1.00      0.80         2\n",
      "      เข้าใจ       0.00      0.00      0.00         2\n",
      "        เดิน       0.29      1.00      0.44         2\n",
      "      เพื่อน       1.00      1.00      1.00         2\n",
      "    เมื่อวาน       1.00      0.50      0.67         2\n",
      "         เรา       1.00      0.50      0.67         2\n",
      "       เรียน       1.00      0.50      0.67         2\n",
      "        เล็ก       1.00      0.50      0.67         2\n",
      "        เล่น       1.00      0.50      0.67         2\n",
      "        เวลา       1.00      1.00      1.00         2\n",
      "    โทรศัพท์       0.67      1.00      0.80         2\n",
      "    โรงเรียน       1.00      1.00      1.00         2\n",
      "        ใหญ่       0.50      0.50      0.50         2\n",
      "          ไป       1.00      0.50      0.67         2\n",
      "\n",
      "    accuracy                           0.77       103\n",
      "   macro avg       0.77      0.77      0.73       103\n",
      "weighted avg       0.78      0.77      0.74       103\n",
      "\n",
      "📊 Evaluation results saved to: saved_models\\cnn_timeseries_model_20250801_140048_evaluation.json\n"
     ]
    },
    {
     "data": {
      "image/png": "[encoded data removed]",
      "text/plain": [
       "<Figure size 1800x1000 with 6 Axes>"
      ]
     },
     "metadata": {},
     "output_type": "display_data"
    },
    {
     "name": "stdout",
     "output_type": "stream",
     "text": [
      "\n",
      "======================================================================\n",
      "🔄 EXAMPLE: Loading the saved model\n",
      "======================================================================\n",
      "✅ Model loaded successfully from: saved_models\\cnn_timeseries_model_20250801_140048.pth\n",
      "📊 Model Info:\n",
      "   Input Shape: (50, 28)\n",
      "   Classes: 51\n",
      "   Class Names: ['nothing', 'กาแฟ', 'กิน', 'ขอบคุณ', 'คำถาม', 'คุณ', 'ฉัน', 'ชอบ', 'ช่วย', 'ดี', 'ดื่ม', 'ตอนนี้', 'ต้องการ', 'ทำ', 'ทำงาน', 'ทีหลัง', 'ที่นั่น', 'ที่นี่', 'นอน', 'น้ำ', 'บ้าน', 'ป่วย', 'พรุ่งนี้', 'พูด', 'มา', 'มี', 'รถ', 'รอ', 'ร้อน', 'ร้าย', 'วันนี้', 'วิ่ง', 'หนังสือ', 'หนาว', 'อันตราย', 'อาหาร', 'อ่าน', 'เขียน', 'เข้าใจ', 'เดิน', 'เพื่อน', 'เมื่อวาน', 'เรา', 'เรียน', 'เล็ก', 'เล่น', 'เวลา', 'โทรศัพท์', 'โรงเรียน', 'ใหญ่', 'ไป']\n",
      "🏆 Training Info:\n",
      "   Final Val Acc: 97.36070381231671\n",
      "   Scheduler: warmup_cosine\n",
      "   Total Epochs: 61\n",
      "✅ Model loaded successfully! You can now use it for inference.\n",
      "\n",
      "📋 Usage example:\n",
      "```python\n",
      "model, label_encoder, dataset_info, training_info = load_model('saved_models\\cnn_timeseries_model_20250801_140048.pth')\n",
      "# Use the loaded model for predictions\n",
      "model.eval()\n",
      "with torch.no_grad():\n",
      "    predictions = model(your_input_data)\n",
      "```\n"
     ]
    }
   ],
   "source": [
    "import torch\n",
    "import torch.nn as nn\n",
    "import torch.optim as optim\n",
    "from torch.utils.data import DataLoader, TensorDataset, Dataset, Subset\n",
    "import numpy as np\n",
    "from sklearn.model_selection import train_test_split\n",
    "from sklearn.preprocessing import StandardScaler, LabelEncoder\n",
    "import pandas as pd\n",
    "import json\n",
    "from tqdm import tqdm\n",
    "import matplotlib.pyplot as plt\n",
    "import random\n",
    "from collections import Counter\n",
    "from sklearn.metrics import f1_score, recall_score, accuracy_score, classification_report\n",
    "import math\n",
    "import warnings\n",
    "import os\n",
    "from datetime import datetime\n",
    "warnings.filterwarnings('ignore')\n",
    "\n",
    "class CNNTimeSeriesClassifier(nn.Module):\n",
    "    def __init__(self, input_shape, n_classes, dropout=0.3):\n",
    "        \"\"\"\n",
    "        CNN-based Time Series Classifier following your architecture diagram\n",
    "        \n",
    "        Args:\n",
    "            input_shape: Tuple (sequence_length, n_features) - e.g., (121, 21)\n",
    "            n_classes: Number of output classes\n",
    "            dropout: Dropout rate\n",
    "        \"\"\"\n",
    "        super(CNNTimeSeriesClassifier, self).__init__()\n",
    "        \n",
    "        seq_len, n_features = input_shape\n",
    "        self.input_shape = input_shape\n",
    "        self.n_classes = n_classes\n",
    "        self.dropout_rate = dropout\n",
    "        \n",
    "        # Input normalization layer\n",
    "        self.normalization = nn.BatchNorm1d(n_features)\n",
    "        \n",
    "        # Reshape for 2D convolution: (batch, channels, height, width)\n",
    "        # We'll treat sequence as height and features as width, with 1 channel\n",
    "        # Input shape: (None, 1, seq_len, n_features) - e.g., (None, 1, 121, 21)\n",
    "        # First Conv2D block\n",
    "        self.conv1 = nn.Conv2d(\n",
    "            in_channels=1, \n",
    "            out_channels=32, \n",
    "            kernel_size=(3, 3), \n",
    "            padding=1\n",
    "        )\n",
    "        self.pool1 = nn.MaxPool2d(kernel_size=(2, 2), stride=(2, 2))\n",
    "        \n",
    "        # Calculate shape after first conv+pool\n",
    "        # After conv1: (None, 32, 121, 21) -> (None, 32, 119, 19) with padding=1\n",
    "        # After pool1: (None, 32, 119, 19) -> (None, 32, 59, 9)\n",
    "        h1, w1 = seq_len // 2, n_features // 2\n",
    "        \n",
    "        # Second Conv2D block\n",
    "        self.conv2 = nn.Conv2d(\n",
    "            in_channels=32, \n",
    "            out_channels=64, \n",
    "            kernel_size=(3, 3), \n",
    "            padding=1\n",
    "        )\n",
    "        self.pool2 = nn.MaxPool2d(kernel_size=(2, 2), stride=(2, 2))\n",
    "        \n",
    "        # Calculate shape after second conv+pool\n",
    "        # After conv2: (None, 64, 59, 9) -> (None, 64, 57, 7) with padding=1\n",
    "        # After pool2: (None, 64, 57, 7) -> (None, 64, 28, 3)\n",
    "        h2, w2 = h1 // 2, w1 // 2\n",
    "        \n",
    "        # Third Conv2D block\n",
    "        self.conv3 = nn.Conv2d(\n",
    "            in_channels=64, \n",
    "            out_channels=64, \n",
    "            kernel_size=(3, 3), \n",
    "            padding=1\n",
    "        )\n",
    "        \n",
    "        # Calculate final conv output shape\n",
    "        # After conv3: (None, 64, 28, 3) -> (None, 64, 26, 1) with padding=1\n",
    "        h3, w3 = h2, w2\n",
    "        \n",
    "        # Calculate flattened size dynamically\n",
    "        self.flatten_size = 64 * h3 * w3\n",
    "        \n",
    "        # Fully connected layers\n",
    "        self.fc1 = nn.Linear(self.flatten_size, 64)\n",
    "        self.fc2 = nn.Linear(64, n_classes)\n",
    "        \n",
    "        # Activation and regularization\n",
    "        self.relu = nn.ReLU()\n",
    "        self.dropout = nn.Dropout(dropout)\n",
    "        \n",
    "        # Initialize weights\n",
    "        self._init_weights()\n",
    "    \n",
    "    def _init_weights(self):\n",
    "        \"\"\"Initialize model weights properly\"\"\"\n",
    "        for module in self.modules():\n",
    "            if isinstance(module, nn.Conv2d):\n",
    "                nn.init.kaiming_normal_(module.weight, mode='fan_out', nonlinearity='relu')\n",
    "                if module.bias is not None:\n",
    "                    nn.init.zeros_(module.bias)\n",
    "            elif isinstance(module, nn.Linear):\n",
    "                nn.init.xavier_uniform_(module.weight)\n",
    "                if module.bias is not None:\n",
    "                    nn.init.zeros_(module.bias)\n",
    "            elif isinstance(module, nn.BatchNorm1d):\n",
    "                nn.init.ones_(module.weight)\n",
    "                nn.init.zeros_(module.bias)\n",
    "    \n",
    "    def forward(self, x):\n",
    "        # Input shape: (batch_size, seq_len, n_features)\n",
    "        batch_size = x.size(0)\n",
    "        \n",
    "        # Normalize along feature dimension\n",
    "        # Reshape for BatchNorm1d: (batch_size * seq_len, n_features)\n",
    "        x_norm = x.view(-1, x.size(2))\n",
    "        x_norm = self.normalization(x_norm)\n",
    "        x = x_norm.view(batch_size, x.size(1), x.size(2))\n",
    "        \n",
    "        # Reshape for 2D convolution: (batch_size, 1, seq_len, n_features)\n",
    "        x = x.unsqueeze(1)\n",
    "        \n",
    "        # First Conv2D + MaxPool2D\n",
    "        x = self.conv1(x)\n",
    "        x = self.relu(x)\n",
    "        x = self.pool1(x)\n",
    "        \n",
    "        # Second Conv2D + MaxPool2D\n",
    "        x = self.conv2(x)\n",
    "        x = self.relu(x)\n",
    "        x = self.pool2(x)\n",
    "        \n",
    "        # Third Conv2D\n",
    "        x = self.conv3(x)\n",
    "        x = self.relu(x)\n",
    "        \n",
    "        # Flatten\n",
    "        x = x.view(batch_size, -1)\n",
    "        \n",
    "        # First Dense layer\n",
    "        x = self.fc1(x)\n",
    "        x = self.relu(x)\n",
    "        x = self.dropout(x)\n",
    "        \n",
    "        # Second Dense layer (output)\n",
    "        x = self.fc2(x)\n",
    "        \n",
    "        return x\n",
    "    \n",
    "    def get_config(self):\n",
    "        \"\"\"Return model configuration for saving\"\"\"\n",
    "        return {\n",
    "            'input_shape': self.input_shape,\n",
    "            'n_classes': self.n_classes,\n",
    "            'dropout': self.dropout_rate,\n",
    "            'flatten_size': self.flatten_size\n",
    "        }\n",
    "\n",
    "class ImprovedCustomDataset(Dataset):\n",
    "    def __init__(self, dataframe, chunk_size=121, label_encoder=None, is_test=False, \n",
    "                 balance_classes=True, min_sequence_length=50):\n",
    "        \"\"\"\n",
    "        Improved dataset class for CNN time series classification\n",
    "        \n",
    "        Args:\n",
    "            dataframe: Input dataframe\n",
    "            chunk_size: Sequence length for time series (121 to match your diagram)\n",
    "            label_encoder: Pre-fitted label encoder (for test data)\n",
    "            is_test: Whether this is test data\n",
    "            balance_classes: Whether to balance classes\n",
    "            min_sequence_length: Minimum sequence length to keep\n",
    "        \"\"\"\n",
    "        self.chunk_size = chunk_size\n",
    "        self.min_sequence_length = min_sequence_length\n",
    "        \n",
    "        # Clean data\n",
    "        self.data = dataframe.copy()\n",
    "        self.data = self.data[~self.data.Label.isin([\"cooldown\", \"error_redo\", \"break_time\"])]\n",
    "        \n",
    "        # Handle label encoding\n",
    "        if label_encoder is None:\n",
    "            self.label_encoder = LabelEncoder()\n",
    "            self.data[\"Label\"] = self.label_encoder.fit_transform(self.data[\"Label\"])\n",
    "        else:\n",
    "            self.label_encoder = label_encoder\n",
    "            # Handle unseen labels in test data\n",
    "            known_labels = set(label_encoder.classes_)\n",
    "            mask = self.data[\"Label\"].isin(known_labels)\n",
    "            if not mask.all():\n",
    "                print(f\"Warning: Removing {(~mask).sum()} samples with unknown labels\")\n",
    "                self.data = self.data[mask]\n",
    "            self.data[\"Label\"] = label_encoder.transform(self.data[\"Label\"])\n",
    "        \n",
    "        self.n_classes = len(self.label_encoder.classes_)\n",
    "        \n",
    "        # Remove timestamp if present\n",
    "        if \"timestamp_ms\" in self.data.columns:\n",
    "            self.data = self.data.drop(columns=[\"timestamp_ms\"])\n",
    "        \n",
    "        # Convert to sequences\n",
    "        self.sequences, self.labels = self._create_sequences()\n",
    "        \n",
    "        # Balance classes if requested and not test data\n",
    "        if balance_classes and not is_test:\n",
    "            self.sequences, self.labels = self._balance_classes()\n",
    "        \n",
    "        print(f\"Dataset created: {len(self.sequences)} sequences of shape {self.sequences.shape}\")\n",
    "        print(f\"Classes: {self.n_classes}, Distribution: {Counter(self.labels.numpy())}\")\n",
    "    \n",
    "    def _create_sequences(self):\n",
    "        \"\"\"Create sequences from grouped data\"\"\"\n",
    "        # Group by consecutive labels\n",
    "        self.data['group_id'] = (self.data['Label'] != self.data['Label'].shift()).cumsum()\n",
    "        grouped_data = [group.drop('group_id', axis=1) for _, group in self.data.groupby('group_id')]\n",
    "        \n",
    "        print(f\"Found {len(grouped_data)} label groups\")\n",
    "        \n",
    "        # Filter by minimum length\n",
    "        valid_groups = [group for group in grouped_data if len(group) >= self.min_sequence_length]\n",
    "        print(f\"Kept {len(valid_groups)} groups after length filtering\")\n",
    "        \n",
    "        sequences = []\n",
    "        labels = []\n",
    "        \n",
    "        for group in tqdm(valid_groups, desc=\"Processing sequences\"):\n",
    "            # Separate features and labels\n",
    "            features = group.drop('Label', axis=1).values\n",
    "            group_labels = group['Label'].values\n",
    "            \n",
    "            # Get the most common label in the sequence\n",
    "            most_common_label = Counter(group_labels).most_common(1)[0][0]\n",
    "            \n",
    "            # Create fixed-length sequence\n",
    "            if len(features) >= self.chunk_size:\n",
    "                # If longer than chunk_size, use uniform sampling\n",
    "                indices = np.linspace(0, len(features)-1, self.chunk_size, dtype=int)\n",
    "                sequence = features[indices]\n",
    "            else:\n",
    "                # If shorter, pad with zeros at the end\n",
    "                sequence = np.zeros((self.chunk_size, features.shape[1]))\n",
    "                sequence[:len(features)] = features\n",
    "            \n",
    "            sequences.append(sequence)\n",
    "            labels.append(most_common_label)\n",
    "        \n",
    "        return torch.FloatTensor(sequences), torch.LongTensor(labels)\n",
    "    \n",
    "    def _balance_classes(self):\n",
    "        \"\"\"Balance classes by undersampling majority classes\"\"\"\n",
    "        # Get class counts\n",
    "        unique_labels, counts = torch.unique(self.labels, return_counts=True)\n",
    "        min_count = counts.min().item()\n",
    "        \n",
    "        print(f\"Balancing classes to {min_count} samples each\")\n",
    "        \n",
    "        balanced_sequences = []\n",
    "        balanced_labels = []\n",
    "        \n",
    "        for label in unique_labels:\n",
    "            # Get indices for this class\n",
    "            class_indices = (self.labels == label).nonzero(as_tuple=True)[0]\n",
    "            \n",
    "            # Sample min_count indices\n",
    "            if len(class_indices) > min_count:\n",
    "                sampled_indices = class_indices[torch.randperm(len(class_indices))[:min_count]]\n",
    "            else:\n",
    "                sampled_indices = class_indices\n",
    "            \n",
    "            balanced_sequences.append(self.sequences[sampled_indices])\n",
    "            balanced_labels.append(self.labels[sampled_indices])\n",
    "        \n",
    "        return torch.cat(balanced_sequences), torch.cat(balanced_labels)\n",
    "    \n",
    "    def __len__(self):\n",
    "        return len(self.sequences)\n",
    "    \n",
    "    def __getitem__(self, idx):\n",
    "        return self.sequences[idx], self.labels[idx]\n",
    "    \n",
    "    def get_info(self):\n",
    "        \"\"\"Return dataset information\"\"\"\n",
    "        return {\n",
    "            'n_samples': len(self.sequences),\n",
    "            'sequence_length': self.chunk_size,\n",
    "            'n_features': self.sequences.shape[2],\n",
    "            'n_classes': self.n_classes,\n",
    "            'label_encoder': self.label_encoder,\n",
    "            'class_names': self.label_encoder.classes_,\n",
    "            'input_shape': (self.chunk_size, self.sequences.shape[2])\n",
    "        }\n",
    "\n",
    "# Your existing CustomDataset class (keeping it as is)\n",
    "class CustomDataset(Dataset):\n",
    "    def __init__(self,\n",
    "                 chunk = 100,\n",
    "                 dataframe=None,\n",
    "                 isLabelEncoder=False,\n",
    "                 Label = None):\n",
    "        \n",
    "        self._data_csv = dataframe\n",
    "        self._data_csv = self._data_csv[~(self._data_csv.Label.isin([ \"cooldown\",\"error_redo\",\"break_time\",]))]\n",
    "        if isLabelEncoder:\n",
    "            label_encoder = Label\n",
    "        else:\n",
    "            label_encoder = LabelEncoder()\n",
    "\n",
    "        self._data_csv[\"Label\"] = label_encoder.fit_transform(self._data_csv[\"Label\"])\n",
    "        num_classes = len(label_encoder.classes_)\n",
    "        self.label_encoder = label_encoder\n",
    "        self._data_csv = self._data_csv.drop(columns=[\"timestamp_ms\"])\n",
    "        self.train_data = self.convert_data_csv_train(self._data_csv,segment=chunk,range_data=25)\n",
    "        \n",
    "        fity = []\n",
    "        normal =[]\n",
    "        for i in self.train_data:\n",
    "            if int(i[:,-1][-1]) == 0:\n",
    "                fity.append(i)\n",
    "            else:\n",
    "                normal.append(i)\n",
    "      \n",
    "        fity = random.sample(fity,int(len(fity) * 0.5))\n",
    "        normal.extend(fity)\n",
    "        self.train_data = normal\n",
    "        self.nums  = len(self.train_data)\n",
    "        self.answer_transform = []\n",
    "    \n",
    "        self.train_data = torch.tensor([i.tolist() for i in self.train_data])\n",
    "        \n",
    "        # one-hot \n",
    "        for i in range(0,len(self.train_data)):\n",
    "            dummy = torch.zeros(num_classes)\n",
    "            ct = Counter(self.train_data[i][:,-1].tolist()).most_common()\n",
    "            if len(ct) == 2 and ct[0][0] ==0:\n",
    "                idx,count = Counter(self.train_data[i][:,-1].tolist()).most_common()[1]\n",
    "            else:\n",
    "                idx,count = Counter(self.train_data[i][:,-1].tolist()).most_common()[0]\n",
    "            \n",
    "            dummy[int(idx)] = 1\n",
    "            self.answer_transform.append(dummy)\n",
    "        \n",
    "        self.train_data = self.train_data[:,:,:-1]\n",
    "        self.nums , self.segment, self.input = self.train_data.size()\n",
    "        \n",
    "    def __getitem__(self, index):\n",
    "        inputs = self.train_data[index]\n",
    "        answer = self.answer_transform[index]\n",
    "        \n",
    "        if torch.cuda.is_available():\n",
    "            return inputs.to(torch.float32).to(\"cuda\"),answer.to(\"cuda\")\n",
    "        else:\n",
    "            return inputs.to(torch.float32),answer\n",
    "        \n",
    "    def __len__(self):\n",
    "        return self.nums\n",
    "    \n",
    "    def data_info(self):\n",
    "        return self.nums,self.segment,self.input,self.train_data,self.label_encoder\n",
    "    \n",
    "    def convert_data_csv_train(self,data,segment=50,range_data = 0):\n",
    "        data['group_id'] = (data['Label'] != data['Label'].shift()).cumsum()\n",
    "        grouped_dfs = [g.drop(columns='group_id').values for _, g in data.groupby('group_id')]\n",
    "        \n",
    "        print(\"len(data): \",len(grouped_dfs))\n",
    "        print(\"filter Value\")\n",
    "        all_data = []\n",
    "        for i in tqdm(grouped_dfs,total = len(grouped_dfs)):\n",
    "            if len(i) > range_data:\n",
    "                all_data.append(i)\n",
    "\n",
    "        print(\"pad&mean Value\")\n",
    "        real = []\n",
    "        for i in tqdm(all_data,total = len(all_data)):\n",
    "            segment = segment\n",
    "\n",
    "            if len(i) < segment:\n",
    "                tensor_df = (torch.tensor(i))\n",
    "                n,b = tensor_df.size()\n",
    "                padded_tensor = torch.nn.functional.pad(tensor_df, pad=(0, 0, segment-n, 0), mode='constant', value=0)\n",
    "                real.append(padded_tensor.tolist())\n",
    "            else:\n",
    "                step = int(np.ceil(len(i)//segment))\n",
    "                temp = []\n",
    "                for k in range(segment):\n",
    "                    temp.append(torch.mean(torch.tensor(i[k*step:(k+1)*step]),dim=0).tolist())\n",
    "                real.append(temp)\n",
    "\n",
    "        train_data = torch.tensor(real)\n",
    "        return train_data\n",
    "    \n",
    "class WarmupCosineScheduler:\n",
    "    \"\"\"Custom warmup + cosine annealing scheduler\"\"\"\n",
    "    def __init__(self, optimizer, warmup_epochs, total_epochs, min_lr=1e-6):\n",
    "        self.optimizer = optimizer\n",
    "        self.warmup_epochs = warmup_epochs\n",
    "        self.total_epochs = total_epochs\n",
    "        self.min_lr = min_lr\n",
    "        self.base_lr = optimizer.param_groups[0]['lr']\n",
    "        self.current_epoch = 0\n",
    "    \n",
    "    def step(self):\n",
    "        if self.current_epoch < self.warmup_epochs:\n",
    "            # Linear warmup\n",
    "            lr = self.base_lr * (self.current_epoch / self.warmup_epochs)\n",
    "        else:\n",
    "            # Cosine annealing\n",
    "            progress = (self.current_epoch - self.warmup_epochs) / (self.total_epochs - self.warmup_epochs)\n",
    "            lr = self.min_lr + (self.base_lr - self.min_lr) * 0.5 * (1 + math.cos(math.pi * progress))\n",
    "        \n",
    "        for param_group in self.optimizer.param_groups:\n",
    "            param_group['lr'] = lr\n",
    "        \n",
    "        self.current_epoch += 1\n",
    "        return lr\n",
    "\n",
    "def save_model(model, label_encoder, dataset_info, history, scheduler_type, \n",
    "               save_dir='models', model_name=None):\n",
    "    \"\"\"\n",
    "    Save the trained model with all necessary information\n",
    "    \n",
    "    Args:\n",
    "        model: Trained PyTorch model\n",
    "        label_encoder: Fitted label encoder\n",
    "        dataset_info: Dataset information dictionary\n",
    "        history: Training history\n",
    "        scheduler_type: Type of scheduler used\n",
    "        save_dir: Directory to save the model\n",
    "        model_name: Custom model name (optional)\n",
    "    \"\"\"\n",
    "    # Create save directory if it doesn't exist\n",
    "    os.makedirs(save_dir, exist_ok=True)\n",
    "    \n",
    "    # Generate model name if not provided\n",
    "    if model_name is None:\n",
    "        timestamp = datetime.now().strftime(\"%Y%m%d_%H%M%S\")\n",
    "        model_name = f\"cnn_timeseries_model_{timestamp}\"\n",
    "    \n",
    "    # Ensure .pth extension\n",
    "    if not model_name.endswith('.pth'):\n",
    "        model_name += '.pth'\n",
    "    \n",
    "    model_path = os.path.join(save_dir, model_name)\n",
    "    \n",
    "    # Get model configuration\n",
    "    model_config = model.get_config()\n",
    "    \n",
    "    # Prepare save dictionary\n",
    "    save_dict = {\n",
    "        'model_state_dict': model.state_dict(),\n",
    "        'model_config': model_config,\n",
    "        'label_encoder': label_encoder,\n",
    "        'dataset_info': {\n",
    "            'n_samples': dataset_info['n_samples'],\n",
    "            'sequence_length': dataset_info['sequence_length'],\n",
    "            'n_features': dataset_info['n_features'],\n",
    "            'n_classes': dataset_info['n_classes'],\n",
    "            'class_names': list(dataset_info['class_names']),\n",
    "            'input_shape': dataset_info['input_shape']\n",
    "        },\n",
    "        'training_info': {\n",
    "            'scheduler_used': scheduler_type,\n",
    "            'final_train_acc': history['train_acc'][-1] if history['train_acc'] else None,\n",
    "            'final_val_acc': history['val_acc'][-1] if 'val_acc' in history and history['val_acc'] else None,\n",
    "            'final_train_loss': history['train_loss'][-1] if history['train_loss'] else None,\n",
    "            'final_val_loss': history['val_loss'][-1] if 'val_loss' in history and history['val_loss'] else None,\n",
    "            'total_epochs': len(history['train_loss']) if history['train_loss'] else 0\n",
    "        },\n",
    "        'training_history': history,\n",
    "        'save_timestamp': datetime.now().isoformat(),\n",
    "        'pytorch_version': torch.__version__\n",
    "    }\n",
    "    \n",
    "    # Save the model\n",
    "    try:\n",
    "        torch.save(save_dict, model_path)\n",
    "        print(f\"✅ Model saved successfully to: {model_path}\")\n",
    "        \n",
    "        # Save training history as JSON for easy inspection\n",
    "        history_path = model_path.replace('.pth', '_history.json')\n",
    "        with open(history_path, 'w') as f:\n",
    "            # Convert numpy arrays to lists for JSON serialization\n",
    "            json_history = {}\n",
    "            for key, value in history.items():\n",
    "                if isinstance(value, list):\n",
    "                    json_history[key] = value\n",
    "                else:\n",
    "                    json_history[key] = str(value)\n",
    "            json.dump(json_history, f, indent=2)\n",
    "        print(f\"📊 Training history saved to: {history_path}\")\n",
    "        \n",
    "        # Print model summary\n",
    "        print(f\"\\n📋 MODEL SAVE SUMMARY:\")\n",
    "        print(f\"{'='*50}\")\n",
    "        print(f\"Model Name:     {model_name}\")\n",
    "        print(f\"Input Shape:    {model_config['input_shape']}\")\n",
    "        print(f\"Classes:        {model_config['n_classes']}\")\n",
    "        print(f\"Parameters:     {sum(p.numel() for p in model.parameters()):,}\")\n",
    "        print(f\"Scheduler:      {scheduler_type}\")\n",
    "        print(f\"Save Time:      {datetime.now().strftime('%Y-%m-%d %H:%M:%S')}\")\n",
    "        print(f\"{'='*50}\")\n",
    "        \n",
    "        return model_path\n",
    "        \n",
    "    except Exception as e:\n",
    "        print(f\"❌ Error saving model: {str(e)}\")\n",
    "        return None\n",
    "\n",
    "def load_model(model_path, device='cuda'):\n",
    "    \"\"\"\n",
    "    Load a saved model\n",
    "    \n",
    "    Args:\n",
    "        model_path: Path to the saved model file\n",
    "        device: Device to load the model on\n",
    "        \n",
    "    Returns:\n",
    "        tuple: (model, label_encoder, dataset_info, training_info)\n",
    "    \"\"\"\n",
    "    try:\n",
    "        # Load the saved dictionary\n",
    "        checkpoint = torch.load(model_path, map_location=device,weights_only=False)\n",
    "        \n",
    "        # Extract information\n",
    "        model_config = checkpoint['model_config']\n",
    "        label_encoder = checkpoint['label_encoder']\n",
    "        dataset_info = checkpoint['dataset_info']\n",
    "        training_info = checkpoint.get('training_info', {})\n",
    "        \n",
    "        # Recreate the model\n",
    "        model = CNNTimeSeriesClassifier(\n",
    "            input_shape=model_config['input_shape'],\n",
    "            n_classes=model_config['n_classes'],\n",
    "            dropout=model_config['dropout']\n",
    "        )\n",
    "        \n",
    "        # Load the state dict\n",
    "        model.load_state_dict(checkpoint['model_state_dict'],False)\n",
    "        model.to(device)\n",
    "        model.eval()\n",
    "        \n",
    "        print(f\"✅ Model loaded successfully from: {model_path}\")\n",
    "        print(f\"📊 Model Info:\")\n",
    "        print(f\"   Input Shape: {model_config['input_shape']}\")\n",
    "        print(f\"   Classes: {model_config['n_classes']}\")\n",
    "        print(f\"   Class Names: {dataset_info['class_names']}\")\n",
    "        \n",
    "        if training_info:\n",
    "            print(f\"🏆 Training Info:\")\n",
    "            print(f\"   Final Val Acc: {training_info.get('final_val_acc', 'N/A')}\")\n",
    "            print(f\"   Scheduler: {training_info.get('scheduler_used', 'N/A')}\")\n",
    "            print(f\"   Total Epochs: {training_info.get('total_epochs', 'N/A')}\")\n",
    "        \n",
    "        return model, label_encoder, dataset_info, training_info\n",
    "        \n",
    "    except Exception as e:\n",
    "        print(f\"❌ Error loading model: {str(e)}\")\n",
    "        return None, None, None, None\n",
    "\n",
    "def train_model(model, train_loader, val_loader=None, num_epochs=100, learning_rate=0.001, \n",
    "                device='cuda', scheduler_type='warmup_cosine', patience=20, save_best=True,\n",
    "                save_dir='models', model_name=None):\n",
    "    \"\"\"\n",
    "    Training function for CNN time series classifier with model saving\n",
    "    \"\"\"\n",
    "    model = model.to(device)\n",
    "    \n",
    "    # Loss function for multi-class classification\n",
    "    criterion = nn.CrossEntropyLoss(label_smoothing=0.1)\n",
    "    \n",
    "    # Optimizer with weight decay\n",
    "    optimizer = optim.AdamW(model.parameters(), lr=learning_rate, weight_decay=1e-4)\n",
    "    \n",
    "    # Scheduler setup\n",
    "    if scheduler_type == 'warmup_cosine':\n",
    "        warmup_epochs = max(1, num_epochs // 10)\n",
    "        scheduler = WarmupCosineScheduler(optimizer, warmup_epochs, num_epochs)\n",
    "    elif scheduler_type == 'cosine_restart':\n",
    "        scheduler = optim.lr_scheduler.CosineAnnealingWarmRestarts(\n",
    "            optimizer, T_0=10, T_mult=2, eta_min=1e-6\n",
    "        )\n",
    "    elif scheduler_type == 'reduce_plateau':\n",
    "        scheduler = optim.lr_scheduler.ReduceLROnPlateau(\n",
    "            optimizer, 'min', patience=10, min_lr=1e-6, factor=0.5, verbose=True\n",
    "        )\n",
    "    \n",
    "    # Training history\n",
    "    history = {\n",
    "        'train_loss': [], 'train_acc': [],\n",
    "        'val_loss': [], 'val_acc': [], 'val_f1': [],\n",
    "        'learning_rates': []\n",
    "    }\n",
    "    \n",
    "    # Early stopping\n",
    "    best_val_acc = 0.0\n",
    "    best_model_state = None\n",
    "    patience_counter = 0\n",
    "    \n",
    "    print(f\"🚀 Starting CNN training on {device}\")\n",
    "    print(f\"📊 Scheduler: {scheduler_type}, Epochs: {num_epochs}, LR: {learning_rate}\")\n",
    "    \n",
    "    for epoch in range(num_epochs):\n",
    "        # Training phase\n",
    "        model.train()\n",
    "        train_loss = 0.0\n",
    "        train_correct = 0\n",
    "        train_total = 0\n",
    "        \n",
    "        train_pbar = tqdm(train_loader, desc=f'Epoch {epoch+1}/{num_epochs} [TRAIN]')\n",
    "        for batch_x, batch_y in train_pbar:\n",
    "            batch_x, batch_y = batch_x.to(device), batch_y.to(device)\n",
    "            # print(batch_x.size())\n",
    "            optimizer.zero_grad()\n",
    "            outputs = model(batch_x)\n",
    "            loss = criterion(outputs, batch_y)\n",
    "            loss.backward()\n",
    "            \n",
    "            # Gradient clipping\n",
    "            torch.nn.utils.clip_grad_norm_(model.parameters(), max_norm=1.0)\n",
    "            \n",
    "            optimizer.step()\n",
    "            \n",
    "            train_loss += loss.item()\n",
    "            _, predicted = torch.max(outputs.data, 1)\n",
    "            train_total += batch_y.size(0)\n",
    "            train_correct += (predicted == batch_y).sum().item()\n",
    "            \n",
    "            # Update progress bar\n",
    "            train_pbar.set_postfix({\n",
    "                'Loss': f'{train_loss/(train_pbar.n+1):.4f}',\n",
    "                'Acc': f'{100*train_correct/train_total:.2f}%',\n",
    "                'LR': f'{optimizer.param_groups[0][\"lr\"]:.6f}'\n",
    "            })\n",
    "        \n",
    "        # Calculate training metrics\n",
    "        avg_train_loss = train_loss / len(train_loader)\n",
    "        train_accuracy = 100 * train_correct / train_total\n",
    "        current_lr = optimizer.param_groups[0]['lr']\n",
    "        \n",
    "        history['train_loss'].append(avg_train_loss)\n",
    "        history['train_acc'].append(train_accuracy)\n",
    "        history['learning_rates'].append(current_lr)\n",
    "        \n",
    "        # Validation phase\n",
    "        val_loss, val_accuracy, val_f1 = 0.0, 0.0, 0.0\n",
    "        \n",
    "        if val_loader is not None:\n",
    "            model.eval()\n",
    "            val_correct = 0\n",
    "            val_total = 0\n",
    "            all_preds = []\n",
    "            all_labels = []\n",
    "            \n",
    "            with torch.no_grad():\n",
    "                for batch_x, batch_y in val_loader:\n",
    "                    batch_x, batch_y = batch_x.to(device), batch_y.to(device)\n",
    "                    outputs = model(batch_x)\n",
    "                    loss = criterion(outputs, batch_y)\n",
    "                    \n",
    "                    val_loss += loss.item()\n",
    "                    _, predicted = torch.max(outputs.data, 1)\n",
    "                    val_total += batch_y.size(0)\n",
    "                    val_correct += (predicted == batch_y).sum().item()\n",
    "                    \n",
    "                    all_preds.extend(predicted.cpu().numpy())\n",
    "                    all_labels.extend(batch_y.cpu().numpy())\n",
    "            \n",
    "            val_loss /= len(val_loader)\n",
    "            val_accuracy = 100 * val_correct / val_total\n",
    "            val_f1 = f1_score(all_labels, all_preds, average='weighted') * 100\n",
    "            \n",
    "            history['val_loss'].append(val_loss)\n",
    "            history['val_acc'].append(val_accuracy)\n",
    "            history['val_f1'].append(val_f1)\n",
    "            \n",
    "            # Early stopping and best model saving\n",
    "            if val_accuracy > best_val_acc:\n",
    "                best_val_acc = val_accuracy\n",
    "                best_model_state = model.state_dict().copy()\n",
    "                patience_counter = 0\n",
    "                print(f\"💾 New best model! Val Acc: {val_accuracy:.2f}%\")\n",
    "            else:\n",
    "                patience_counter += 1\n",
    "            \n",
    "            # Early stopping\n",
    "            if patience_counter >= patience:\n",
    "                print(f\"🛑 Early stopping after {patience} epochs without improvement\")\n",
    "                break\n",
    "        \n",
    "        # Step scheduler\n",
    "        if scheduler_type == 'reduce_plateau' and val_loader is not None:\n",
    "            scheduler.step(val_loss)\n",
    "        elif scheduler_type in ['warmup_cosine', 'cosine_restart']:\n",
    "            scheduler.step()\n",
    "        \n",
    "        # Print epoch summary\n",
    "        print(f'Epoch [{epoch+1}/{num_epochs}]')\n",
    "        print(f'Train - Loss: {avg_train_loss:.4f}, Acc: {train_accuracy:.2f}%')\n",
    "        if val_loader is not None:\n",
    "            print(f'Val   - Loss: {val_loss:.4f}, Acc: {val_accuracy:.2f}%, F1: {val_f1:.2f}%')\n",
    "        print(f'LR: {current_lr:.6f}, Patience: {patience_counter}/{patience}')\n",
    "        print('-' * 70)\n",
    "    \n",
    "    # Load best model\n",
    "    if best_model_state is not None:\n",
    "        model.load_state_dict(best_model_state)\n",
    "        print(f\"🔄 Loaded best model with validation accuracy: {best_val_acc:.2f}%\")\n",
    "    \n",
    "    return model, history\n",
    "\n",
    "def evaluate_model(model, test_loader, label_encoder, device='cuda'):\n",
    "    \"\"\"Comprehensive model evaluation function\"\"\"\n",
    "    model.eval()\n",
    "    model.to(device)\n",
    "    \n",
    "    all_preds = []\n",
    "    all_labels = []\n",
    "    all_probs = []\n",
    "    \n",
    "    criterion = nn.CrossEntropyLoss()\n",
    "    total_loss = 0.0\n",
    "    \n",
    "    print(\"🔍 Evaluating CNN model...\")\n",
    "    with torch.no_grad():\n",
    "        for batch_x, batch_y in tqdm(test_loader, desc='Evaluating'):\n",
    "            print(batch_x.size())\n",
    "            batch_x, batch_y = batch_x.to(device), batch_y.to(device)\n",
    "            \n",
    "            outputs = model(batch_x)\n",
    "            loss = criterion(outputs, batch_y)\n",
    "            total_loss += loss.item()\n",
    "            \n",
    "            # Get predictions and probabilities\n",
    "            probs = torch.softmax(outputs, dim=1)\n",
    "            _, predicted = torch.max(outputs, 1)\n",
    "            \n",
    "            all_preds.extend(predicted.cpu().numpy())\n",
    "            all_labels.extend(batch_y.cpu().numpy())\n",
    "            all_probs.extend(probs.cpu().numpy())\n",
    "    \n",
    "    # Convert to numpy arrays\n",
    "    all_preds = np.array(all_preds)\n",
    "    all_labels = np.array(all_labels)\n",
    "    all_probs = np.array(all_probs)\n",
    "    \n",
    "    # Calculate metrics\n",
    "    accuracy = accuracy_score(all_labels, all_preds) * 100\n",
    "    f1_macro = f1_score(all_labels, all_preds, average='macro') * 100\n",
    "    f1_weighted = f1_score(all_labels, all_preds, average='weighted') * 100\n",
    "    recall = recall_score(all_labels, all_preds, average='weighted') * 100\n",
    "    avg_loss = total_loss / len(test_loader)\n",
    "    \n",
    "    # Print detailed results\n",
    "    print(f\"\\n📊 EVALUATION RESULTS:\")\n",
    "    print(f\"{'='*50}\")\n",
    "    print(f\"Test Loss:      {avg_loss:.4f}\")\n",
    "    print(f\"Accuracy:       {accuracy:.2f}%\")\n",
    "    print(f\"F1 (Macro):     {f1_macro:.2f}%\")\n",
    "    print(f\"F1 (Weighted):  {f1_weighted:.2f}%\")\n",
    "    print(f\"Recall:         {recall:.2f}%\")\n",
    "    print(f\"{'='*50}\")\n",
    "    \n",
    "    # Per-class breakdown\n",
    "    print(f\"\\n📋 PER-CLASS BREAKDOWN:\")\n",
    "    for i, class_name in enumerate(label_encoder.classes_):\n",
    "        class_mask = (all_labels == i)\n",
    "        if class_mask.sum() > 0:\n",
    "            class_acc = (all_preds[class_mask] == i).mean() * 100\n",
    "            print(f\"{class_name:15}: {class_acc:.1f}% ({class_mask.sum()} samples)\")\n",
    "    \n",
    "    # Detailed classification report\n",
    "    print(f\"\\n📈 DETAILED CLASSIFICATION REPORT:\")\n",
    "    print(classification_report(all_labels, all_preds, target_names=label_encoder.classes_))\n",
    "    \n",
    "    return {\n",
    "        'accuracy': accuracy,\n",
    "        'f1_macro': f1_macro,\n",
    "        'f1_weighted': f1_weighted,\n",
    "        'recall': recall,\n",
    "        'loss': avg_loss,\n",
    "        'predictions': all_preds,\n",
    "        'true_labels': all_labels,\n",
    "        'probabilities': all_probs\n",
    "    }\n",
    "\n",
    "def plot_training_history(history, save_path=None):\n",
    "    \"\"\"Plot comprehensive training history\"\"\"\n",
    "    fig, axes = plt.subplots(2, 3, figsize=(18, 10))\n",
    "    \n",
    "    # Loss plot\n",
    "    axes[0, 0].plot(history['train_loss'], label='Train Loss', color='red')\n",
    "    if 'val_loss' in history:\n",
    "        axes[0, 0].plot(history['val_loss'], label='Val Loss', color='orange')\n",
    "    axes[0, 0].set_title('Training & Validation Loss')\n",
    "    axes[0, 0].set_xlabel('Epoch')\n",
    "    axes[0, 0].set_ylabel('Loss')\n",
    "    axes[0, 0].legend()\n",
    "    axes[0, 0].grid(True, alpha=0.3)\n",
    "    \n",
    "    # Accuracy plot\n",
    "    axes[0, 1].plot(history['train_acc'], label='Train Acc', color='blue')\n",
    "    if 'val_acc' in history:\n",
    "        axes[0, 1].plot(history['val_acc'], label='Val Acc', color='cyan')\n",
    "    axes[0, 1].set_title('Training & Validation Accuracy')\n",
    "    axes[0, 1].set_xlabel('Epoch')\n",
    "    axes[0, 1].set_ylabel('Accuracy (%)')\n",
    "    axes[0, 1].legend()\n",
    "    axes[0, 1].grid(True, alpha=0.3)\n",
    "    \n",
    "    # F1 Score plot\n",
    "    if 'val_f1' in history:\n",
    "        axes[0, 2].plot(history['val_f1'], label='Val F1', color='purple')\n",
    "        axes[0, 2].set_title('Validation F1 Score')\n",
    "        axes[0, 2].set_xlabel('Epoch')\n",
    "        axes[0, 2].set_ylabel('F1 Score (%)')\n",
    "        axes[0, 2].legend()\n",
    "        axes[0, 2].grid(True, alpha=0.3)\n",
    "    \n",
    "    # Learning Rate plot\n",
    "    axes[1, 0].plot(history['learning_rates'], label='Learning Rate', color='green')\n",
    "    axes[1, 0].set_title('Learning Rate Schedule')\n",
    "    axes[1, 0].set_xlabel('Epoch')\n",
    "    axes[1, 0].set_ylabel('Learning Rate')\n",
    "    axes[1, 0].set_yscale('log')\n",
    "    axes[1, 0].legend()\n",
    "    axes[1, 0].grid(True, alpha=0.3)\n",
    "    \n",
    "    # Overfitting analysis\n",
    "    if 'val_acc' in history:\n",
    "        train_val_gap = np.array(history['train_acc']) - np.array(history['val_acc'])\n",
    "        axes[1, 1].plot(train_val_gap, label='Train-Val Gap', color='red')\n",
    "        axes[1, 1].axhline(y=0, color='black', linestyle='--', alpha=0.5)\n",
    "        axes[1, 1].set_title('Overfitting Analysis')\n",
    "        axes[1, 1].set_xlabel('Epoch')\n",
    "        axes[1, 1].set_ylabel('Accuracy Gap (%)')\n",
    "        axes[1, 1].legend()\n",
    "        axes[1, 1].grid(True, alpha=0.3)\n",
    "    \n",
    "    # Loss vs Accuracy scatter\n",
    "    axes[1, 2].scatter(history['train_loss'], history['train_acc'], alpha=0.6, label='Train', color='blue')\n",
    "    if 'val_loss' in history and 'val_acc' in history:\n",
    "        axes[1, 2].scatter(history['val_loss'], history['val_acc'], alpha=0.6, label='Val', color='red')\n",
    "    axes[1, 2].set_title('Loss vs Accuracy')\n",
    "    axes[1, 2].set_xlabel('Loss')\n",
    "    axes[1, 2].set_ylabel('Accuracy (%)')\n",
    "    axes[1, 2].legend()\n",
    "    axes[1, 2].grid(True, alpha=0.3)\n",
    "    \n",
    "    plt.tight_layout()\n",
    "    \n",
    "    if save_path:\n",
    "        plt.savefig(save_path, dpi=300, bbox_inches='tight')\n",
    "    \n",
    "    plt.show()\n",
    "\n",
    "def main():\n",
    "    \"\"\"Main function to run the CNN time series classification with model saving\"\"\"\n",
    "    \n",
    "    # Hyperparameters\n",
    "    chunk_size = 50  # Sequence length to match your diagram\n",
    "    batch_size = 64\n",
    "    num_epochs = 100\n",
    "    learning_rate = 0.001\n",
    "    dropout = 0.3\n",
    "    scheduler_type = 'warmup_cosine'  # Options: 'warmup_cosine', 'cosine_restart', 'reduce_plateau'\n",
    "    \n",
    "    # Device setup\n",
    "    device = 'cuda' if torch.cuda.is_available() else 'cpu'\n",
    "    print(f\"🖥️  Using device: {device}\")\n",
    "    \n",
    "    # Load training data\n",
    "    try:\n",
    "        # Update these paths to match your data location\n",
    "        train_df = pd.read_csv(r'..\\meta_data\\normal_train_data.csv')\n",
    "        print(f\"✅ Training data loaded: {len(train_df)} samples\")\n",
    "    except FileNotFoundError:\n",
    "        print(\"❌ Training data file not found. Please update the file path.\")\n",
    "        return\n",
    "    \n",
    "    # Create training dataset\n",
    "    train_dataset = ImprovedCustomDataset(\n",
    "        dataframe=train_df,\n",
    "        chunk_size=chunk_size,\n",
    "        balance_classes=False\n",
    "    )\n",
    "    \n",
    "    # Get dataset info\n",
    "    dataset_info = train_dataset.get_info()\n",
    "    input_shape = dataset_info['input_shape']\n",
    "    n_classes = dataset_info['n_classes']\n",
    "    \n",
    "    print(f\"📊 Dataset Info:\")\n",
    "    print(f\"   Input Shape: {input_shape}\")\n",
    "    print(f\"   Classes: {n_classes}\")\n",
    "    print(f\"   Class Names: {list(dataset_info['class_names'])}\")\n",
    "    \n",
    "    # Create data loaders with train/validation split\n",
    "    train_size = int(0.8 * len(train_dataset))\n",
    "    val_size = len(train_dataset) - train_size\n",
    "    train_subset, val_subset = torch.utils.data.random_split(\n",
    "        train_dataset, [train_size, val_size],\n",
    "        generator=torch.Generator().manual_seed(42)\n",
    "    )\n",
    "    \n",
    "    train_loader = DataLoader(train_subset, batch_size=batch_size, shuffle=True)\n",
    "    val_loader = DataLoader(val_subset, batch_size=batch_size, shuffle=False)\n",
    "    \n",
    "    print(f\"📈 Data Split: Train={len(train_subset)}, Val={len(val_subset)}\")\n",
    "    \n",
    "    # Create model\n",
    "    model = CNNTimeSeriesClassifier(\n",
    "        input_shape=input_shape,\n",
    "        n_classes=n_classes,\n",
    "        dropout=dropout\n",
    "    )\n",
    "    \n",
    "    print(f\"🏗️  Model created with {sum(p.numel() for p in model.parameters())} parameters\")\n",
    "    \n",
    "    # Train model\n",
    "    trained_model, history = train_model(\n",
    "        model=model,\n",
    "        train_loader=train_loader,\n",
    "        val_loader=val_loader,\n",
    "        num_epochs=num_epochs,\n",
    "        learning_rate=learning_rate,\n",
    "        device=device,\n",
    "        scheduler_type=scheduler_type,\n",
    "        patience=20\n",
    "    )\n",
    "    \n",
    "    # Save the trained model\n",
    "    timestamp = datetime.now().strftime(\"%Y%m%d_%H%M%S\")\n",
    "    model_name = f\"cnn_timeseries_model_{timestamp}\"\n",
    "    \n",
    "    saved_model_path = save_model(\n",
    "        model=trained_model,\n",
    "        label_encoder=dataset_info['label_encoder'],\n",
    "        dataset_info=dataset_info,\n",
    "        history=history,\n",
    "        scheduler_type=scheduler_type,\n",
    "        save_dir='saved_models',\n",
    "        model_name=model_name\n",
    "    )\n",
    "    \n",
    "    # Load test data if available\n",
    "    try:\n",
    "        test_df = pd.read_csv(r'..\\meta_data\\indicator-20250727T060250Z-1-001\\indicator\\data\\20250715_111750_DATA_INDICATOR_sensor.csv')\n",
    "        \n",
    "        test_dataset = ImprovedCustomDataset(\n",
    "            dataframe=test_df,\n",
    "            chunk_size=chunk_size,\n",
    "            label_encoder=dataset_info['label_encoder'],\n",
    "            is_test=True,\n",
    "            balance_classes=False\n",
    "        )\n",
    "        \n",
    "        test_loader = DataLoader(test_dataset, batch_size=batch_size, shuffle=False)\n",
    "        \n",
    "        print(f\"✅ Test data loaded: {len(test_dataset)} samples\")\n",
    "        \n",
    "        # Evaluate on test set\n",
    "        eval_results = evaluate_model(\n",
    "            trained_model, test_loader, \n",
    "            dataset_info['label_encoder'], device\n",
    "        )\n",
    "        \n",
    "        # Save evaluation results\n",
    "        if saved_model_path:\n",
    "            eval_path = saved_model_path.replace('.pth', '_evaluation.json')\n",
    "            with open(eval_path, 'w') as f:\n",
    "                # Convert numpy arrays to lists for JSON serialization\n",
    "                json_eval = {}\n",
    "                for key, value in eval_results.items():\n",
    "                    if isinstance(value, np.ndarray):\n",
    "                        json_eval[key] = value.tolist()\n",
    "                    else:\n",
    "                        json_eval[key] = value\n",
    "                json.dump(json_eval, f, indent=2)\n",
    "            print(f\"📊 Evaluation results saved to: {eval_path}\")\n",
    "        \n",
    "    except FileNotFoundError:\n",
    "        print(\"⚠️  No test data found. Skipping test evaluation.\")\n",
    "        eval_results = None\n",
    "    \n",
    "    # Plot training history\n",
    "    plot_save_path = None\n",
    "    if saved_model_path:\n",
    "        plot_save_path = saved_model_path.replace('.pth', '_training_history.png')\n",
    "    \n",
    "    plot_training_history(history, save_path=plot_save_path)\n",
    "    \n",
    "    # Example of how to load the saved model later\n",
    "    print(\"\\n\" + \"=\"*70)\n",
    "    print(\"🔄 EXAMPLE: Loading the saved model\")\n",
    "    print(\"=\"*70)\n",
    "    \n",
    "    if saved_model_path:\n",
    "        # Demonstrate model loading\n",
    "        loaded_model, loaded_label_encoder, loaded_dataset_info, loaded_training_info = load_model(\n",
    "            saved_model_path, device=device\n",
    "        )\n",
    "        \n",
    "        if loaded_model is not None:\n",
    "            print(\"✅ Model loaded successfully! You can now use it for inference.\")\n",
    "            print(\"\\n📋 Usage example:\")\n",
    "            print(\"```python\")\n",
    "            print(f\"model, label_encoder, dataset_info, training_info = load_model('{saved_model_path}')\")\n",
    "            print(\"# Use the loaded model for predictions\")\n",
    "            print(\"model.eval()\")\n",
    "            print(\"with torch.no_grad():\")\n",
    "            print(\"    predictions = model(your_input_data)\")\n",
    "            print(\"```\")\n",
    "\n",
    "# Additional utility functions for inference\n",
    "def predict_single_sequence(model, sequence, label_encoder, device='cuda'):\n",
    "    \"\"\"\n",
    "    Predict a single sequence\n",
    "    \n",
    "    Args:\n",
    "        model: Trained model\n",
    "        sequence: Input sequence (seq_len, n_features)\n",
    "        label_encoder: Label encoder\n",
    "        device: Device to run prediction on\n",
    "        \n",
    "    Returns:\n",
    "        dict: Prediction results\n",
    "    \"\"\"\n",
    "    model.eval()\n",
    "    model.to(device)\n",
    "    \n",
    "    # Ensure sequence is the right shape and type\n",
    "    if isinstance(sequence, np.ndarray):\n",
    "        sequence = torch.FloatTensor(sequence)\n",
    "    \n",
    "    # Add batch dimension if needed\n",
    "    if len(sequence.shape) == 2:\n",
    "        sequence = sequence.unsqueeze(0)\n",
    "    \n",
    "    sequence = sequence.to(device)\n",
    "    \n",
    "    with torch.no_grad():\n",
    "        outputs = model(sequence)\n",
    "        probabilities = torch.softmax(outputs, dim=1)\n",
    "        predicted_class = torch.argmax(outputs, dim=1)\n",
    "        \n",
    "        # Convert to numpy/python types\n",
    "        probs = probabilities.cpu().numpy()[0]\n",
    "        pred_class = predicted_class.cpu().item()\n",
    "        \n",
    "        # Get class name\n",
    "        class_name = label_encoder.classes_[pred_class]\n",
    "        \n",
    "        return {\n",
    "            'predicted_class': pred_class,\n",
    "            'class_name': class_name,\n",
    "            'confidence': float(probs[pred_class]),\n",
    "            'all_probabilities': dict(zip(label_encoder.classes_, probs.tolist()))\n",
    "        }\n",
    "\n",
    "def batch_predict(model, sequences, label_encoder, device='cuda', batch_size=32):\n",
    "    \"\"\"\n",
    "    Predict multiple sequences in batches\n",
    "    \n",
    "    Args:\n",
    "        model: Trained model\n",
    "        sequences: Input sequences (n_samples, seq_len, n_features)\n",
    "        label_encoder: Label encoder\n",
    "        device: Device to run prediction on\n",
    "        batch_size: Batch size for prediction\n",
    "        \n",
    "    Returns:\n",
    "        list: List of prediction dictionaries\n",
    "    \"\"\"\n",
    "    model.eval()\n",
    "    model.to(device)\n",
    "    \n",
    "    if isinstance(sequences, np.ndarray):\n",
    "        sequences = torch.FloatTensor(sequences)\n",
    "    \n",
    "    dataset = torch.utils.data.TensorDataset(sequences)\n",
    "    dataloader = DataLoader(dataset, batch_size=batch_size, shuffle=False)\n",
    "    \n",
    "    all_predictions = []\n",
    "    \n",
    "    with torch.no_grad():\n",
    "        for batch in tqdm(dataloader, desc=\"Predicting\"):\n",
    "            batch_sequences = batch[0].to(device)\n",
    "            outputs = model(batch_sequences)\n",
    "            probabilities = torch.softmax(outputs, dim=1)\n",
    "            predicted_classes = torch.argmax(outputs, dim=1)\n",
    "            \n",
    "            # Convert to numpy\n",
    "            probs = probabilities.cpu().numpy()\n",
    "            pred_classes = predicted_classes.cpu().numpy()\n",
    "            \n",
    "            # Process each sample in the batch\n",
    "            for i in range(len(pred_classes)):\n",
    "                pred_class = pred_classes[i]\n",
    "                class_name = label_encoder.classes_[pred_class]\n",
    "                \n",
    "                prediction = {\n",
    "                    'predicted_class': int(pred_class),\n",
    "                    'class_name': class_name,\n",
    "                    'confidence': float(probs[i][pred_class]),\n",
    "                    'all_probabilities': dict(zip(label_encoder.classes_, probs[i].tolist()))\n",
    "                }\n",
    "                all_predictions.append(prediction)\n",
    "    \n",
    "    return all_predictions\n",
    "\n",
    "if __name__ == \"__main__\":\n",
    "    main()"
   ]
  },
  {
   "cell_type": "code",
   "execution_count": 43,
   "id": "27749868",
   "metadata": {},
   "outputs": [
    {
     "name": "stdout",
     "output_type": "stream",
     "text": [
      "✅ Model loaded: 51 classes\n",
      "📋 Classes: ['nothing', 'กาแฟ', 'กิน', 'ขอบคุณ', 'คำถาม', 'คุณ', 'ฉัน', 'ชอบ', 'ช่วย', 'ดี', 'ดื่ม', 'ตอนนี้', 'ต้องการ', 'ทำ', 'ทำงาน', 'ทีหลัง', 'ที่นั่น', 'ที่นี่', 'นอน', 'น้ำ', 'บ้าน', 'ป่วย', 'พรุ่งนี้', 'พูด', 'มา', 'มี', 'รถ', 'รอ', 'ร้อน', 'ร้าย', 'วันนี้', 'วิ่ง', 'หนังสือ', 'หนาว', 'อันตราย', 'อาหาร', 'อ่าน', 'เขียน', 'เข้าใจ', 'เดิน', 'เพื่อน', 'เมื่อวาน', 'เรา', 'เรียน', 'เล็ก', 'เล่น', 'เวลา', 'โทรศัพท์', 'โรงเรียน', 'ใหญ่', 'ไป']\n",
      "📂 Test data loaded: 15893 rows\n",
      "Found 201 label groups\n",
      "Kept 103 groups after length filtering\n"
     ]
    },
    {
     "name": "stderr",
     "output_type": "stream",
     "text": [
      "Processing sequences: 100%|██████████| 103/103 [00:00<00:00, 1542.89it/s]\n"
     ]
    },
    {
     "name": "stdout",
     "output_type": "stream",
     "text": [
      "Dataset created: 103 sequences of shape torch.Size([103, 50, 28])\n",
      "Classes: 51, Distribution: Counter({np.int64(0): 5, np.int64(6): 2, np.int64(5): 2, np.int64(3): 2, np.int64(42): 2, np.int64(10): 2, np.int64(50): 2, np.int64(24): 2, np.int64(21): 2, np.int64(7): 2, np.int64(12): 2, np.int64(25): 2, np.int64(13): 2, np.int64(23): 2, np.int64(36): 2, np.int64(37): 2, np.int64(18): 2, np.int64(45): 2, np.int64(39): 2, np.int64(31): 2, np.int64(9): 2, np.int64(29): 2, np.int64(49): 2, np.int64(44): 2, np.int64(28): 2, np.int64(33): 2, np.int64(30): 2, np.int64(22): 2, np.int64(41): 2, np.int64(20): 2, np.int64(48): 2, np.int64(40): 2, np.int64(19): 2, np.int64(35): 2, np.int64(1): 2, np.int64(32): 2, np.int64(47): 2, np.int64(26): 2, np.int64(46): 2, np.int64(11): 2, np.int64(15): 2, np.int64(17): 2, np.int64(4): 2, np.int64(34): 2, np.int64(8): 2, np.int64(27): 2, np.int64(38): 2, np.int64(43): 2, np.int64(14): 2, np.int64(2): 1, np.int64(16): 1})\n",
      "🔄 Created 103 test sequences\n",
      "\n",
      "🎯 RESULTS:\n",
      "Overall Accuracy: 83.50%\n",
      "\n",
      "📊 Per-class Accuracy:\n",
      "   nothing: 100.0% (5 samples)\n",
      "   กาแฟ: 100.0% (2 samples)\n",
      "   กิน: 0.0% (1 samples)\n",
      "   ขอบคุณ: 50.0% (2 samples)\n",
      "   คำถาม: 100.0% (2 samples)\n",
      "   คุณ: 0.0% (2 samples)\n",
      "   ฉัน: 100.0% (2 samples)\n",
      "   ชอบ: 100.0% (2 samples)\n",
      "   ช่วย: 100.0% (2 samples)\n",
      "   ดี: 100.0% (2 samples)\n",
      "   ดื่ม: 100.0% (2 samples)\n",
      "   ตอนนี้: 100.0% (2 samples)\n",
      "   ต้องการ: 0.0% (2 samples)\n",
      "   ทำ: 100.0% (2 samples)\n",
      "   ทำงาน: 0.0% (2 samples)\n",
      "   ทีหลัง: 100.0% (2 samples)\n",
      "   ที่นั่น: 100.0% (1 samples)\n",
      "   ที่นี่: 100.0% (2 samples)\n",
      "   นอน: 100.0% (2 samples)\n",
      "   น้ำ: 100.0% (2 samples)\n",
      "   บ้าน: 50.0% (2 samples)\n",
      "   ป่วย: 100.0% (2 samples)\n",
      "   พรุ่งนี้: 100.0% (2 samples)\n",
      "   พูด: 100.0% (2 samples)\n",
      "   มา: 50.0% (2 samples)\n",
      "   มี: 100.0% (2 samples)\n",
      "   รถ: 100.0% (2 samples)\n",
      "   รอ: 100.0% (2 samples)\n",
      "   ร้อน: 100.0% (2 samples)\n",
      "   ร้าย: 100.0% (2 samples)\n",
      "   วันนี้: 100.0% (2 samples)\n",
      "   วิ่ง: 100.0% (2 samples)\n",
      "   หนังสือ: 100.0% (2 samples)\n",
      "   หนาว: 100.0% (2 samples)\n",
      "   อันตราย: 100.0% (2 samples)\n",
      "   อาหาร: 100.0% (2 samples)\n",
      "   อ่าน: 100.0% (2 samples)\n",
      "   เขียน: 100.0% (2 samples)\n",
      "   เข้าใจ: 100.0% (2 samples)\n",
      "   เดิน: 100.0% (2 samples)\n",
      "   เพื่อน: 100.0% (2 samples)\n",
      "   เมื่อวาน: 50.0% (2 samples)\n",
      "   เรา: 50.0% (2 samples)\n",
      "   เรียน: 0.0% (2 samples)\n",
      "   เล็ก: 100.0% (2 samples)\n",
      "   เล่น: 50.0% (2 samples)\n",
      "   เวลา: 100.0% (2 samples)\n",
      "   โทรศัพท์: 100.0% (2 samples)\n",
      "   โรงเรียน: 100.0% (2 samples)\n",
      "   ใหญ่: 100.0% (2 samples)\n",
      "   ไป: 0.0% (2 samples)\n",
      "\n",
      "📈 Classification Report:\n",
      "              precision    recall  f1-score   support\n",
      "\n",
      "     nothing       1.00      1.00      1.00         5\n",
      "        กาแฟ       1.00      1.00      1.00         2\n",
      "         กิน       0.00      0.00      0.00         1\n",
      "      ขอบคุณ       1.00      0.50      0.67         2\n",
      "       คำถาม       1.00      1.00      1.00         2\n",
      "         คุณ       0.00      0.00      0.00         2\n",
      "         ฉัน       0.50      1.00      0.67         2\n",
      "         ชอบ       1.00      1.00      1.00         2\n",
      "        ช่วย       1.00      1.00      1.00         2\n",
      "          ดี       1.00      1.00      1.00         2\n",
      "        ดื่ม       0.67      1.00      0.80         2\n",
      "      ตอนนี้       1.00      1.00      1.00         2\n",
      "     ต้องการ       0.00      0.00      0.00         2\n",
      "          ทำ       0.67      1.00      0.80         2\n",
      "       ทำงาน       0.00      0.00      0.00         2\n",
      "      ทีหลัง       1.00      1.00      1.00         2\n",
      "     ที่นั่น       0.25      1.00      0.40         1\n",
      "      ที่นี่       1.00      1.00      1.00         2\n",
      "         นอน       1.00      1.00      1.00         2\n",
      "         น้ำ       1.00      1.00      1.00         2\n",
      "        บ้าน       0.50      0.50      0.50         2\n",
      "        ป่วย       1.00      1.00      1.00         2\n",
      "    พรุ่งนี้       1.00      1.00      1.00         2\n",
      "         พูด       0.50      1.00      0.67         2\n",
      "          มา       1.00      0.50      0.67         2\n",
      "          มี       0.67      1.00      0.80         2\n",
      "          รถ       0.67      1.00      0.80         2\n",
      "          รอ       1.00      1.00      1.00         2\n",
      "        ร้อน       1.00      1.00      1.00         2\n",
      "        ร้าย       1.00      1.00      1.00         2\n",
      "      วันนี้       0.67      1.00      0.80         2\n",
      "        วิ่ง       1.00      1.00      1.00         2\n",
      "     หนังสือ       1.00      1.00      1.00         2\n",
      "        หนาว       1.00      1.00      1.00         2\n",
      "     อันตราย       1.00      1.00      1.00         2\n",
      "       อาหาร       1.00      1.00      1.00         2\n",
      "        อ่าน       1.00      1.00      1.00         2\n",
      "       เขียน       0.50      1.00      0.67         2\n",
      "      เข้าใจ       1.00      1.00      1.00         2\n",
      "        เดิน       0.67      1.00      0.80         2\n",
      "      เพื่อน       1.00      1.00      1.00         2\n",
      "    เมื่อวาน       1.00      0.50      0.67         2\n",
      "         เรา       1.00      0.50      0.67         2\n",
      "       เรียน       0.00      0.00      0.00         2\n",
      "        เล็ก       1.00      1.00      1.00         2\n",
      "        เล่น       1.00      0.50      0.67         2\n",
      "        เวลา       1.00      1.00      1.00         2\n",
      "    โทรศัพท์       1.00      1.00      1.00         2\n",
      "    โรงเรียน       1.00      1.00      1.00         2\n",
      "        ใหญ่       0.67      1.00      0.80         2\n",
      "          ไป       0.00      0.00      0.00         2\n",
      "\n",
      "    accuracy                           0.83       103\n",
      "   macro avg       0.78      0.82      0.78       103\n",
      "weighted avg       0.80      0.83      0.80       103\n",
      "\n",
      "predictions nothing  true_labels nothing\n",
      "predictions ฉัน  true_labels ฉัน\n",
      "predictions ที่นั่น  true_labels คุณ\n",
      "predictions ขอบคุณ  true_labels ขอบคุณ\n",
      "predictions เรา  true_labels เรา\n",
      "predictions บ้าน  true_labels กิน\n",
      "predictions ดื่ม  true_labels ดื่ม\n",
      "predictions พูด  true_labels ไป\n",
      "predictions มา  true_labels มา\n",
      "predictions ป่วย  true_labels ป่วย\n",
      "predictions ชอบ  true_labels ชอบ\n",
      "predictions ฉัน  true_labels ต้องการ\n",
      "predictions มี  true_labels มี\n",
      "predictions ทำ  true_labels ทำ\n",
      "predictions พูด  true_labels พูด\n",
      "predictions อ่าน  true_labels อ่าน\n",
      "predictions เขียน  true_labels เขียน\n",
      "predictions นอน  true_labels นอน\n",
      "predictions เล่น  true_labels เล่น\n",
      "predictions เดิน  true_labels เดิน\n",
      "predictions วิ่ง  true_labels วิ่ง\n",
      "predictions ดี  true_labels ดี\n",
      "predictions ร้าย  true_labels ร้าย\n",
      "predictions ใหญ่  true_labels ใหญ่\n",
      "predictions เล็ก  true_labels เล็ก\n",
      "predictions ร้อน  true_labels ร้อน\n",
      "predictions หนาว  true_labels หนาว\n",
      "predictions วันนี้  true_labels วันนี้\n",
      "predictions พรุ่งนี้  true_labels พรุ่งนี้\n",
      "predictions เมื่อวาน  true_labels เมื่อวาน\n",
      "predictions บ้าน  true_labels บ้าน\n",
      "predictions โรงเรียน  true_labels โรงเรียน\n",
      "predictions เพื่อน  true_labels เพื่อน\n",
      "predictions nothing  true_labels nothing\n",
      "predictions น้ำ  true_labels น้ำ\n",
      "predictions อาหาร  true_labels อาหาร\n",
      "predictions กาแฟ  true_labels กาแฟ\n",
      "predictions หนังสือ  true_labels หนังสือ\n",
      "predictions โทรศัพท์  true_labels โทรศัพท์\n",
      "predictions รถ  true_labels รถ\n",
      "predictions เวลา  true_labels เวลา\n",
      "predictions ตอนนี้  true_labels ตอนนี้\n",
      "predictions ทีหลัง  true_labels ทีหลัง\n",
      "predictions ที่นี่  true_labels ที่นี่\n",
      "predictions nothing  true_labels nothing\n",
      "predictions คำถาม  true_labels คำถาม\n",
      "predictions อันตราย  true_labels อันตราย\n",
      "predictions ช่วย  true_labels ช่วย\n",
      "predictions nothing  true_labels nothing\n",
      "predictions รอ  true_labels รอ\n",
      "predictions เข้าใจ  true_labels เข้าใจ\n",
      "predictions nothing  true_labels nothing\n",
      "predictions เขียน  true_labels เรียน\n",
      "predictions ทำ  true_labels ทำงาน\n",
      "predictions ฉัน  true_labels ฉัน\n",
      "predictions ที่นั่น  true_labels คุณ\n",
      "predictions ใหญ่  true_labels ขอบคุณ\n",
      "predictions เดิน  true_labels เรา\n",
      "predictions ดื่ม  true_labels ดื่ม\n",
      "predictions ดื่ม  true_labels ไป\n",
      "predictions ที่นั่น  true_labels มา\n",
      "predictions ป่วย  true_labels ป่วย\n",
      "predictions ชอบ  true_labels ชอบ\n",
      "predictions ฉัน  true_labels ต้องการ\n",
      "predictions มี  true_labels มี\n",
      "predictions ทำ  true_labels ทำ\n",
      "predictions พูด  true_labels พูด\n",
      "predictions อ่าน  true_labels อ่าน\n",
      "predictions เขียน  true_labels เขียน\n",
      "predictions นอน  true_labels นอน\n",
      "predictions วันนี้  true_labels เล่น\n",
      "predictions เดิน  true_labels เดิน\n",
      "predictions วิ่ง  true_labels วิ่ง\n",
      "predictions ดี  true_labels ดี\n",
      "predictions ร้าย  true_labels ร้าย\n",
      "predictions ใหญ่  true_labels ใหญ่\n",
      "predictions เล็ก  true_labels เล็ก\n",
      "predictions ร้อน  true_labels ร้อน\n",
      "predictions หนาว  true_labels หนาว\n",
      "predictions วันนี้  true_labels วันนี้\n",
      "predictions พรุ่งนี้  true_labels พรุ่งนี้\n",
      "predictions มี  true_labels เมื่อวาน\n",
      "predictions พูด  true_labels บ้าน\n",
      "predictions โรงเรียน  true_labels โรงเรียน\n",
      "predictions เพื่อน  true_labels เพื่อน\n",
      "predictions น้ำ  true_labels น้ำ\n",
      "predictions อาหาร  true_labels อาหาร\n",
      "predictions กาแฟ  true_labels กาแฟ\n",
      "predictions หนังสือ  true_labels หนังสือ\n",
      "predictions โทรศัพท์  true_labels โทรศัพท์\n",
      "predictions รถ  true_labels รถ\n",
      "predictions เวลา  true_labels เวลา\n",
      "predictions ตอนนี้  true_labels ตอนนี้\n",
      "predictions ทีหลัง  true_labels ทีหลัง\n",
      "predictions ที่นี่  true_labels ที่นี่\n",
      "predictions ที่นั่น  true_labels ที่นั่น\n",
      "predictions คำถาม  true_labels คำถาม\n",
      "predictions อันตราย  true_labels อันตราย\n",
      "predictions ช่วย  true_labels ช่วย\n",
      "predictions รอ  true_labels รอ\n",
      "predictions เข้าใจ  true_labels เข้าใจ\n",
      "predictions เขียน  true_labels เรียน\n",
      "predictions รถ  true_labels ทำงาน\n",
      "✅ Done!\n"
     ]
    }
   ],
   "source": [
    "import torch\n",
    "import pandas as pd\n",
    "import numpy as np\n",
    "from torch.utils.data import DataLoader\n",
    "from sklearn.metrics import accuracy_score, classification_report\n",
    "\n",
    "# Simple load and predict functions\n",
    "def load_model_simple(model_path, device='cuda'):\n",
    "    \"\"\"Load a saved model - simple version\"\"\"\n",
    "    checkpoint = torch.load(model_path, map_location=device, weights_only=False)\n",
    "    \n",
    "    # Get model config and create model\n",
    "    model_config = checkpoint['model_config']\n",
    "    model = CNNTimeSeriesClassifier(\n",
    "        input_shape=model_config['input_shape'],\n",
    "        n_classes=model_config['n_classes'],\n",
    "        dropout=model_config['dropout']\n",
    "    )\n",
    "    \n",
    "    # Load weights\n",
    "    model.load_state_dict(checkpoint['model_state_dict'])\n",
    "    model.to(device)\n",
    "    model.eval()\n",
    "    \n",
    "    # Get label encoder\n",
    "    label_encoder = checkpoint['label_encoder']\n",
    "    \n",
    "    print(f\"✅ Model loaded: {model_config['n_classes']} classes\")\n",
    "    print(f\"📋 Classes: {list(label_encoder.classes_)}\")\n",
    "    \n",
    "    return model, label_encoder\n",
    "\n",
    "def predict_test_data(model, label_encoder, test_df_path, chunk_size=50, device='cuda'):\n",
    "    \"\"\"Predict on test data and compare with true labels\"\"\"\n",
    "    \n",
    "    # Load test data\n",
    "    test_df = pd.read_csv(test_df_path)\n",
    "    print(f\"📂 Test data loaded: {len(test_df)} rows\")\n",
    "    \n",
    "    # Create test dataset\n",
    "    test_dataset = ImprovedCustomDataset(\n",
    "        dataframe=test_df,\n",
    "        chunk_size=chunk_size,\n",
    "        label_encoder=label_encoder,\n",
    "        is_test=True,\n",
    "        balance_classes=False\n",
    "    )\n",
    "    \n",
    "    # Create data loader\n",
    "    test_loader = DataLoader(test_dataset, batch_size=1, shuffle=False)\n",
    "    print(f\"🔄 Created {len(test_dataset)} test sequences\")\n",
    "    \n",
    "    # Get predictions\n",
    "    model.eval()\n",
    "    all_predictions = []\n",
    "    all_true_labels = []\n",
    "    \n",
    "    with torch.no_grad():\n",
    "        for batch_x, batch_y in test_loader:\n",
    "            batch_x, batch_y = batch_x.to(device), batch_y.to(device)\n",
    "            \n",
    "            outputs = model(batch_x)\n",
    "            predictions = torch.argmax(outputs, dim=1)\n",
    "            \n",
    "            all_predictions.extend(predictions.cpu().numpy())\n",
    "            all_true_labels.extend(batch_y.cpu().numpy())\n",
    "    \n",
    "    # Convert to numpy\n",
    "    predictions = np.array(all_predictions)\n",
    "    true_labels = np.array(all_true_labels)\n",
    "    \n",
    "    # Calculate accuracy\n",
    "    accuracy = accuracy_score(true_labels, predictions) * 100\n",
    "    \n",
    "    # Print results\n",
    "    print(f\"\\n🎯 RESULTS:\")\n",
    "    print(f\"Overall Accuracy: {accuracy:.2f}%\")\n",
    "    \n",
    "    # Per-class accuracy\n",
    "    print(f\"\\n📊 Per-class Accuracy:\")\n",
    "    for i, class_name in enumerate(label_encoder.classes_):\n",
    "        class_mask = (true_labels == i)\n",
    "        if class_mask.sum() > 0:\n",
    "            class_acc = (predictions[class_mask] == i).mean() * 100\n",
    "            print(f\"   {class_name}: {class_acc:.1f}% ({class_mask.sum()} samples)\")\n",
    "    \n",
    "    # Classification report\n",
    "    print(f\"\\n📈 Classification Report:\")\n",
    "    print(classification_report(true_labels, predictions, target_names=label_encoder.classes_))\n",
    "    \n",
    "    return predictions, true_labels\n",
    "\n",
    "# Usage example\n",
    "def main():\n",
    "    # Set your paths here\n",
    "    model_path = r\"saved_models\\cnn_timeseries_model_20250801_135544.pth\"  # ← Update this\n",
    "    test_data_path = r\"..\\meta_data\\indicator-20250727T060250Z-1-001\\indicator\\data\\20250715_111750_DATA_INDICATOR_sensor.csv\"  # ← Update this\n",
    "    \n",
    "    device = 'cuda' if torch.cuda.is_available() else 'cpu'\n",
    "    \n",
    "    # Load model\n",
    "    model, label_encoder = load_model_simple(model_path, device)\n",
    "    \n",
    "    # Predict on test data\n",
    "    predictions, true_labels = predict_test_data(\n",
    "        model, label_encoder, test_data_path, chunk_size=50, device=device\n",
    "    )\n",
    "    \n",
    "    # label_encoder.inverse_transform(predictions)\n",
    "    # label_encoder.inverse_transform(true_labels)\n",
    "    predictions = label_encoder.inverse_transform(predictions)\n",
    "    true_labels = label_encoder.inverse_transform(true_labels)\n",
    "    for data in zip(predictions,true_labels):\n",
    "        print(f\"predictions {data[0]}  true_labels {data[1]}\")\n",
    "    print(\"✅ Done!\")\n",
    "\n",
    "if __name__ == \"__main__\":\n",
    "    main()"
   ]
  },
  {
   "cell_type": "markdown",
   "id": "bbfd75cb",
   "metadata": {},
   "source": []
  },
  {
   "cell_type": "code",
   "execution_count": 30,
   "id": "d481f895",
   "metadata": {},
   "outputs": [
    {
     "ename": "NameError",
     "evalue": "name 'predictions' is not defined",
     "output_type": "error",
     "traceback": [
      "\u001b[31m---------------------------------------------------------------------------\u001b[39m",
      "\u001b[31mNameError\u001b[39m                                 Traceback (most recent call last)",
      "\u001b[36mCell\u001b[39m\u001b[36m \u001b[39m\u001b[32mIn[30]\u001b[39m\u001b[32m, line 1\u001b[39m\n\u001b[32m----> \u001b[39m\u001b[32m1\u001b[39m \u001b[43mpredictions\u001b[49m\n",
      "\u001b[31mNameError\u001b[39m: name 'predictions' is not defined"
     ]
    }
   ],
   "source": [
    "predictions"
   ]
  },
  {
   "cell_type": "code",
   "execution_count": 150,
   "id": "c43cde1f",
   "metadata": {},
   "outputs": [
    {
     "name": "stderr",
     "output_type": "stream",
     "text": [
      "C:\\Users\\Sumat\\AppData\\Local\\Temp\\ipykernel_19904\\1098120792.py:102: SettingWithCopyWarning: \n",
      "A value is trying to be set on a copy of a slice from a DataFrame.\n",
      "Try using .loc[row_indexer,col_indexer] = value instead\n",
      "\n",
      "See the caveats in the documentation: https://pandas.pydata.org/pandas-docs/stable/user_guide/indexing.html#returning-a-view-versus-a-copy\n",
      "  self._data_csv[\"Label\"] = label_encoder.fit_transform(self._data_csv[\"Label\"])\n"
     ]
    },
    {
     "name": "stdout",
     "output_type": "stream",
     "text": [
      "len(data):  9669\n",
      "filter Value\n"
     ]
    },
    {
     "name": "stderr",
     "output_type": "stream",
     "text": [
      "100%|██████████| 9669/9669 [00:00<00:00, 4705816.36it/s]\n"
     ]
    },
    {
     "name": "stdout",
     "output_type": "stream",
     "text": [
      "pad&mean Value\n"
     ]
    },
    {
     "name": "stderr",
     "output_type": "stream",
     "text": [
      "100%|██████████| 4986/4986 [00:04<00:00, 1098.35it/s]\n",
      "c:\\SKB_co_Project\\Mocap\\git\\Sign_Language_Detection\\.venv\\Lib\\site-packages\\torch\\nn\\modules\\rnn.py:123: UserWarning: dropout option adds dropout after all but last recurrent layer, so non-zero dropout expects num_layers greater than 1, but got dropout=0.5 and num_layers=1\n",
      "  warnings.warn(\n"
     ]
    },
    {
     "name": "stdout",
     "output_type": "stream",
     "text": [
      "Model initialized with 28 features and 51 classes\n",
      "Using scheduler: warmup_cosine\n",
      "Starting training...\n"
     ]
    },
    {
     "name": "stderr",
     "output_type": "stream",
     "text": [
      "Epoch 1/200: 100%|██████████| 77/77 [00:02<00:00, 34.10it/s, Loss=0.0496, Acc=0.00%, LR=0.001000]\n"
     ]
    },
    {
     "name": "stdout",
     "output_type": "stream",
     "text": [
      "Epoch [1/200]\n",
      "Train Loss: 0.04960812321356074, Train Acc: 0.00%, LR: 0.001000\n",
      "------------------------------------------------------------\n"
     ]
    },
    {
     "name": "stderr",
     "output_type": "stream",
     "text": [
      "Epoch 2/200: 100%|██████████| 77/77 [00:02<00:00, 30.18it/s, Loss=0.0338, Acc=0.00%, LR=0.000000]\n"
     ]
    },
    {
     "name": "stdout",
     "output_type": "stream",
     "text": [
      "Epoch [2/200]\n",
      "Train Loss: 0.03382784580545766, Train Acc: 0.00%, LR: 0.000000\n",
      "------------------------------------------------------------\n"
     ]
    },
    {
     "name": "stderr",
     "output_type": "stream",
     "text": [
      "Epoch 3/200: 100%|██████████| 77/77 [00:02<00:00, 36.73it/s, Loss=0.0336, Acc=0.00%, LR=0.000050]\n"
     ]
    },
    {
     "name": "stdout",
     "output_type": "stream",
     "text": [
      "Epoch [3/200]\n",
      "Train Loss: 0.033644010648494226, Train Acc: 0.00%, LR: 0.000050\n",
      "------------------------------------------------------------\n"
     ]
    },
    {
     "name": "stderr",
     "output_type": "stream",
     "text": [
      "Epoch 4/200: 100%|██████████| 77/77 [00:02<00:00, 31.47it/s, Loss=0.0331, Acc=0.00%, LR=0.000100]\n"
     ]
    },
    {
     "name": "stdout",
     "output_type": "stream",
     "text": [
      "Epoch [4/200]\n",
      "Train Loss: 0.03310160038315437, Train Acc: 0.00%, LR: 0.000100\n",
      "------------------------------------------------------------\n"
     ]
    },
    {
     "name": "stderr",
     "output_type": "stream",
     "text": [
      "Epoch 5/200: 100%|██████████| 77/77 [00:02<00:00, 34.42it/s, Loss=0.0328, Acc=0.00%, LR=0.000150]\n"
     ]
    },
    {
     "name": "stdout",
     "output_type": "stream",
     "text": [
      "Epoch [5/200]\n",
      "Train Loss: 0.032828398230304194, Train Acc: 0.00%, LR: 0.000150\n",
      "------------------------------------------------------------\n"
     ]
    },
    {
     "name": "stderr",
     "output_type": "stream",
     "text": [
      "Epoch 6/200: 100%|██████████| 77/77 [00:02<00:00, 34.67it/s, Loss=0.0320, Acc=0.00%, LR=0.000200]\n"
     ]
    },
    {
     "name": "stdout",
     "output_type": "stream",
     "text": [
      "Epoch [6/200]\n",
      "Train Loss: 0.03195833416304902, Train Acc: 0.00%, LR: 0.000200\n",
      "------------------------------------------------------------\n"
     ]
    },
    {
     "name": "stderr",
     "output_type": "stream",
     "text": [
      "Epoch 7/200: 100%|██████████| 77/77 [00:03<00:00, 21.47it/s, Loss=0.0303, Acc=0.20%, LR=0.000250]\n"
     ]
    },
    {
     "name": "stdout",
     "output_type": "stream",
     "text": [
      "Epoch [7/200]\n",
      "Train Loss: 0.030283781327911978, Train Acc: 0.20%, LR: 0.000250\n",
      "------------------------------------------------------------\n"
     ]
    },
    {
     "name": "stderr",
     "output_type": "stream",
     "text": [
      "Epoch 8/200: 100%|██████████| 77/77 [00:01<00:00, 38.88it/s, Loss=0.0279, Acc=0.04%, LR=0.000300]\n"
     ]
    },
    {
     "name": "stdout",
     "output_type": "stream",
     "text": [
      "Epoch [8/200]\n",
      "Train Loss: 0.027930643336919993, Train Acc: 0.04%, LR: 0.000300\n",
      "------------------------------------------------------------\n"
     ]
    },
    {
     "name": "stderr",
     "output_type": "stream",
     "text": [
      "Epoch 9/200: 100%|██████████| 77/77 [00:02<00:00, 36.24it/s, Loss=0.0253, Acc=0.49%, LR=0.000350]\n"
     ]
    },
    {
     "name": "stdout",
     "output_type": "stream",
     "text": [
      "Epoch [9/200]\n",
      "Train Loss: 0.0253276593813842, Train Acc: 0.49%, LR: 0.000350\n",
      "------------------------------------------------------------\n"
     ]
    },
    {
     "name": "stderr",
     "output_type": "stream",
     "text": [
      "Epoch 10/200: 100%|██████████| 77/77 [00:02<00:00, 35.36it/s, Loss=0.0221, Acc=3.49%, LR=0.000400]\n"
     ]
    },
    {
     "name": "stdout",
     "output_type": "stream",
     "text": [
      "Epoch [10/200]\n",
      "Train Loss: 0.0220541841374686, Train Acc: 3.49%, LR: 0.000400\n",
      "------------------------------------------------------------\n"
     ]
    },
    {
     "name": "stderr",
     "output_type": "stream",
     "text": [
      "Epoch 11/200: 100%|██████████| 77/77 [00:01<00:00, 38.89it/s, Loss=0.0180, Acc=8.71%, LR=0.000450] \n"
     ]
    },
    {
     "name": "stdout",
     "output_type": "stream",
     "text": [
      "Epoch [11/200]\n",
      "Train Loss: 0.01798420178994246, Train Acc: 8.71%, LR: 0.000450\n",
      "------------------------------------------------------------\n"
     ]
    },
    {
     "name": "stderr",
     "output_type": "stream",
     "text": [
      "Epoch 12/200: 100%|██████████| 77/77 [00:01<00:00, 38.52it/s, Loss=0.0153, Acc=17.02%, LR=0.000500]\n"
     ]
    },
    {
     "name": "stdout",
     "output_type": "stream",
     "text": [
      "Epoch [12/200]\n",
      "Train Loss: 0.015251635882229386, Train Acc: 17.02%, LR: 0.000500\n",
      "------------------------------------------------------------\n"
     ]
    },
    {
     "name": "stderr",
     "output_type": "stream",
     "text": [
      "Epoch 13/200: 100%|██████████| 77/77 [00:01<00:00, 39.49it/s, Loss=0.0132, Acc=24.83%, LR=0.000550]\n"
     ]
    },
    {
     "name": "stdout",
     "output_type": "stream",
     "text": [
      "Epoch [13/200]\n",
      "Train Loss: 0.013224316071477029, Train Acc: 24.83%, LR: 0.000550\n",
      "------------------------------------------------------------\n"
     ]
    },
    {
     "name": "stderr",
     "output_type": "stream",
     "text": [
      "Epoch 14/200: 100%|██████████| 77/77 [00:02<00:00, 37.61it/s, Loss=0.0108, Acc=33.35%, LR=0.000600]\n"
     ]
    },
    {
     "name": "stdout",
     "output_type": "stream",
     "text": [
      "Epoch [14/200]\n",
      "Train Loss: 0.010761580570576737, Train Acc: 33.35%, LR: 0.000600\n",
      "------------------------------------------------------------\n"
     ]
    },
    {
     "name": "stderr",
     "output_type": "stream",
     "text": [
      "Epoch 15/200: 100%|██████████| 77/77 [00:02<00:00, 37.85it/s, Loss=0.0095, Acc=40.10%, LR=0.000650]\n"
     ]
    },
    {
     "name": "stdout",
     "output_type": "stream",
     "text": [
      "Epoch [15/200]\n",
      "Train Loss: 0.009479835730759644, Train Acc: 40.10%, LR: 0.000650\n",
      "------------------------------------------------------------\n"
     ]
    },
    {
     "name": "stderr",
     "output_type": "stream",
     "text": [
      "Epoch 16/200: 100%|██████████| 77/77 [00:01<00:00, 39.99it/s, Loss=0.0083, Acc=44.79%, LR=0.000700]\n"
     ]
    },
    {
     "name": "stdout",
     "output_type": "stream",
     "text": [
      "Epoch [16/200]\n",
      "Train Loss: 0.00828786778593339, Train Acc: 44.79%, LR: 0.000700\n",
      "------------------------------------------------------------\n"
     ]
    },
    {
     "name": "stderr",
     "output_type": "stream",
     "text": [
      "Epoch 17/200: 100%|██████████| 77/77 [00:02<00:00, 37.86it/s, Loss=0.0079, Acc=47.71%, LR=0.000750]\n"
     ]
    },
    {
     "name": "stdout",
     "output_type": "stream",
     "text": [
      "Epoch [17/200]\n",
      "Train Loss: 0.007938722629317796, Train Acc: 47.71%, LR: 0.000750\n",
      "------------------------------------------------------------\n"
     ]
    },
    {
     "name": "stderr",
     "output_type": "stream",
     "text": [
      "Epoch 18/200: 100%|██████████| 77/77 [00:01<00:00, 39.66it/s, Loss=0.0071, Acc=54.11%, LR=0.000800]\n"
     ]
    },
    {
     "name": "stdout",
     "output_type": "stream",
     "text": [
      "Epoch [18/200]\n",
      "Train Loss: 0.007074646336327355, Train Acc: 54.11%, LR: 0.000800\n",
      "------------------------------------------------------------\n"
     ]
    },
    {
     "name": "stderr",
     "output_type": "stream",
     "text": [
      "Epoch 19/200: 100%|██████████| 77/77 [00:02<00:00, 37.87it/s, Loss=0.0071, Acc=54.92%, LR=0.000850]\n"
     ]
    },
    {
     "name": "stdout",
     "output_type": "stream",
     "text": [
      "Epoch [19/200]\n",
      "Train Loss: 0.007094444890352353, Train Acc: 54.92%, LR: 0.000850\n",
      "------------------------------------------------------------\n"
     ]
    },
    {
     "name": "stderr",
     "output_type": "stream",
     "text": [
      "Epoch 20/200: 100%|██████████| 77/77 [00:02<00:00, 38.09it/s, Loss=0.0065, Acc=60.39%, LR=0.000900]\n"
     ]
    },
    {
     "name": "stdout",
     "output_type": "stream",
     "text": [
      "Epoch [20/200]\n",
      "Train Loss: 0.006451325983568034, Train Acc: 60.39%, LR: 0.000900\n",
      "------------------------------------------------------------\n"
     ]
    },
    {
     "name": "stderr",
     "output_type": "stream",
     "text": [
      "Epoch 21/200: 100%|██████████| 77/77 [00:01<00:00, 39.56it/s, Loss=0.0068, Acc=55.58%, LR=0.000950]\n"
     ]
    },
    {
     "name": "stdout",
     "output_type": "stream",
     "text": [
      "Epoch [21/200]\n",
      "Train Loss: 0.006789499490488586, Train Acc: 55.58%, LR: 0.000950\n",
      "------------------------------------------------------------\n"
     ]
    },
    {
     "name": "stderr",
     "output_type": "stream",
     "text": [
      "Epoch 22/200: 100%|██████████| 77/77 [00:02<00:00, 37.18it/s, Loss=0.0065, Acc=56.70%, LR=0.001000]\n"
     ]
    },
    {
     "name": "stdout",
     "output_type": "stream",
     "text": [
      "Epoch [22/200]\n",
      "Train Loss: 0.006505450092077666, Train Acc: 56.70%, LR: 0.001000\n",
      "------------------------------------------------------------\n"
     ]
    },
    {
     "name": "stderr",
     "output_type": "stream",
     "text": [
      "Epoch 23/200: 100%|██████████| 77/77 [00:01<00:00, 39.11it/s, Loss=0.0062, Acc=53.76%, LR=0.001000]\n"
     ]
    },
    {
     "name": "stdout",
     "output_type": "stream",
     "text": [
      "Epoch [23/200]\n",
      "Train Loss: 0.0061952394762911, Train Acc: 53.76%, LR: 0.001000\n",
      "------------------------------------------------------------\n"
     ]
    },
    {
     "name": "stderr",
     "output_type": "stream",
     "text": [
      "Epoch 24/200: 100%|██████████| 77/77 [00:01<00:00, 38.57it/s, Loss=0.0061, Acc=60.69%, LR=0.001000]\n"
     ]
    },
    {
     "name": "stdout",
     "output_type": "stream",
     "text": [
      "Epoch [24/200]\n",
      "Train Loss: 0.006125353420736849, Train Acc: 60.69%, LR: 0.001000\n",
      "------------------------------------------------------------\n"
     ]
    },
    {
     "name": "stderr",
     "output_type": "stream",
     "text": [
      "Epoch 25/200: 100%|██████████| 77/77 [00:02<00:00, 38.37it/s, Loss=0.0062, Acc=60.12%, LR=0.000999]\n"
     ]
    },
    {
     "name": "stdout",
     "output_type": "stream",
     "text": [
      "Epoch [25/200]\n",
      "Train Loss: 0.006152694367171664, Train Acc: 60.12%, LR: 0.000999\n",
      "------------------------------------------------------------\n"
     ]
    },
    {
     "name": "stderr",
     "output_type": "stream",
     "text": [
      "Epoch 26/200: 100%|██████████| 77/77 [00:01<00:00, 39.84it/s, Loss=0.0060, Acc=59.33%, LR=0.000999]\n"
     ]
    },
    {
     "name": "stdout",
     "output_type": "stream",
     "text": [
      "Epoch [26/200]\n",
      "Train Loss: 0.006025813570224934, Train Acc: 59.33%, LR: 0.000999\n",
      "------------------------------------------------------------\n"
     ]
    },
    {
     "name": "stderr",
     "output_type": "stream",
     "text": [
      "Epoch 27/200: 100%|██████████| 77/77 [00:02<00:00, 38.40it/s, Loss=0.0061, Acc=65.95%, LR=0.000998]\n"
     ]
    },
    {
     "name": "stdout",
     "output_type": "stream",
     "text": [
      "Epoch [27/200]\n",
      "Train Loss: 0.00608087995512163, Train Acc: 65.95%, LR: 0.000998\n",
      "------------------------------------------------------------\n"
     ]
    },
    {
     "name": "stderr",
     "output_type": "stream",
     "text": [
      "Epoch 28/200: 100%|██████████| 77/77 [00:01<00:00, 38.52it/s, Loss=0.0055, Acc=67.52%, LR=0.000997]\n"
     ]
    },
    {
     "name": "stdout",
     "output_type": "stream",
     "text": [
      "Epoch [28/200]\n",
      "Train Loss: 0.00545618458546686, Train Acc: 67.52%, LR: 0.000997\n",
      "------------------------------------------------------------\n"
     ]
    },
    {
     "name": "stderr",
     "output_type": "stream",
     "text": [
      "Epoch 29/200: 100%|██████████| 77/77 [00:02<00:00, 35.93it/s, Loss=0.0051, Acc=69.26%, LR=0.000996]\n"
     ]
    },
    {
     "name": "stdout",
     "output_type": "stream",
     "text": [
      "Epoch [29/200]\n",
      "Train Loss: 0.005106362998568719, Train Acc: 69.26%, LR: 0.000996\n",
      "------------------------------------------------------------\n"
     ]
    },
    {
     "name": "stderr",
     "output_type": "stream",
     "text": [
      "Epoch 30/200: 100%|██████████| 77/77 [00:02<00:00, 36.66it/s, Loss=0.0048, Acc=68.20%, LR=0.000995]\n"
     ]
    },
    {
     "name": "stdout",
     "output_type": "stream",
     "text": [
      "Epoch [30/200]\n",
      "Train Loss: 0.004849777146478413, Train Acc: 68.20%, LR: 0.000995\n",
      "------------------------------------------------------------\n"
     ]
    },
    {
     "name": "stderr",
     "output_type": "stream",
     "text": [
      "Epoch 31/200: 100%|██████████| 77/77 [00:01<00:00, 39.47it/s, Loss=0.0050, Acc=70.74%, LR=0.000994]\n"
     ]
    },
    {
     "name": "stdout",
     "output_type": "stream",
     "text": [
      "Epoch [31/200]\n",
      "Train Loss: 0.005002338334149983, Train Acc: 70.74%, LR: 0.000994\n",
      "------------------------------------------------------------\n"
     ]
    },
    {
     "name": "stderr",
     "output_type": "stream",
     "text": [
      "Epoch 32/200: 100%|██████████| 77/77 [00:02<00:00, 37.61it/s, Loss=0.0042, Acc=73.33%, LR=0.000992]\n"
     ]
    },
    {
     "name": "stdout",
     "output_type": "stream",
     "text": [
      "Epoch [32/200]\n",
      "Train Loss: 0.004242495354340569, Train Acc: 73.33%, LR: 0.000992\n",
      "------------------------------------------------------------\n"
     ]
    },
    {
     "name": "stderr",
     "output_type": "stream",
     "text": [
      "Epoch 33/200: 100%|██████████| 77/77 [00:02<00:00, 36.14it/s, Loss=0.0040, Acc=74.13%, LR=0.000991]\n"
     ]
    },
    {
     "name": "stdout",
     "output_type": "stream",
     "text": [
      "Epoch [33/200]\n",
      "Train Loss: 0.004048584108452566, Train Acc: 74.13%, LR: 0.000991\n",
      "------------------------------------------------------------\n"
     ]
    },
    {
     "name": "stderr",
     "output_type": "stream",
     "text": [
      "Epoch 34/200: 100%|██████████| 77/77 [00:02<00:00, 36.66it/s, Loss=0.0033, Acc=77.82%, LR=0.000989]\n"
     ]
    },
    {
     "name": "stdout",
     "output_type": "stream",
     "text": [
      "Epoch [34/200]\n",
      "Train Loss: 0.0033198326416752095, Train Acc: 77.82%, LR: 0.000989\n",
      "------------------------------------------------------------\n"
     ]
    },
    {
     "name": "stderr",
     "output_type": "stream",
     "text": [
      "Epoch 35/200: 100%|██████████| 77/77 [00:02<00:00, 37.40it/s, Loss=0.0037, Acc=75.51%, LR=0.000987]\n"
     ]
    },
    {
     "name": "stdout",
     "output_type": "stream",
     "text": [
      "Epoch [35/200]\n",
      "Train Loss: 0.0037424516117248634, Train Acc: 75.51%, LR: 0.000987\n",
      "------------------------------------------------------------\n"
     ]
    },
    {
     "name": "stderr",
     "output_type": "stream",
     "text": [
      "Epoch 36/200: 100%|██████████| 77/77 [00:01<00:00, 39.69it/s, Loss=0.0035, Acc=78.67%, LR=0.000985]\n"
     ]
    },
    {
     "name": "stdout",
     "output_type": "stream",
     "text": [
      "Epoch [36/200]\n",
      "Train Loss: 0.0035101203517209703, Train Acc: 78.67%, LR: 0.000985\n",
      "------------------------------------------------------------\n"
     ]
    },
    {
     "name": "stderr",
     "output_type": "stream",
     "text": [
      "Epoch 37/200: 100%|██████████| 77/77 [00:02<00:00, 37.78it/s, Loss=0.0035, Acc=80.75%, LR=0.000983]\n"
     ]
    },
    {
     "name": "stdout",
     "output_type": "stream",
     "text": [
      "Epoch [37/200]\n",
      "Train Loss: 0.00351035884920169, Train Acc: 80.75%, LR: 0.000983\n",
      "------------------------------------------------------------\n"
     ]
    },
    {
     "name": "stderr",
     "output_type": "stream",
     "text": [
      "Epoch 38/200: 100%|██████████| 77/77 [00:02<00:00, 37.93it/s, Loss=0.0031, Acc=81.51%, LR=0.000981]\n"
     ]
    },
    {
     "name": "stdout",
     "output_type": "stream",
     "text": [
      "Epoch [38/200]\n",
      "Train Loss: 0.0031342028599389673, Train Acc: 81.51%, LR: 0.000981\n",
      "------------------------------------------------------------\n"
     ]
    },
    {
     "name": "stderr",
     "output_type": "stream",
     "text": [
      "Epoch 39/200: 100%|██████████| 77/77 [00:02<00:00, 35.50it/s, Loss=0.0030, Acc=83.77%, LR=0.000978]\n"
     ]
    },
    {
     "name": "stdout",
     "output_type": "stream",
     "text": [
      "Epoch [39/200]\n",
      "Train Loss: 0.0029691317227938177, Train Acc: 83.77%, LR: 0.000978\n",
      "------------------------------------------------------------\n"
     ]
    },
    {
     "name": "stderr",
     "output_type": "stream",
     "text": [
      "Epoch 40/200: 100%|██████████| 77/77 [00:02<00:00, 36.07it/s, Loss=0.0028, Acc=83.63%, LR=0.000976]\n"
     ]
    },
    {
     "name": "stdout",
     "output_type": "stream",
     "text": [
      "Epoch [40/200]\n",
      "Train Loss: 0.0028217546199599593, Train Acc: 83.63%, LR: 0.000976\n",
      "------------------------------------------------------------\n"
     ]
    },
    {
     "name": "stderr",
     "output_type": "stream",
     "text": [
      "Epoch 41/200: 100%|██████████| 77/77 [00:01<00:00, 39.36it/s, Loss=0.0024, Acc=84.85%, LR=0.000973]\n"
     ]
    },
    {
     "name": "stdout",
     "output_type": "stream",
     "text": [
      "Epoch [41/200]\n",
      "Train Loss: 0.0024034552524745457, Train Acc: 84.85%, LR: 0.000973\n",
      "------------------------------------------------------------\n"
     ]
    },
    {
     "name": "stderr",
     "output_type": "stream",
     "text": [
      "Epoch 42/200: 100%|██████████| 77/77 [00:02<00:00, 37.55it/s, Loss=0.0027, Acc=84.06%, LR=0.000970]\n"
     ]
    },
    {
     "name": "stdout",
     "output_type": "stream",
     "text": [
      "Epoch [42/200]\n",
      "Train Loss: 0.002710441652942047, Train Acc: 84.06%, LR: 0.000970\n",
      "------------------------------------------------------------\n"
     ]
    },
    {
     "name": "stderr",
     "output_type": "stream",
     "text": [
      "Epoch 43/200: 100%|██████████| 77/77 [00:01<00:00, 38.61it/s, Loss=0.0023, Acc=86.46%, LR=0.000967]\n"
     ]
    },
    {
     "name": "stdout",
     "output_type": "stream",
     "text": [
      "Epoch [43/200]\n",
      "Train Loss: 0.0023422386542048803, Train Acc: 86.46%, LR: 0.000967\n",
      "------------------------------------------------------------\n"
     ]
    },
    {
     "name": "stderr",
     "output_type": "stream",
     "text": [
      "Epoch 44/200: 100%|██████████| 77/77 [00:02<00:00, 37.45it/s, Loss=0.0020, Acc=87.09%, LR=0.000964]\n"
     ]
    },
    {
     "name": "stdout",
     "output_type": "stream",
     "text": [
      "Epoch [44/200]\n",
      "Train Loss: 0.002027330654338773, Train Acc: 87.09%, LR: 0.000964\n",
      "------------------------------------------------------------\n"
     ]
    },
    {
     "name": "stderr",
     "output_type": "stream",
     "text": [
      "Epoch 45/200: 100%|██████████| 77/77 [00:02<00:00, 37.55it/s, Loss=0.0026, Acc=86.14%, LR=0.000960]\n"
     ]
    },
    {
     "name": "stdout",
     "output_type": "stream",
     "text": [
      "Epoch [45/200]\n",
      "Train Loss: 0.00257997019515016, Train Acc: 86.14%, LR: 0.000960\n",
      "------------------------------------------------------------\n"
     ]
    },
    {
     "name": "stderr",
     "output_type": "stream",
     "text": [
      "Epoch 46/200: 100%|██████████| 77/77 [00:01<00:00, 38.81it/s, Loss=0.0025, Acc=86.89%, LR=0.000957]\n"
     ]
    },
    {
     "name": "stdout",
     "output_type": "stream",
     "text": [
      "Epoch [46/200]\n",
      "Train Loss: 0.002528573190109266, Train Acc: 86.89%, LR: 0.000957\n",
      "------------------------------------------------------------\n"
     ]
    },
    {
     "name": "stderr",
     "output_type": "stream",
     "text": [
      "Epoch 47/200: 100%|██████████| 77/77 [00:02<00:00, 38.12it/s, Loss=0.0024, Acc=84.95%, LR=0.000953]\n"
     ]
    },
    {
     "name": "stdout",
     "output_type": "stream",
     "text": [
      "Epoch [47/200]\n",
      "Train Loss: 0.0024416249609392066, Train Acc: 84.95%, LR: 0.000953\n",
      "------------------------------------------------------------\n"
     ]
    },
    {
     "name": "stderr",
     "output_type": "stream",
     "text": [
      "Epoch 48/200: 100%|██████████| 77/77 [00:01<00:00, 39.02it/s, Loss=0.0022, Acc=88.22%, LR=0.000949]\n"
     ]
    },
    {
     "name": "stdout",
     "output_type": "stream",
     "text": [
      "Epoch [48/200]\n",
      "Train Loss: 0.0021646781393641294, Train Acc: 88.22%, LR: 0.000949\n",
      "------------------------------------------------------------\n"
     ]
    },
    {
     "name": "stderr",
     "output_type": "stream",
     "text": [
      "Epoch 49/200: 100%|██████████| 77/77 [00:01<00:00, 38.84it/s, Loss=0.0019, Acc=88.79%, LR=0.000946]\n"
     ]
    },
    {
     "name": "stdout",
     "output_type": "stream",
     "text": [
      "Epoch [49/200]\n",
      "Train Loss: 0.0019413442035317542, Train Acc: 88.79%, LR: 0.000946\n",
      "------------------------------------------------------------\n"
     ]
    },
    {
     "name": "stderr",
     "output_type": "stream",
     "text": [
      "Epoch 50/200: 100%|██████████| 77/77 [00:02<00:00, 38.40it/s, Loss=0.0018, Acc=90.07%, LR=0.000942]\n"
     ]
    },
    {
     "name": "stdout",
     "output_type": "stream",
     "text": [
      "Epoch [50/200]\n",
      "Train Loss: 0.0017773369537670597, Train Acc: 90.07%, LR: 0.000942\n",
      "------------------------------------------------------------\n"
     ]
    },
    {
     "name": "stderr",
     "output_type": "stream",
     "text": [
      "Epoch 51/200: 100%|██████████| 77/77 [00:01<00:00, 40.41it/s, Loss=0.0019, Acc=89.50%, LR=0.000937]\n"
     ]
    },
    {
     "name": "stdout",
     "output_type": "stream",
     "text": [
      "Epoch [51/200]\n",
      "Train Loss: 0.0018587919812371302, Train Acc: 89.50%, LR: 0.000937\n",
      "------------------------------------------------------------\n"
     ]
    },
    {
     "name": "stderr",
     "output_type": "stream",
     "text": [
      "Epoch 52/200: 100%|██████████| 77/77 [00:02<00:00, 37.09it/s, Loss=0.0013, Acc=93.31%, LR=0.000933]\n"
     ]
    },
    {
     "name": "stdout",
     "output_type": "stream",
     "text": [
      "Epoch [52/200]\n",
      "Train Loss: 0.001299282363697194, Train Acc: 93.31%, LR: 0.000933\n",
      "------------------------------------------------------------\n"
     ]
    },
    {
     "name": "stderr",
     "output_type": "stream",
     "text": [
      "Epoch 53/200: 100%|██████████| 77/77 [00:01<00:00, 39.59it/s, Loss=0.0012, Acc=93.64%, LR=0.000929]\n"
     ]
    },
    {
     "name": "stdout",
     "output_type": "stream",
     "text": [
      "Epoch [53/200]\n",
      "Train Loss: 0.0012112927697317346, Train Acc: 93.64%, LR: 0.000929\n",
      "------------------------------------------------------------\n"
     ]
    },
    {
     "name": "stderr",
     "output_type": "stream",
     "text": [
      "Epoch 54/200: 100%|██████████| 77/77 [00:02<00:00, 38.48it/s, Loss=0.0013, Acc=92.91%, LR=0.000924]\n"
     ]
    },
    {
     "name": "stdout",
     "output_type": "stream",
     "text": [
      "Epoch [54/200]\n",
      "Train Loss: 0.0012524425000643154, Train Acc: 92.91%, LR: 0.000924\n",
      "------------------------------------------------------------\n"
     ]
    },
    {
     "name": "stderr",
     "output_type": "stream",
     "text": [
      "Epoch 55/200: 100%|██████████| 77/77 [00:02<00:00, 38.20it/s, Loss=0.0014, Acc=91.56%, LR=0.000919]\n"
     ]
    },
    {
     "name": "stdout",
     "output_type": "stream",
     "text": [
      "Epoch [55/200]\n",
      "Train Loss: 0.0013512251052343817, Train Acc: 91.56%, LR: 0.000919\n",
      "------------------------------------------------------------\n"
     ]
    },
    {
     "name": "stderr",
     "output_type": "stream",
     "text": [
      "Epoch 56/200: 100%|██████████| 77/77 [00:01<00:00, 40.84it/s, Loss=0.0012, Acc=93.66%, LR=0.000915]\n"
     ]
    },
    {
     "name": "stdout",
     "output_type": "stream",
     "text": [
      "Epoch [56/200]\n",
      "Train Loss: 0.0012096590302486197, Train Acc: 93.66%, LR: 0.000915\n",
      "------------------------------------------------------------\n"
     ]
    },
    {
     "name": "stderr",
     "output_type": "stream",
     "text": [
      "Epoch 57/200: 100%|██████████| 77/77 [00:02<00:00, 38.47it/s, Loss=0.0014, Acc=92.76%, LR=0.000910]\n"
     ]
    },
    {
     "name": "stdout",
     "output_type": "stream",
     "text": [
      "Epoch [57/200]\n",
      "Train Loss: 0.0013572220278464638, Train Acc: 92.76%, LR: 0.000910\n",
      "------------------------------------------------------------\n"
     ]
    },
    {
     "name": "stderr",
     "output_type": "stream",
     "text": [
      "Epoch 58/200: 100%|██████████| 77/77 [00:01<00:00, 38.71it/s, Loss=0.0015, Acc=90.28%, LR=0.000905]\n"
     ]
    },
    {
     "name": "stdout",
     "output_type": "stream",
     "text": [
      "Epoch [58/200]\n",
      "Train Loss: 0.0015068348152158545, Train Acc: 90.28%, LR: 0.000905\n",
      "------------------------------------------------------------\n"
     ]
    },
    {
     "name": "stderr",
     "output_type": "stream",
     "text": [
      "Epoch 59/200: 100%|██████████| 77/77 [00:02<00:00, 37.32it/s, Loss=0.0020, Acc=88.28%, LR=0.000899]\n"
     ]
    },
    {
     "name": "stdout",
     "output_type": "stream",
     "text": [
      "Epoch [59/200]\n",
      "Train Loss: 0.001962300576345221, Train Acc: 88.28%, LR: 0.000899\n",
      "------------------------------------------------------------\n"
     ]
    },
    {
     "name": "stderr",
     "output_type": "stream",
     "text": [
      "Epoch 60/200: 100%|██████████| 77/77 [00:01<00:00, 38.59it/s, Loss=0.0022, Acc=87.18%, LR=0.000894]\n"
     ]
    },
    {
     "name": "stdout",
     "output_type": "stream",
     "text": [
      "Epoch [60/200]\n",
      "Train Loss: 0.0022326068696934447, Train Acc: 87.18%, LR: 0.000894\n",
      "------------------------------------------------------------\n"
     ]
    },
    {
     "name": "stderr",
     "output_type": "stream",
     "text": [
      "Epoch 61/200: 100%|██████████| 77/77 [00:01<00:00, 39.38it/s, Loss=0.0016, Acc=89.99%, LR=0.000889]\n"
     ]
    },
    {
     "name": "stdout",
     "output_type": "stream",
     "text": [
      "Epoch [61/200]\n",
      "Train Loss: 0.0016154314387251787, Train Acc: 89.99%, LR: 0.000889\n",
      "------------------------------------------------------------\n"
     ]
    },
    {
     "name": "stderr",
     "output_type": "stream",
     "text": [
      "Epoch 62/200: 100%|██████████| 77/77 [00:02<00:00, 37.95it/s, Loss=0.0020, Acc=89.46%, LR=0.000883]\n"
     ]
    },
    {
     "name": "stdout",
     "output_type": "stream",
     "text": [
      "Epoch [62/200]\n",
      "Train Loss: 0.001987164883687072, Train Acc: 89.46%, LR: 0.000883\n",
      "------------------------------------------------------------\n"
     ]
    },
    {
     "name": "stderr",
     "output_type": "stream",
     "text": [
      "Epoch 63/200: 100%|██████████| 77/77 [00:02<00:00, 38.36it/s, Loss=0.0016, Acc=89.56%, LR=0.000877]\n"
     ]
    },
    {
     "name": "stdout",
     "output_type": "stream",
     "text": [
      "Epoch [63/200]\n",
      "Train Loss: 0.0016199291704805392, Train Acc: 89.56%, LR: 0.000877\n",
      "------------------------------------------------------------\n"
     ]
    },
    {
     "name": "stderr",
     "output_type": "stream",
     "text": [
      "Epoch 64/200: 100%|██████████| 77/77 [00:02<00:00, 35.11it/s, Loss=0.0016, Acc=90.76%, LR=0.000872]\n"
     ]
    },
    {
     "name": "stdout",
     "output_type": "stream",
     "text": [
      "Epoch [64/200]\n",
      "Train Loss: 0.0015643123192662584, Train Acc: 90.76%, LR: 0.000872\n",
      "------------------------------------------------------------\n"
     ]
    },
    {
     "name": "stderr",
     "output_type": "stream",
     "text": [
      "Epoch 65/200: 100%|██████████| 77/77 [00:01<00:00, 38.75it/s, Loss=0.0014, Acc=90.40%, LR=0.000866]\n"
     ]
    },
    {
     "name": "stdout",
     "output_type": "stream",
     "text": [
      "Epoch [65/200]\n",
      "Train Loss: 0.0014323540757474106, Train Acc: 90.40%, LR: 0.000866\n",
      "------------------------------------------------------------\n"
     ]
    },
    {
     "name": "stderr",
     "output_type": "stream",
     "text": [
      "Epoch 66/200: 100%|██████████| 77/77 [00:01<00:00, 38.92it/s, Loss=0.0015, Acc=90.95%, LR=0.000860]\n"
     ]
    },
    {
     "name": "stdout",
     "output_type": "stream",
     "text": [
      "Epoch [66/200]\n",
      "Train Loss: 0.001492189137538785, Train Acc: 90.95%, LR: 0.000860\n",
      "------------------------------------------------------------\n"
     ]
    },
    {
     "name": "stderr",
     "output_type": "stream",
     "text": [
      "Epoch 67/200: 100%|██████████| 77/77 [00:02<00:00, 38.45it/s, Loss=0.0019, Acc=87.05%, LR=0.000854]\n"
     ]
    },
    {
     "name": "stdout",
     "output_type": "stream",
     "text": [
      "Epoch [67/200]\n",
      "Train Loss: 0.0019448592847057424, Train Acc: 87.05%, LR: 0.000854\n",
      "------------------------------------------------------------\n"
     ]
    },
    {
     "name": "stderr",
     "output_type": "stream",
     "text": [
      "Epoch 68/200: 100%|██████████| 77/77 [00:01<00:00, 39.72it/s, Loss=0.0013, Acc=91.05%, LR=0.000847]\n"
     ]
    },
    {
     "name": "stdout",
     "output_type": "stream",
     "text": [
      "Epoch [68/200]\n",
      "Train Loss: 0.0012847426896296856, Train Acc: 91.05%, LR: 0.000847\n",
      "------------------------------------------------------------\n"
     ]
    },
    {
     "name": "stderr",
     "output_type": "stream",
     "text": [
      "Epoch 69/200: 100%|██████████| 77/77 [00:02<00:00, 38.19it/s, Loss=0.0011, Acc=93.13%, LR=0.000841]\n"
     ]
    },
    {
     "name": "stdout",
     "output_type": "stream",
     "text": [
      "Epoch [69/200]\n",
      "Train Loss: 0.0010719848521042073, Train Acc: 93.13%, LR: 0.000841\n",
      "------------------------------------------------------------\n"
     ]
    },
    {
     "name": "stderr",
     "output_type": "stream",
     "text": [
      "Epoch 70/200: 100%|██████████| 77/77 [00:01<00:00, 39.76it/s, Loss=0.0013, Acc=93.39%, LR=0.000835]\n"
     ]
    },
    {
     "name": "stdout",
     "output_type": "stream",
     "text": [
      "Epoch [70/200]\n",
      "Train Loss: 0.0012966994993082873, Train Acc: 93.39%, LR: 0.000835\n",
      "------------------------------------------------------------\n"
     ]
    },
    {
     "name": "stderr",
     "output_type": "stream",
     "text": [
      "Epoch 71/200: 100%|██████████| 77/77 [00:02<00:00, 35.72it/s, Loss=0.0011, Acc=93.11%, LR=0.000828]\n"
     ]
    },
    {
     "name": "stdout",
     "output_type": "stream",
     "text": [
      "Epoch [71/200]\n",
      "Train Loss: 0.0011028349107583416, Train Acc: 93.11%, LR: 0.000828\n",
      "------------------------------------------------------------\n"
     ]
    },
    {
     "name": "stderr",
     "output_type": "stream",
     "text": [
      "Epoch 72/200: 100%|██████████| 77/77 [00:02<00:00, 37.50it/s, Loss=0.0014, Acc=92.99%, LR=0.000822]\n"
     ]
    },
    {
     "name": "stdout",
     "output_type": "stream",
     "text": [
      "Epoch [72/200]\n",
      "Train Loss: 0.001386647838397086, Train Acc: 92.99%, LR: 0.000822\n",
      "------------------------------------------------------------\n"
     ]
    },
    {
     "name": "stderr",
     "output_type": "stream",
     "text": [
      "Epoch 73/200: 100%|██████████| 77/77 [00:02<00:00, 38.48it/s, Loss=0.0014, Acc=92.64%, LR=0.000815]\n"
     ]
    },
    {
     "name": "stdout",
     "output_type": "stream",
     "text": [
      "Epoch [73/200]\n",
      "Train Loss: 0.0014087729319820844, Train Acc: 92.64%, LR: 0.000815\n",
      "------------------------------------------------------------\n"
     ]
    },
    {
     "name": "stderr",
     "output_type": "stream",
     "text": [
      "Epoch 74/200: 100%|██████████| 77/77 [00:02<00:00, 37.12it/s, Loss=0.0015, Acc=92.62%, LR=0.000808]\n"
     ]
    },
    {
     "name": "stdout",
     "output_type": "stream",
     "text": [
      "Epoch [74/200]\n",
      "Train Loss: 0.001512811777265833, Train Acc: 92.62%, LR: 0.000808\n",
      "------------------------------------------------------------\n"
     ]
    },
    {
     "name": "stderr",
     "output_type": "stream",
     "text": [
      "Epoch 75/200: 100%|██████████| 77/77 [00:01<00:00, 39.94it/s, Loss=0.0011, Acc=93.92%, LR=0.000801]\n"
     ]
    },
    {
     "name": "stdout",
     "output_type": "stream",
     "text": [
      "Epoch [75/200]\n",
      "Train Loss: 0.0010651154700051894, Train Acc: 93.92%, LR: 0.000801\n",
      "------------------------------------------------------------\n"
     ]
    },
    {
     "name": "stderr",
     "output_type": "stream",
     "text": [
      "Epoch 76/200: 100%|██████████| 77/77 [00:02<00:00, 37.29it/s, Loss=0.0010, Acc=93.78%, LR=0.000794]\n"
     ]
    },
    {
     "name": "stdout",
     "output_type": "stream",
     "text": [
      "Epoch [76/200]\n",
      "Train Loss: 0.0009590277255223814, Train Acc: 93.78%, LR: 0.000794\n",
      "------------------------------------------------------------\n"
     ]
    },
    {
     "name": "stderr",
     "output_type": "stream",
     "text": [
      "Epoch 77/200: 100%|██████████| 77/77 [00:02<00:00, 38.48it/s, Loss=0.0009, Acc=95.41%, LR=0.000787]\n"
     ]
    },
    {
     "name": "stdout",
     "output_type": "stream",
     "text": [
      "Epoch [77/200]\n",
      "Train Loss: 0.0009369087594512331, Train Acc: 95.41%, LR: 0.000787\n",
      "------------------------------------------------------------\n"
     ]
    },
    {
     "name": "stderr",
     "output_type": "stream",
     "text": [
      "Epoch 78/200: 100%|██████████| 77/77 [00:01<00:00, 38.72it/s, Loss=0.0009, Acc=96.23%, LR=0.000780]\n"
     ]
    },
    {
     "name": "stdout",
     "output_type": "stream",
     "text": [
      "Epoch [78/200]\n",
      "Train Loss: 0.0008565424017959159, Train Acc: 96.23%, LR: 0.000780\n",
      "------------------------------------------------------------\n"
     ]
    },
    {
     "name": "stderr",
     "output_type": "stream",
     "text": [
      "Epoch 79/200: 100%|██████████| 77/77 [00:02<00:00, 38.14it/s, Loss=0.0009, Acc=95.11%, LR=0.000773]\n"
     ]
    },
    {
     "name": "stdout",
     "output_type": "stream",
     "text": [
      "Epoch [79/200]\n",
      "Train Loss: 0.0008767604537586686, Train Acc: 95.11%, LR: 0.000773\n",
      "------------------------------------------------------------\n"
     ]
    },
    {
     "name": "stderr",
     "output_type": "stream",
     "text": [
      "Epoch 80/200: 100%|██████████| 77/77 [00:01<00:00, 38.91it/s, Loss=0.0007, Acc=96.41%, LR=0.000765]\n"
     ]
    },
    {
     "name": "stdout",
     "output_type": "stream",
     "text": [
      "Epoch [80/200]\n",
      "Train Loss: 0.0006633132387207014, Train Acc: 96.41%, LR: 0.000765\n",
      "------------------------------------------------------------\n"
     ]
    },
    {
     "name": "stderr",
     "output_type": "stream",
     "text": [
      "Epoch 81/200: 100%|██████████| 77/77 [00:02<00:00, 36.73it/s, Loss=0.0006, Acc=96.80%, LR=0.000758]\n"
     ]
    },
    {
     "name": "stdout",
     "output_type": "stream",
     "text": [
      "Epoch [81/200]\n",
      "Train Loss: 0.0005785151249740436, Train Acc: 96.80%, LR: 0.000758\n",
      "------------------------------------------------------------\n"
     ]
    },
    {
     "name": "stderr",
     "output_type": "stream",
     "text": [
      "Epoch 82/200: 100%|██████████| 77/77 [00:01<00:00, 38.78it/s, Loss=0.0008, Acc=96.55%, LR=0.000750]\n"
     ]
    },
    {
     "name": "stdout",
     "output_type": "stream",
     "text": [
      "Epoch [82/200]\n",
      "Train Loss: 0.0008325088772055876, Train Acc: 96.55%, LR: 0.000750\n",
      "------------------------------------------------------------\n"
     ]
    },
    {
     "name": "stderr",
     "output_type": "stream",
     "text": [
      "Epoch 83/200: 100%|██████████| 77/77 [00:01<00:00, 39.73it/s, Loss=0.0006, Acc=96.45%, LR=0.000743]\n"
     ]
    },
    {
     "name": "stdout",
     "output_type": "stream",
     "text": [
      "Epoch [83/200]\n",
      "Train Loss: 0.0006333970262822767, Train Acc: 96.45%, LR: 0.000743\n",
      "------------------------------------------------------------\n"
     ]
    },
    {
     "name": "stderr",
     "output_type": "stream",
     "text": [
      "Epoch 84/200: 100%|██████████| 77/77 [00:02<00:00, 37.48it/s, Loss=0.0009, Acc=96.51%, LR=0.000735]\n"
     ]
    },
    {
     "name": "stdout",
     "output_type": "stream",
     "text": [
      "Epoch [84/200]\n",
      "Train Loss: 0.0008893487650181799, Train Acc: 96.51%, LR: 0.000735\n",
      "------------------------------------------------------------\n"
     ]
    },
    {
     "name": "stderr",
     "output_type": "stream",
     "text": [
      "Epoch 85/200: 100%|██████████| 77/77 [00:01<00:00, 40.21it/s, Loss=0.0009, Acc=95.31%, LR=0.000727]\n"
     ]
    },
    {
     "name": "stdout",
     "output_type": "stream",
     "text": [
      "Epoch [85/200]\n",
      "Train Loss: 0.0009222962664423832, Train Acc: 95.31%, LR: 0.000727\n",
      "------------------------------------------------------------\n"
     ]
    },
    {
     "name": "stderr",
     "output_type": "stream",
     "text": [
      "Epoch 86/200: 100%|██████████| 77/77 [00:02<00:00, 37.66it/s, Loss=0.0009, Acc=96.13%, LR=0.000719]\n"
     ]
    },
    {
     "name": "stdout",
     "output_type": "stream",
     "text": [
      "Epoch [86/200]\n",
      "Train Loss: 0.0009097455792896228, Train Acc: 96.13%, LR: 0.000719\n",
      "------------------------------------------------------------\n"
     ]
    },
    {
     "name": "stderr",
     "output_type": "stream",
     "text": [
      "Epoch 87/200: 100%|██████████| 77/77 [00:02<00:00, 37.93it/s, Loss=0.0009, Acc=95.98%, LR=0.000712]\n"
     ]
    },
    {
     "name": "stdout",
     "output_type": "stream",
     "text": [
      "Epoch [87/200]\n",
      "Train Loss: 0.0008662023610550141, Train Acc: 95.98%, LR: 0.000712\n",
      "------------------------------------------------------------\n"
     ]
    },
    {
     "name": "stderr",
     "output_type": "stream",
     "text": [
      "Epoch 88/200: 100%|██████████| 77/77 [00:01<00:00, 39.38it/s, Loss=0.0011, Acc=95.51%, LR=0.000704]\n"
     ]
    },
    {
     "name": "stdout",
     "output_type": "stream",
     "text": [
      "Epoch [88/200]\n",
      "Train Loss: 0.0011108659548574303, Train Acc: 95.51%, LR: 0.000704\n",
      "------------------------------------------------------------\n"
     ]
    },
    {
     "name": "stderr",
     "output_type": "stream",
     "text": [
      "Epoch 89/200: 100%|██████████| 77/77 [00:02<00:00, 38.00it/s, Loss=0.0006, Acc=97.00%, LR=0.000696]\n"
     ]
    },
    {
     "name": "stdout",
     "output_type": "stream",
     "text": [
      "Epoch [89/200]\n",
      "Train Loss: 0.0006005536330659114, Train Acc: 97.00%, LR: 0.000696\n",
      "------------------------------------------------------------\n"
     ]
    },
    {
     "name": "stderr",
     "output_type": "stream",
     "text": [
      "Epoch 90/200: 100%|██████████| 77/77 [00:01<00:00, 39.37it/s, Loss=0.0005, Acc=97.59%, LR=0.000688]\n"
     ]
    },
    {
     "name": "stdout",
     "output_type": "stream",
     "text": [
      "Epoch [90/200]\n",
      "Train Loss: 0.0005211892000479802, Train Acc: 97.59%, LR: 0.000688\n",
      "------------------------------------------------------------\n"
     ]
    },
    {
     "name": "stderr",
     "output_type": "stream",
     "text": [
      "Epoch 91/200: 100%|██████████| 77/77 [00:02<00:00, 37.50it/s, Loss=0.0005, Acc=96.98%, LR=0.000680]\n"
     ]
    },
    {
     "name": "stdout",
     "output_type": "stream",
     "text": [
      "Epoch [91/200]\n",
      "Train Loss: 0.000503362762262807, Train Acc: 96.98%, LR: 0.000680\n",
      "------------------------------------------------------------\n"
     ]
    },
    {
     "name": "stderr",
     "output_type": "stream",
     "text": [
      "Epoch 92/200: 100%|██████████| 77/77 [00:02<00:00, 38.29it/s, Loss=0.0004, Acc=97.41%, LR=0.000671]\n"
     ]
    },
    {
     "name": "stdout",
     "output_type": "stream",
     "text": [
      "Epoch [92/200]\n",
      "Train Loss: 0.0004153589833839016, Train Acc: 97.41%, LR: 0.000671\n",
      "------------------------------------------------------------\n"
     ]
    },
    {
     "name": "stderr",
     "output_type": "stream",
     "text": [
      "Epoch 93/200: 100%|██████████| 77/77 [00:01<00:00, 38.70it/s, Loss=0.0005, Acc=97.84%, LR=0.000663]\n"
     ]
    },
    {
     "name": "stdout",
     "output_type": "stream",
     "text": [
      "Epoch [93/200]\n",
      "Train Loss: 0.0005112181305371628, Train Acc: 97.84%, LR: 0.000663\n",
      "------------------------------------------------------------\n"
     ]
    },
    {
     "name": "stderr",
     "output_type": "stream",
     "text": [
      "Epoch 94/200: 100%|██████████| 77/77 [00:02<00:00, 38.26it/s, Loss=0.0003, Acc=98.10%, LR=0.000655]\n"
     ]
    },
    {
     "name": "stdout",
     "output_type": "stream",
     "text": [
      "Epoch [94/200]\n",
      "Train Loss: 0.0003386978323841764, Train Acc: 98.10%, LR: 0.000655\n",
      "------------------------------------------------------------\n"
     ]
    },
    {
     "name": "stderr",
     "output_type": "stream",
     "text": [
      "Epoch 95/200: 100%|██████████| 77/77 [00:01<00:00, 40.11it/s, Loss=0.0004, Acc=98.04%, LR=0.000647]\n"
     ]
    },
    {
     "name": "stdout",
     "output_type": "stream",
     "text": [
      "Epoch [95/200]\n",
      "Train Loss: 0.00044937239067621704, Train Acc: 98.04%, LR: 0.000647\n",
      "------------------------------------------------------------\n"
     ]
    },
    {
     "name": "stderr",
     "output_type": "stream",
     "text": [
      "Epoch 96/200: 100%|██████████| 77/77 [00:02<00:00, 38.14it/s, Loss=0.0005, Acc=97.80%, LR=0.000638]\n"
     ]
    },
    {
     "name": "stdout",
     "output_type": "stream",
     "text": [
      "Epoch [96/200]\n",
      "Train Loss: 0.0005346484464665424, Train Acc: 97.80%, LR: 0.000638\n",
      "------------------------------------------------------------\n"
     ]
    },
    {
     "name": "stderr",
     "output_type": "stream",
     "text": [
      "Epoch 97/200: 100%|██████████| 77/77 [00:01<00:00, 40.36it/s, Loss=0.0008, Acc=97.43%, LR=0.000630]\n"
     ]
    },
    {
     "name": "stdout",
     "output_type": "stream",
     "text": [
      "Epoch [97/200]\n",
      "Train Loss: 0.0007884365938735613, Train Acc: 97.43%, LR: 0.000630\n",
      "------------------------------------------------------------\n"
     ]
    },
    {
     "name": "stderr",
     "output_type": "stream",
     "text": [
      "Epoch 98/200: 100%|██████████| 77/77 [00:02<00:00, 38.25it/s, Loss=0.0007, Acc=96.64%, LR=0.000621]\n"
     ]
    },
    {
     "name": "stdout",
     "output_type": "stream",
     "text": [
      "Epoch [98/200]\n",
      "Train Loss: 0.0007296306071584223, Train Acc: 96.64%, LR: 0.000621\n",
      "------------------------------------------------------------\n"
     ]
    },
    {
     "name": "stderr",
     "output_type": "stream",
     "text": [
      "Epoch 99/200: 100%|██████████| 77/77 [00:01<00:00, 38.72it/s, Loss=0.0007, Acc=97.68%, LR=0.000613]\n"
     ]
    },
    {
     "name": "stdout",
     "output_type": "stream",
     "text": [
      "Epoch [99/200]\n",
      "Train Loss: 0.0007199312159636739, Train Acc: 97.68%, LR: 0.000613\n",
      "------------------------------------------------------------\n"
     ]
    },
    {
     "name": "stderr",
     "output_type": "stream",
     "text": [
      "Epoch 100/200: 100%|██████████| 77/77 [00:01<00:00, 38.73it/s, Loss=0.0005, Acc=97.51%, LR=0.000604]\n"
     ]
    },
    {
     "name": "stdout",
     "output_type": "stream",
     "text": [
      "Epoch [100/200]\n",
      "Train Loss: 0.0005144612957991881, Train Acc: 97.51%, LR: 0.000604\n",
      "------------------------------------------------------------\n"
     ]
    },
    {
     "name": "stderr",
     "output_type": "stream",
     "text": [
      "Epoch 101/200: 100%|██████████| 77/77 [00:02<00:00, 38.14it/s, Loss=0.0006, Acc=97.35%, LR=0.000596]\n"
     ]
    },
    {
     "name": "stdout",
     "output_type": "stream",
     "text": [
      "Epoch [101/200]\n",
      "Train Loss: 0.0005602472098499592, Train Acc: 97.35%, LR: 0.000596\n",
      "------------------------------------------------------------\n"
     ]
    },
    {
     "name": "stderr",
     "output_type": "stream",
     "text": [
      "Epoch 102/200: 100%|██████████| 77/77 [00:01<00:00, 39.93it/s, Loss=0.0006, Acc=96.96%, LR=0.000587]\n"
     ]
    },
    {
     "name": "stdout",
     "output_type": "stream",
     "text": [
      "Epoch [102/200]\n",
      "Train Loss: 0.0006000198415164676, Train Acc: 96.96%, LR: 0.000587\n",
      "------------------------------------------------------------\n"
     ]
    },
    {
     "name": "stderr",
     "output_type": "stream",
     "text": [
      "Epoch 103/200: 100%|██████████| 77/77 [00:02<00:00, 37.69it/s, Loss=0.0005, Acc=98.25%, LR=0.000579]\n"
     ]
    },
    {
     "name": "stdout",
     "output_type": "stream",
     "text": [
      "Epoch [103/200]\n",
      "Train Loss: 0.0004917035026375578, Train Acc: 98.25%, LR: 0.000579\n",
      "------------------------------------------------------------\n"
     ]
    },
    {
     "name": "stderr",
     "output_type": "stream",
     "text": [
      "Epoch 104/200: 100%|██████████| 77/77 [00:01<00:00, 38.67it/s, Loss=0.0004, Acc=98.14%, LR=0.000570]\n"
     ]
    },
    {
     "name": "stdout",
     "output_type": "stream",
     "text": [
      "Epoch [104/200]\n",
      "Train Loss: 0.00042721320071361876, Train Acc: 98.14%, LR: 0.000570\n",
      "------------------------------------------------------------\n"
     ]
    },
    {
     "name": "stderr",
     "output_type": "stream",
     "text": [
      "Epoch 105/200: 100%|██████████| 77/77 [00:02<00:00, 38.24it/s, Loss=0.0003, Acc=98.76%, LR=0.000561]\n"
     ]
    },
    {
     "name": "stdout",
     "output_type": "stream",
     "text": [
      "Epoch [105/200]\n",
      "Train Loss: 0.0003184253982701855, Train Acc: 98.76%, LR: 0.000561\n",
      "------------------------------------------------------------\n"
     ]
    },
    {
     "name": "stderr",
     "output_type": "stream",
     "text": [
      "Epoch 106/200: 100%|██████████| 77/77 [00:02<00:00, 36.83it/s, Loss=0.0002, Acc=99.14%, LR=0.000553]\n"
     ]
    },
    {
     "name": "stdout",
     "output_type": "stream",
     "text": [
      "Epoch [106/200]\n",
      "Train Loss: 0.00020692571892194284, Train Acc: 99.14%, LR: 0.000553\n",
      "------------------------------------------------------------\n"
     ]
    },
    {
     "name": "stderr",
     "output_type": "stream",
     "text": [
      "Epoch 107/200: 100%|██████████| 77/77 [00:01<00:00, 39.66it/s, Loss=0.0003, Acc=99.06%, LR=0.000544]\n"
     ]
    },
    {
     "name": "stdout",
     "output_type": "stream",
     "text": [
      "Epoch [107/200]\n",
      "Train Loss: 0.00028827228989148235, Train Acc: 99.06%, LR: 0.000544\n",
      "------------------------------------------------------------\n"
     ]
    },
    {
     "name": "stderr",
     "output_type": "stream",
     "text": [
      "Epoch 108/200: 100%|██████████| 77/77 [00:01<00:00, 38.58it/s, Loss=0.0003, Acc=98.63%, LR=0.000535]\n"
     ]
    },
    {
     "name": "stdout",
     "output_type": "stream",
     "text": [
      "Epoch [108/200]\n",
      "Train Loss: 0.00031206109396224476, Train Acc: 98.63%, LR: 0.000535\n",
      "------------------------------------------------------------\n"
     ]
    },
    {
     "name": "stderr",
     "output_type": "stream",
     "text": [
      "Epoch 109/200: 100%|██████████| 77/77 [00:01<00:00, 39.13it/s, Loss=0.0002, Acc=99.02%, LR=0.000527]\n"
     ]
    },
    {
     "name": "stdout",
     "output_type": "stream",
     "text": [
      "Epoch [109/200]\n",
      "Train Loss: 0.00018343380485499414, Train Acc: 99.02%, LR: 0.000527\n",
      "------------------------------------------------------------\n"
     ]
    },
    {
     "name": "stderr",
     "output_type": "stream",
     "text": [
      "Epoch 110/200: 100%|██████████| 77/77 [00:02<00:00, 37.90it/s, Loss=0.0001, Acc=99.45%, LR=0.000518]\n"
     ]
    },
    {
     "name": "stdout",
     "output_type": "stream",
     "text": [
      "Epoch [110/200]\n",
      "Train Loss: 0.00013076619420083368, Train Acc: 99.45%, LR: 0.000518\n",
      "------------------------------------------------------------\n"
     ]
    },
    {
     "name": "stderr",
     "output_type": "stream",
     "text": [
      "Epoch 111/200: 100%|██████████| 77/77 [00:02<00:00, 37.81it/s, Loss=0.0001, Acc=99.49%, LR=0.000509]\n"
     ]
    },
    {
     "name": "stdout",
     "output_type": "stream",
     "text": [
      "Epoch [111/200]\n",
      "Train Loss: 0.00011757886009685794, Train Acc: 99.49%, LR: 0.000509\n",
      "------------------------------------------------------------\n"
     ]
    },
    {
     "name": "stderr",
     "output_type": "stream",
     "text": [
      "Epoch 112/200: 100%|██████████| 77/77 [00:01<00:00, 39.55it/s, Loss=0.0001, Acc=99.51%, LR=0.000501]\n"
     ]
    },
    {
     "name": "stdout",
     "output_type": "stream",
     "text": [
      "Epoch [112/200]\n",
      "Train Loss: 8.980257309027755e-05, Train Acc: 99.51%, LR: 0.000501\n",
      "------------------------------------------------------------\n"
     ]
    },
    {
     "name": "stderr",
     "output_type": "stream",
     "text": [
      "Epoch 113/200: 100%|██████████| 77/77 [00:02<00:00, 37.74it/s, Loss=0.0001, Acc=99.37%, LR=0.000492]\n"
     ]
    },
    {
     "name": "stdout",
     "output_type": "stream",
     "text": [
      "Epoch [113/200]\n",
      "Train Loss: 9.22755213485454e-05, Train Acc: 99.37%, LR: 0.000492\n",
      "------------------------------------------------------------\n"
     ]
    },
    {
     "name": "stderr",
     "output_type": "stream",
     "text": [
      "Epoch 114/200: 100%|██████████| 77/77 [00:01<00:00, 40.04it/s, Loss=0.0002, Acc=99.63%, LR=0.000483]\n"
     ]
    },
    {
     "name": "stdout",
     "output_type": "stream",
     "text": [
      "Epoch [114/200]\n",
      "Train Loss: 0.00015122018831817372, Train Acc: 99.63%, LR: 0.000483\n",
      "------------------------------------------------------------\n"
     ]
    },
    {
     "name": "stderr",
     "output_type": "stream",
     "text": [
      "Epoch 115/200: 100%|██████████| 77/77 [00:02<00:00, 32.77it/s, Loss=0.0002, Acc=99.43%, LR=0.000474]\n"
     ]
    },
    {
     "name": "stdout",
     "output_type": "stream",
     "text": [
      "Epoch [115/200]\n",
      "Train Loss: 0.0001589906580581508, Train Acc: 99.43%, LR: 0.000474\n",
      "------------------------------------------------------------\n"
     ]
    },
    {
     "name": "stderr",
     "output_type": "stream",
     "text": [
      "Epoch 116/200: 100%|██████████| 77/77 [00:02<00:00, 33.82it/s, Loss=0.0002, Acc=99.14%, LR=0.000466]\n"
     ]
    },
    {
     "name": "stdout",
     "output_type": "stream",
     "text": [
      "Epoch [116/200]\n",
      "Train Loss: 0.0002146644423876237, Train Acc: 99.14%, LR: 0.000466\n",
      "------------------------------------------------------------\n"
     ]
    },
    {
     "name": "stderr",
     "output_type": "stream",
     "text": [
      "Epoch 117/200: 100%|██████████| 77/77 [00:02<00:00, 34.16it/s, Loss=0.0003, Acc=98.90%, LR=0.000457]\n"
     ]
    },
    {
     "name": "stdout",
     "output_type": "stream",
     "text": [
      "Epoch [117/200]\n",
      "Train Loss: 0.0002810579541495791, Train Acc: 98.90%, LR: 0.000457\n",
      "------------------------------------------------------------\n"
     ]
    },
    {
     "name": "stderr",
     "output_type": "stream",
     "text": [
      "Epoch 118/200: 100%|██████████| 77/77 [00:02<00:00, 38.21it/s, Loss=0.0003, Acc=99.27%, LR=0.000448]\n"
     ]
    },
    {
     "name": "stdout",
     "output_type": "stream",
     "text": [
      "Epoch [118/200]\n",
      "Train Loss: 0.00028794853914465926, Train Acc: 99.27%, LR: 0.000448\n",
      "------------------------------------------------------------\n"
     ]
    },
    {
     "name": "stderr",
     "output_type": "stream",
     "text": [
      "Epoch 119/200: 100%|██████████| 77/77 [00:01<00:00, 38.84it/s, Loss=0.0003, Acc=98.88%, LR=0.000440]\n"
     ]
    },
    {
     "name": "stdout",
     "output_type": "stream",
     "text": [
      "Epoch [119/200]\n",
      "Train Loss: 0.00027653839698760517, Train Acc: 98.88%, LR: 0.000440\n",
      "------------------------------------------------------------\n"
     ]
    },
    {
     "name": "stderr",
     "output_type": "stream",
     "text": [
      "Epoch 120/200: 100%|██████████| 77/77 [00:02<00:00, 37.20it/s, Loss=0.0003, Acc=99.02%, LR=0.000431]\n"
     ]
    },
    {
     "name": "stdout",
     "output_type": "stream",
     "text": [
      "Epoch [120/200]\n",
      "Train Loss: 0.0003074640662255767, Train Acc: 99.02%, LR: 0.000431\n",
      "------------------------------------------------------------\n"
     ]
    },
    {
     "name": "stderr",
     "output_type": "stream",
     "text": [
      "Epoch 121/200: 100%|██████████| 77/77 [00:02<00:00, 37.69it/s, Loss=0.0002, Acc=99.08%, LR=0.000422]\n"
     ]
    },
    {
     "name": "stdout",
     "output_type": "stream",
     "text": [
      "Epoch [121/200]\n",
      "Train Loss: 0.00018298484200926537, Train Acc: 99.08%, LR: 0.000422\n",
      "------------------------------------------------------------\n"
     ]
    },
    {
     "name": "stderr",
     "output_type": "stream",
     "text": [
      "Epoch 122/200: 100%|██████████| 77/77 [00:01<00:00, 39.35it/s, Loss=0.0003, Acc=99.18%, LR=0.000414]\n"
     ]
    },
    {
     "name": "stdout",
     "output_type": "stream",
     "text": [
      "Epoch [122/200]\n",
      "Train Loss: 0.0002874754012229058, Train Acc: 99.18%, LR: 0.000414\n",
      "------------------------------------------------------------\n"
     ]
    },
    {
     "name": "stderr",
     "output_type": "stream",
     "text": [
      "Epoch 123/200: 100%|██████████| 77/77 [00:02<00:00, 38.09it/s, Loss=0.0002, Acc=99.33%, LR=0.000405]\n"
     ]
    },
    {
     "name": "stdout",
     "output_type": "stream",
     "text": [
      "Epoch [123/200]\n",
      "Train Loss: 0.00023339531287067442, Train Acc: 99.33%, LR: 0.000405\n",
      "------------------------------------------------------------\n"
     ]
    },
    {
     "name": "stderr",
     "output_type": "stream",
     "text": [
      "Epoch 124/200: 100%|██████████| 77/77 [00:01<00:00, 39.24it/s, Loss=0.0001, Acc=99.41%, LR=0.000397]\n"
     ]
    },
    {
     "name": "stdout",
     "output_type": "stream",
     "text": [
      "Epoch [124/200]\n",
      "Train Loss: 0.00013139719836491675, Train Acc: 99.41%, LR: 0.000397\n",
      "------------------------------------------------------------\n"
     ]
    },
    {
     "name": "stderr",
     "output_type": "stream",
     "text": [
      "Epoch 125/200: 100%|██████████| 77/77 [00:02<00:00, 37.01it/s, Loss=0.0001, Acc=99.61%, LR=0.000388]\n"
     ]
    },
    {
     "name": "stdout",
     "output_type": "stream",
     "text": [
      "Epoch [125/200]\n",
      "Train Loss: 7.856110345072354e-05, Train Acc: 99.61%, LR: 0.000388\n",
      "------------------------------------------------------------\n"
     ]
    },
    {
     "name": "stderr",
     "output_type": "stream",
     "text": [
      "Epoch 126/200: 100%|██████████| 77/77 [00:02<00:00, 33.41it/s, Loss=0.0000, Acc=99.90%, LR=0.000380] \n"
     ]
    },
    {
     "name": "stdout",
     "output_type": "stream",
     "text": [
      "Epoch [126/200]\n",
      "Train Loss: 2.928479247248401e-05, Train Acc: 99.90%, LR: 0.000380\n",
      "------------------------------------------------------------\n"
     ]
    },
    {
     "name": "stderr",
     "output_type": "stream",
     "text": [
      "Epoch 127/200: 100%|██████████| 77/77 [00:02<00:00, 36.46it/s, Loss=0.0000, Acc=99.82%, LR=0.000371] \n"
     ]
    },
    {
     "name": "stdout",
     "output_type": "stream",
     "text": [
      "Epoch [127/200]\n",
      "Train Loss: 1.5458471051562055e-05, Train Acc: 99.82%, LR: 0.000371\n",
      "------------------------------------------------------------\n"
     ]
    },
    {
     "name": "stderr",
     "output_type": "stream",
     "text": [
      "Epoch 128/200: 100%|██████████| 77/77 [00:02<00:00, 35.67it/s, Loss=0.0000, Acc=99.82%, LR=0.000363] \n"
     ]
    },
    {
     "name": "stdout",
     "output_type": "stream",
     "text": [
      "Epoch [128/200]\n",
      "Train Loss: 1.7884850541940386e-05, Train Acc: 99.82%, LR: 0.000363\n",
      "------------------------------------------------------------\n"
     ]
    },
    {
     "name": "stderr",
     "output_type": "stream",
     "text": [
      "Epoch 129/200: 100%|██████████| 77/77 [00:02<00:00, 36.62it/s, Loss=0.0000, Acc=99.84%, LR=0.000354]\n"
     ]
    },
    {
     "name": "stdout",
     "output_type": "stream",
     "text": [
      "Epoch [129/200]\n",
      "Train Loss: 2.970264725856939e-05, Train Acc: 99.84%, LR: 0.000354\n",
      "------------------------------------------------------------\n"
     ]
    },
    {
     "name": "stderr",
     "output_type": "stream",
     "text": [
      "Epoch 130/200: 100%|██████████| 77/77 [00:02<00:00, 34.88it/s, Loss=0.0000, Acc=99.76%, LR=0.000346]\n"
     ]
    },
    {
     "name": "stdout",
     "output_type": "stream",
     "text": [
      "Epoch [130/200]\n",
      "Train Loss: 4.692310281382918e-05, Train Acc: 99.76%, LR: 0.000346\n",
      "------------------------------------------------------------\n"
     ]
    },
    {
     "name": "stderr",
     "output_type": "stream",
     "text": [
      "Epoch 131/200: 100%|██████████| 77/77 [00:02<00:00, 32.62it/s, Loss=0.0000, Acc=99.78%, LR=0.000338]\n"
     ]
    },
    {
     "name": "stdout",
     "output_type": "stream",
     "text": [
      "Epoch [131/200]\n",
      "Train Loss: 4.895850437024264e-05, Train Acc: 99.78%, LR: 0.000338\n",
      "------------------------------------------------------------\n"
     ]
    },
    {
     "name": "stderr",
     "output_type": "stream",
     "text": [
      "Epoch 132/200: 100%|██████████| 77/77 [00:02<00:00, 37.90it/s, Loss=0.0000, Acc=99.90%, LR=0.000330]\n"
     ]
    },
    {
     "name": "stdout",
     "output_type": "stream",
     "text": [
      "Epoch [132/200]\n",
      "Train Loss: 2.785153644959768e-05, Train Acc: 99.90%, LR: 0.000330\n",
      "------------------------------------------------------------\n"
     ]
    },
    {
     "name": "stderr",
     "output_type": "stream",
     "text": [
      "Epoch 133/200: 100%|██████████| 77/77 [00:02<00:00, 33.67it/s, Loss=0.0000, Acc=99.88%, LR=0.000321] \n"
     ]
    },
    {
     "name": "stdout",
     "output_type": "stream",
     "text": [
      "Epoch [133/200]\n",
      "Train Loss: 1.942256514793188e-05, Train Acc: 99.88%, LR: 0.000321\n",
      "------------------------------------------------------------\n"
     ]
    },
    {
     "name": "stderr",
     "output_type": "stream",
     "text": [
      "Epoch 134/200: 100%|██████████| 77/77 [00:02<00:00, 37.40it/s, Loss=0.0000, Acc=99.92%, LR=0.000313] \n"
     ]
    },
    {
     "name": "stdout",
     "output_type": "stream",
     "text": [
      "Epoch [134/200]\n",
      "Train Loss: 1.3601923873659564e-05, Train Acc: 99.92%, LR: 0.000313\n",
      "------------------------------------------------------------\n"
     ]
    },
    {
     "name": "stderr",
     "output_type": "stream",
     "text": [
      "Epoch 135/200: 100%|██████████| 77/77 [00:02<00:00, 35.41it/s, Loss=0.0000, Acc=99.90%, LR=0.000305] \n"
     ]
    },
    {
     "name": "stdout",
     "output_type": "stream",
     "text": [
      "Epoch [135/200]\n",
      "Train Loss: 1.2701202865923437e-05, Train Acc: 99.90%, LR: 0.000305\n",
      "------------------------------------------------------------\n"
     ]
    },
    {
     "name": "stderr",
     "output_type": "stream",
     "text": [
      "Epoch 136/200: 100%|██████████| 77/77 [00:02<00:00, 35.71it/s, Loss=0.0000, Acc=99.94%, LR=0.000297] \n"
     ]
    },
    {
     "name": "stdout",
     "output_type": "stream",
     "text": [
      "Epoch [136/200]\n",
      "Train Loss: 9.013073030681786e-06, Train Acc: 99.94%, LR: 0.000297\n",
      "------------------------------------------------------------\n"
     ]
    },
    {
     "name": "stderr",
     "output_type": "stream",
     "text": [
      "Epoch 137/200: 100%|██████████| 77/77 [00:02<00:00, 35.40it/s, Loss=0.0000, Acc=99.88%, LR=0.000289] \n"
     ]
    },
    {
     "name": "stdout",
     "output_type": "stream",
     "text": [
      "Epoch [137/200]\n",
      "Train Loss: 9.815822588313801e-06, Train Acc: 99.88%, LR: 0.000289\n",
      "------------------------------------------------------------\n"
     ]
    },
    {
     "name": "stderr",
     "output_type": "stream",
     "text": [
      "Epoch 138/200: 100%|██████████| 77/77 [00:02<00:00, 33.96it/s, Loss=0.0000, Acc=99.92%, LR=0.000282] \n"
     ]
    },
    {
     "name": "stdout",
     "output_type": "stream",
     "text": [
      "Epoch [138/200]\n",
      "Train Loss: 7.826386555928059e-06, Train Acc: 99.92%, LR: 0.000282\n",
      "------------------------------------------------------------\n"
     ]
    },
    {
     "name": "stderr",
     "output_type": "stream",
     "text": [
      "Epoch 139/200: 100%|██████████| 77/77 [00:02<00:00, 35.84it/s, Loss=0.0000, Acc=99.96%, LR=0.000274] \n"
     ]
    },
    {
     "name": "stdout",
     "output_type": "stream",
     "text": [
      "Epoch [139/200]\n",
      "Train Loss: 7.0093674896621785e-06, Train Acc: 99.96%, LR: 0.000274\n",
      "------------------------------------------------------------\n"
     ]
    },
    {
     "name": "stderr",
     "output_type": "stream",
     "text": [
      "Epoch 140/200: 100%|██████████| 77/77 [00:02<00:00, 35.77it/s, Loss=0.0000, Acc=99.96%, LR=0.000266] \n"
     ]
    },
    {
     "name": "stdout",
     "output_type": "stream",
     "text": [
      "Epoch [140/200]\n",
      "Train Loss: 5.467284369854485e-06, Train Acc: 99.96%, LR: 0.000266\n",
      "------------------------------------------------------------\n"
     ]
    },
    {
     "name": "stderr",
     "output_type": "stream",
     "text": [
      "Epoch 141/200: 100%|██████████| 77/77 [00:02<00:00, 34.73it/s, Loss=0.0000, Acc=99.96%, LR=0.000258] \n"
     ]
    },
    {
     "name": "stdout",
     "output_type": "stream",
     "text": [
      "Epoch [141/200]\n",
      "Train Loss: 7.756760097678337e-06, Train Acc: 99.96%, LR: 0.000258\n",
      "------------------------------------------------------------\n"
     ]
    },
    {
     "name": "stderr",
     "output_type": "stream",
     "text": [
      "Epoch 142/200: 100%|██████████| 77/77 [00:02<00:00, 38.09it/s, Loss=0.0000, Acc=99.96%, LR=0.000251] \n"
     ]
    },
    {
     "name": "stdout",
     "output_type": "stream",
     "text": [
      "Epoch [142/200]\n",
      "Train Loss: 6.6495343058297245e-06, Train Acc: 99.96%, LR: 0.000251\n",
      "------------------------------------------------------------\n"
     ]
    },
    {
     "name": "stderr",
     "output_type": "stream",
     "text": [
      "Epoch 143/200: 100%|██████████| 77/77 [00:02<00:00, 33.67it/s, Loss=0.0000, Acc=99.94%, LR=0.000243] \n"
     ]
    },
    {
     "name": "stdout",
     "output_type": "stream",
     "text": [
      "Epoch [143/200]\n",
      "Train Loss: 5.391540819848113e-06, Train Acc: 99.94%, LR: 0.000243\n",
      "------------------------------------------------------------\n"
     ]
    },
    {
     "name": "stderr",
     "output_type": "stream",
     "text": [
      "Epoch 144/200: 100%|██████████| 77/77 [00:02<00:00, 37.21it/s, Loss=0.0000, Acc=99.94%, LR=0.000236] \n"
     ]
    },
    {
     "name": "stdout",
     "output_type": "stream",
     "text": [
      "Epoch [144/200]\n",
      "Train Loss: 6.377575023722412e-06, Train Acc: 99.94%, LR: 0.000236\n",
      "------------------------------------------------------------\n"
     ]
    },
    {
     "name": "stderr",
     "output_type": "stream",
     "text": [
      "Epoch 145/200: 100%|██████████| 77/77 [00:02<00:00, 34.75it/s, Loss=0.0000, Acc=99.90%, LR=0.000228] \n"
     ]
    },
    {
     "name": "stdout",
     "output_type": "stream",
     "text": [
      "Epoch [145/200]\n",
      "Train Loss: 6.827610603133726e-06, Train Acc: 99.90%, LR: 0.000228\n",
      "------------------------------------------------------------\n"
     ]
    },
    {
     "name": "stderr",
     "output_type": "stream",
     "text": [
      "Epoch 146/200: 100%|██████████| 77/77 [00:02<00:00, 34.06it/s, Loss=0.0000, Acc=99.94%, LR=0.000221] \n"
     ]
    },
    {
     "name": "stdout",
     "output_type": "stream",
     "text": [
      "Epoch [146/200]\n",
      "Train Loss: 6.9602264055482885e-06, Train Acc: 99.94%, LR: 0.000221\n",
      "------------------------------------------------------------\n"
     ]
    },
    {
     "name": "stderr",
     "output_type": "stream",
     "text": [
      "Epoch 147/200: 100%|██████████| 77/77 [00:02<00:00, 36.83it/s, Loss=0.0000, Acc=99.94%, LR=0.000214] \n"
     ]
    },
    {
     "name": "stdout",
     "output_type": "stream",
     "text": [
      "Epoch [147/200]\n",
      "Train Loss: 5.00050706721465e-06, Train Acc: 99.94%, LR: 0.000214\n",
      "------------------------------------------------------------\n"
     ]
    },
    {
     "name": "stderr",
     "output_type": "stream",
     "text": [
      "Epoch 148/200: 100%|██████████| 77/77 [00:02<00:00, 29.80it/s, Loss=0.0000, Acc=99.96%, LR=0.000207] \n"
     ]
    },
    {
     "name": "stdout",
     "output_type": "stream",
     "text": [
      "Epoch [148/200]\n",
      "Train Loss: 5.628513113664779e-06, Train Acc: 99.96%, LR: 0.000207\n",
      "------------------------------------------------------------\n"
     ]
    },
    {
     "name": "stderr",
     "output_type": "stream",
     "text": [
      "Epoch 149/200: 100%|██████████| 77/77 [00:02<00:00, 36.90it/s, Loss=0.0000, Acc=99.96%, LR=0.000200] \n"
     ]
    },
    {
     "name": "stdout",
     "output_type": "stream",
     "text": [
      "Epoch [149/200]\n",
      "Train Loss: 4.416978659813955e-06, Train Acc: 99.96%, LR: 0.000200\n",
      "------------------------------------------------------------\n"
     ]
    },
    {
     "name": "stderr",
     "output_type": "stream",
     "text": [
      "Epoch 150/200: 100%|██████████| 77/77 [00:02<00:00, 34.98it/s, Loss=0.0000, Acc=99.98%, LR=0.000193] \n"
     ]
    },
    {
     "name": "stdout",
     "output_type": "stream",
     "text": [
      "Epoch [150/200]\n",
      "Train Loss: 3.874370132561356e-06, Train Acc: 99.98%, LR: 0.000193\n",
      "------------------------------------------------------------\n"
     ]
    },
    {
     "name": "stderr",
     "output_type": "stream",
     "text": [
      "Epoch 151/200: 100%|██████████| 77/77 [00:02<00:00, 35.33it/s, Loss=0.0000, Acc=99.96%, LR=0.000186] \n"
     ]
    },
    {
     "name": "stdout",
     "output_type": "stream",
     "text": [
      "Epoch [151/200]\n",
      "Train Loss: 5.662503936081249e-06, Train Acc: 99.96%, LR: 0.000186\n",
      "------------------------------------------------------------\n"
     ]
    },
    {
     "name": "stderr",
     "output_type": "stream",
     "text": [
      "Epoch 152/200: 100%|██████████| 77/77 [00:02<00:00, 36.73it/s, Loss=0.0000, Acc=99.92%, LR=0.000179] \n"
     ]
    },
    {
     "name": "stdout",
     "output_type": "stream",
     "text": [
      "Epoch [152/200]\n",
      "Train Loss: 8.986977387909573e-06, Train Acc: 99.92%, LR: 0.000179\n",
      "------------------------------------------------------------\n"
     ]
    },
    {
     "name": "stderr",
     "output_type": "stream",
     "text": [
      "Epoch 153/200: 100%|██████████| 77/77 [00:02<00:00, 33.55it/s, Loss=0.0000, Acc=99.98%, LR=0.000173] \n"
     ]
    },
    {
     "name": "stdout",
     "output_type": "stream",
     "text": [
      "Epoch [153/200]\n",
      "Train Loss: 4.056817981574728e-06, Train Acc: 99.98%, LR: 0.000173\n",
      "------------------------------------------------------------\n"
     ]
    },
    {
     "name": "stderr",
     "output_type": "stream",
     "text": [
      "Epoch 154/200: 100%|██████████| 77/77 [00:02<00:00, 37.88it/s, Loss=0.0000, Acc=99.96%, LR=0.000166] \n"
     ]
    },
    {
     "name": "stdout",
     "output_type": "stream",
     "text": [
      "Epoch [154/200]\n",
      "Train Loss: 4.564457073341488e-06, Train Acc: 99.96%, LR: 0.000166\n",
      "------------------------------------------------------------\n"
     ]
    },
    {
     "name": "stderr",
     "output_type": "stream",
     "text": [
      "Epoch 155/200: 100%|██████████| 77/77 [00:02<00:00, 34.94it/s, Loss=0.0000, Acc=99.94%, LR=0.000160] \n"
     ]
    },
    {
     "name": "stdout",
     "output_type": "stream",
     "text": [
      "Epoch [155/200]\n",
      "Train Loss: 6.52544068221043e-06, Train Acc: 99.94%, LR: 0.000160\n",
      "------------------------------------------------------------\n"
     ]
    },
    {
     "name": "stderr",
     "output_type": "stream",
     "text": [
      "Epoch 156/200: 100%|██████████| 77/77 [00:02<00:00, 35.15it/s, Loss=0.0000, Acc=99.98%, LR=0.000154] \n"
     ]
    },
    {
     "name": "stdout",
     "output_type": "stream",
     "text": [
      "Epoch [156/200]\n",
      "Train Loss: 3.852821023259195e-06, Train Acc: 99.98%, LR: 0.000154\n",
      "------------------------------------------------------------\n"
     ]
    },
    {
     "name": "stderr",
     "output_type": "stream",
     "text": [
      "Epoch 157/200: 100%|██████████| 77/77 [00:02<00:00, 36.95it/s, Loss=0.0000, Acc=99.98%, LR=0.000147] \n"
     ]
    },
    {
     "name": "stdout",
     "output_type": "stream",
     "text": [
      "Epoch [157/200]\n",
      "Train Loss: 4.269744397444586e-06, Train Acc: 99.98%, LR: 0.000147\n",
      "------------------------------------------------------------\n"
     ]
    },
    {
     "name": "stderr",
     "output_type": "stream",
     "text": [
      "Epoch 158/200: 100%|██████████| 77/77 [00:02<00:00, 33.49it/s, Loss=0.0000, Acc=99.94%, LR=0.000141] \n"
     ]
    },
    {
     "name": "stdout",
     "output_type": "stream",
     "text": [
      "Epoch [158/200]\n",
      "Train Loss: 4.245869045371143e-06, Train Acc: 99.94%, LR: 0.000141\n",
      "------------------------------------------------------------\n"
     ]
    },
    {
     "name": "stderr",
     "output_type": "stream",
     "text": [
      "Epoch 159/200: 100%|██████████| 77/77 [00:02<00:00, 36.40it/s, Loss=0.0000, Acc=99.98%, LR=0.000135] \n"
     ]
    },
    {
     "name": "stdout",
     "output_type": "stream",
     "text": [
      "Epoch [159/200]\n",
      "Train Loss: 2.6147139776854046e-06, Train Acc: 99.98%, LR: 0.000135\n",
      "------------------------------------------------------------\n"
     ]
    },
    {
     "name": "stderr",
     "output_type": "stream",
     "text": [
      "Epoch 160/200: 100%|██████████| 77/77 [00:02<00:00, 35.95it/s, Loss=0.0000, Acc=99.98%, LR=0.000129] \n"
     ]
    },
    {
     "name": "stdout",
     "output_type": "stream",
     "text": [
      "Epoch [160/200]\n",
      "Train Loss: 5.410564084312514e-06, Train Acc: 99.98%, LR: 0.000129\n",
      "------------------------------------------------------------\n"
     ]
    },
    {
     "name": "stderr",
     "output_type": "stream",
     "text": [
      "Epoch 161/200: 100%|██████████| 77/77 [00:01<00:00, 38.55it/s, Loss=0.0000, Acc=99.98%, LR=0.000124] \n"
     ]
    },
    {
     "name": "stdout",
     "output_type": "stream",
     "text": [
      "Epoch [161/200]\n",
      "Train Loss: 3.9061973294162844e-06, Train Acc: 99.98%, LR: 0.000124\n",
      "------------------------------------------------------------\n"
     ]
    },
    {
     "name": "stderr",
     "output_type": "stream",
     "text": [
      "Epoch 162/200: 100%|██████████| 77/77 [00:02<00:00, 34.97it/s, Loss=0.0000, Acc=99.96%, LR=0.000118] \n"
     ]
    },
    {
     "name": "stdout",
     "output_type": "stream",
     "text": [
      "Epoch [162/200]\n",
      "Train Loss: 5.140371979524542e-06, Train Acc: 99.96%, LR: 0.000118\n",
      "------------------------------------------------------------\n"
     ]
    },
    {
     "name": "stderr",
     "output_type": "stream",
     "text": [
      "Epoch 163/200: 100%|██████████| 77/77 [00:02<00:00, 35.38it/s, Loss=0.0000, Acc=99.98%, LR=0.000112] \n"
     ]
    },
    {
     "name": "stdout",
     "output_type": "stream",
     "text": [
      "Epoch [163/200]\n",
      "Train Loss: 2.696679466119455e-06, Train Acc: 99.98%, LR: 0.000112\n",
      "------------------------------------------------------------\n"
     ]
    },
    {
     "name": "stderr",
     "output_type": "stream",
     "text": [
      "Epoch 164/200: 100%|██████████| 77/77 [00:02<00:00, 37.21it/s, Loss=0.0000, Acc=99.96%, LR=0.000107] \n"
     ]
    },
    {
     "name": "stdout",
     "output_type": "stream",
     "text": [
      "Epoch [164/200]\n",
      "Train Loss: 3.5769152422896883e-06, Train Acc: 99.96%, LR: 0.000107\n",
      "------------------------------------------------------------\n"
     ]
    },
    {
     "name": "stderr",
     "output_type": "stream",
     "text": [
      "Epoch 165/200: 100%|██████████| 77/77 [00:02<00:00, 34.93it/s, Loss=0.0000, Acc=99.98%, LR=0.000102] \n"
     ]
    },
    {
     "name": "stdout",
     "output_type": "stream",
     "text": [
      "Epoch [165/200]\n",
      "Train Loss: 2.3106426580122607e-06, Train Acc: 99.98%, LR: 0.000102\n",
      "------------------------------------------------------------\n"
     ]
    },
    {
     "name": "stderr",
     "output_type": "stream",
     "text": [
      "Epoch 166/200: 100%|██████████| 77/77 [00:02<00:00, 36.82it/s, Loss=0.0000, Acc=99.96%, LR=0.000096] \n"
     ]
    },
    {
     "name": "stdout",
     "output_type": "stream",
     "text": [
      "Epoch [166/200]\n",
      "Train Loss: 2.2117579116181846e-06, Train Acc: 99.96%, LR: 0.000096\n",
      "------------------------------------------------------------\n"
     ]
    },
    {
     "name": "stderr",
     "output_type": "stream",
     "text": [
      "Epoch 167/200: 100%|██████████| 77/77 [00:02<00:00, 33.54it/s, Loss=0.0000, Acc=100.00%, LR=0.000091]\n"
     ]
    },
    {
     "name": "stdout",
     "output_type": "stream",
     "text": [
      "Epoch [167/200]\n",
      "Train Loss: 2.802646839292968e-06, Train Acc: 100.00%, LR: 0.000091\n",
      "------------------------------------------------------------\n"
     ]
    },
    {
     "name": "stderr",
     "output_type": "stream",
     "text": [
      "Epoch 168/200: 100%|██████████| 77/77 [00:02<00:00, 33.87it/s, Loss=0.0000, Acc=99.98%, LR=0.000086] \n"
     ]
    },
    {
     "name": "stdout",
     "output_type": "stream",
     "text": [
      "Epoch [168/200]\n",
      "Train Loss: 2.01942925924316e-06, Train Acc: 99.98%, LR: 0.000086\n",
      "------------------------------------------------------------\n"
     ]
    },
    {
     "name": "stderr",
     "output_type": "stream",
     "text": [
      "Epoch 169/200: 100%|██████████| 77/77 [00:02<00:00, 36.60it/s, Loss=0.0000, Acc=100.00%, LR=0.000082]\n"
     ]
    },
    {
     "name": "stdout",
     "output_type": "stream",
     "text": [
      "Epoch [169/200]\n",
      "Train Loss: 2.496047149217891e-06, Train Acc: 100.00%, LR: 0.000082\n",
      "------------------------------------------------------------\n"
     ]
    },
    {
     "name": "stderr",
     "output_type": "stream",
     "text": [
      "Epoch 170/200: 100%|██████████| 77/77 [00:02<00:00, 32.28it/s, Loss=0.0000, Acc=99.98%, LR=0.000077] \n"
     ]
    },
    {
     "name": "stdout",
     "output_type": "stream",
     "text": [
      "Epoch [170/200]\n",
      "Train Loss: 3.299389346184339e-06, Train Acc: 99.98%, LR: 0.000077\n",
      "------------------------------------------------------------\n"
     ]
    },
    {
     "name": "stderr",
     "output_type": "stream",
     "text": [
      "Epoch 171/200: 100%|██████████| 77/77 [00:02<00:00, 36.12it/s, Loss=0.0000, Acc=100.00%, LR=0.000072]\n"
     ]
    },
    {
     "name": "stdout",
     "output_type": "stream",
     "text": [
      "Epoch [171/200]\n",
      "Train Loss: 1.7587230149101801e-06, Train Acc: 100.00%, LR: 0.000072\n",
      "------------------------------------------------------------\n"
     ]
    },
    {
     "name": "stderr",
     "output_type": "stream",
     "text": [
      "Epoch 172/200: 100%|██████████| 77/77 [00:02<00:00, 30.82it/s, Loss=0.0000, Acc=99.96%, LR=0.000068] \n"
     ]
    },
    {
     "name": "stdout",
     "output_type": "stream",
     "text": [
      "Epoch [172/200]\n",
      "Train Loss: 3.0888323631491216e-06, Train Acc: 99.96%, LR: 0.000068\n",
      "------------------------------------------------------------\n"
     ]
    },
    {
     "name": "stderr",
     "output_type": "stream",
     "text": [
      "Epoch 173/200: 100%|██████████| 77/77 [00:02<00:00, 33.08it/s, Loss=0.0000, Acc=99.96%, LR=0.000064] \n"
     ]
    },
    {
     "name": "stdout",
     "output_type": "stream",
     "text": [
      "Epoch [173/200]\n",
      "Train Loss: 2.983461467994101e-06, Train Acc: 99.96%, LR: 0.000064\n",
      "------------------------------------------------------------\n"
     ]
    },
    {
     "name": "stderr",
     "output_type": "stream",
     "text": [
      "Epoch 174/200: 100%|██████████| 77/77 [00:02<00:00, 37.48it/s, Loss=0.0000, Acc=99.96%, LR=0.000059] \n"
     ]
    },
    {
     "name": "stdout",
     "output_type": "stream",
     "text": [
      "Epoch [174/200]\n",
      "Train Loss: 2.5331534095852693e-06, Train Acc: 99.96%, LR: 0.000059\n",
      "------------------------------------------------------------\n"
     ]
    },
    {
     "name": "stderr",
     "output_type": "stream",
     "text": [
      "Epoch 175/200: 100%|██████████| 77/77 [00:02<00:00, 35.27it/s, Loss=0.0000, Acc=99.92%, LR=0.000055] \n"
     ]
    },
    {
     "name": "stdout",
     "output_type": "stream",
     "text": [
      "Epoch [175/200]\n",
      "Train Loss: 5.401518000626636e-06, Train Acc: 99.92%, LR: 0.000055\n",
      "------------------------------------------------------------\n"
     ]
    },
    {
     "name": "stderr",
     "output_type": "stream",
     "text": [
      "Epoch 176/200: 100%|██████████| 77/77 [00:02<00:00, 37.77it/s, Loss=0.0000, Acc=99.96%, LR=0.000052] \n"
     ]
    },
    {
     "name": "stdout",
     "output_type": "stream",
     "text": [
      "Epoch [176/200]\n",
      "Train Loss: 3.101696701868938e-06, Train Acc: 99.96%, LR: 0.000052\n",
      "------------------------------------------------------------\n"
     ]
    },
    {
     "name": "stderr",
     "output_type": "stream",
     "text": [
      "Epoch 177/200: 100%|██████████| 77/77 [00:02<00:00, 34.04it/s, Loss=0.0000, Acc=100.00%, LR=0.000048]\n"
     ]
    },
    {
     "name": "stdout",
     "output_type": "stream",
     "text": [
      "Epoch [177/200]\n",
      "Train Loss: 3.5206763424841847e-06, Train Acc: 100.00%, LR: 0.000048\n",
      "------------------------------------------------------------\n"
     ]
    },
    {
     "name": "stderr",
     "output_type": "stream",
     "text": [
      "Epoch 178/200: 100%|██████████| 77/77 [00:02<00:00, 35.94it/s, Loss=0.0000, Acc=100.00%, LR=0.000044]\n"
     ]
    },
    {
     "name": "stdout",
     "output_type": "stream",
     "text": [
      "Epoch [178/200]\n",
      "Train Loss: 2.1244410808884375e-06, Train Acc: 100.00%, LR: 0.000044\n",
      "------------------------------------------------------------\n"
     ]
    },
    {
     "name": "stderr",
     "output_type": "stream",
     "text": [
      "Epoch 179/200: 100%|██████████| 77/77 [00:01<00:00, 39.17it/s, Loss=0.0000, Acc=100.00%, LR=0.000041]\n"
     ]
    },
    {
     "name": "stdout",
     "output_type": "stream",
     "text": [
      "Epoch [179/200]\n",
      "Train Loss: 1.7471427405545804e-06, Train Acc: 100.00%, LR: 0.000041\n",
      "------------------------------------------------------------\n"
     ]
    },
    {
     "name": "stderr",
     "output_type": "stream",
     "text": [
      "Epoch 180/200: 100%|██████████| 77/77 [00:02<00:00, 36.52it/s, Loss=0.0000, Acc=99.98%, LR=0.000037] \n"
     ]
    },
    {
     "name": "stdout",
     "output_type": "stream",
     "text": [
      "Epoch [180/200]\n",
      "Train Loss: 2.429223885689249e-06, Train Acc: 99.98%, LR: 0.000037\n",
      "------------------------------------------------------------\n"
     ]
    },
    {
     "name": "stderr",
     "output_type": "stream",
     "text": [
      "Epoch 181/200: 100%|██████████| 77/77 [00:02<00:00, 31.29it/s, Loss=0.0000, Acc=99.98%, LR=0.000034] \n"
     ]
    },
    {
     "name": "stdout",
     "output_type": "stream",
     "text": [
      "Epoch [181/200]\n",
      "Train Loss: 2.8074686874950724e-06, Train Acc: 99.98%, LR: 0.000034\n",
      "------------------------------------------------------------\n"
     ]
    },
    {
     "name": "stderr",
     "output_type": "stream",
     "text": [
      "Epoch 182/200: 100%|██████████| 77/77 [00:02<00:00, 36.12it/s, Loss=0.0000, Acc=100.00%, LR=0.000031]\n"
     ]
    },
    {
     "name": "stdout",
     "output_type": "stream",
     "text": [
      "Epoch [182/200]\n",
      "Train Loss: 1.687696434598879e-06, Train Acc: 100.00%, LR: 0.000031\n",
      "------------------------------------------------------------\n"
     ]
    },
    {
     "name": "stderr",
     "output_type": "stream",
     "text": [
      "Epoch 183/200: 100%|██████████| 77/77 [00:02<00:00, 38.34it/s, Loss=0.0000, Acc=99.98%, LR=0.000028] \n"
     ]
    },
    {
     "name": "stdout",
     "output_type": "stream",
     "text": [
      "Epoch [183/200]\n",
      "Train Loss: 1.9863531248576348e-06, Train Acc: 99.98%, LR: 0.000028\n",
      "------------------------------------------------------------\n"
     ]
    },
    {
     "name": "stderr",
     "output_type": "stream",
     "text": [
      "Epoch 184/200: 100%|██████████| 77/77 [00:02<00:00, 35.88it/s, Loss=0.0000, Acc=99.98%, LR=0.000025] \n"
     ]
    },
    {
     "name": "stdout",
     "output_type": "stream",
     "text": [
      "Epoch [184/200]\n",
      "Train Loss: 2.1379815194308464e-06, Train Acc: 99.98%, LR: 0.000025\n",
      "------------------------------------------------------------\n"
     ]
    },
    {
     "name": "stderr",
     "output_type": "stream",
     "text": [
      "Epoch 185/200: 100%|██████████| 77/77 [00:02<00:00, 33.56it/s, Loss=0.0000, Acc=99.98%, LR=0.000023] \n"
     ]
    },
    {
     "name": "stdout",
     "output_type": "stream",
     "text": [
      "Epoch [185/200]\n",
      "Train Loss: 1.582159170983725e-06, Train Acc: 99.98%, LR: 0.000023\n",
      "------------------------------------------------------------\n"
     ]
    },
    {
     "name": "stderr",
     "output_type": "stream",
     "text": [
      "Epoch 186/200: 100%|██████████| 77/77 [00:02<00:00, 37.26it/s, Loss=0.0000, Acc=99.96%, LR=0.000020] \n"
     ]
    },
    {
     "name": "stdout",
     "output_type": "stream",
     "text": [
      "Epoch [186/200]\n",
      "Train Loss: 5.345475864500075e-06, Train Acc: 99.96%, LR: 0.000020\n",
      "------------------------------------------------------------\n"
     ]
    },
    {
     "name": "stderr",
     "output_type": "stream",
     "text": [
      "Epoch 187/200: 100%|██████████| 77/77 [00:02<00:00, 37.75it/s, Loss=0.0000, Acc=99.96%, LR=0.000018] \n"
     ]
    },
    {
     "name": "stdout",
     "output_type": "stream",
     "text": [
      "Epoch [187/200]\n",
      "Train Loss: 2.1127492544607845e-06, Train Acc: 99.96%, LR: 0.000018\n",
      "------------------------------------------------------------\n"
     ]
    },
    {
     "name": "stderr",
     "output_type": "stream",
     "text": [
      "Epoch 188/200: 100%|██████████| 77/77 [00:01<00:00, 39.97it/s, Loss=0.0000, Acc=99.96%, LR=0.000016] \n"
     ]
    },
    {
     "name": "stdout",
     "output_type": "stream",
     "text": [
      "Epoch [188/200]\n",
      "Train Loss: 2.644905690918786e-06, Train Acc: 99.96%, LR: 0.000016\n",
      "------------------------------------------------------------\n"
     ]
    },
    {
     "name": "stderr",
     "output_type": "stream",
     "text": [
      "Epoch 189/200: 100%|██████████| 77/77 [00:02<00:00, 38.19it/s, Loss=0.0000, Acc=99.96%, LR=0.000014] \n"
     ]
    },
    {
     "name": "stdout",
     "output_type": "stream",
     "text": [
      "Epoch [189/200]\n",
      "Train Loss: 2.656568057967779e-06, Train Acc: 99.96%, LR: 0.000014\n",
      "------------------------------------------------------------\n"
     ]
    },
    {
     "name": "stderr",
     "output_type": "stream",
     "text": [
      "Epoch 190/200: 100%|██████████| 77/77 [00:02<00:00, 37.08it/s, Loss=0.0000, Acc=99.98%, LR=0.000012] \n"
     ]
    },
    {
     "name": "stdout",
     "output_type": "stream",
     "text": [
      "Epoch [190/200]\n",
      "Train Loss: 2.185757054185721e-06, Train Acc: 99.98%, LR: 0.000012\n",
      "------------------------------------------------------------\n"
     ]
    },
    {
     "name": "stderr",
     "output_type": "stream",
     "text": [
      "Epoch 191/200: 100%|██████████| 77/77 [00:02<00:00, 37.22it/s, Loss=0.0000, Acc=99.96%, LR=0.000010] \n"
     ]
    },
    {
     "name": "stdout",
     "output_type": "stream",
     "text": [
      "Epoch [191/200]\n",
      "Train Loss: 3.760244011482575e-06, Train Acc: 99.96%, LR: 0.000010\n",
      "------------------------------------------------------------\n"
     ]
    },
    {
     "name": "stderr",
     "output_type": "stream",
     "text": [
      "Epoch 192/200: 100%|██████████| 77/77 [00:02<00:00, 34.88it/s, Loss=0.0000, Acc=100.00%, LR=0.000009]\n"
     ]
    },
    {
     "name": "stdout",
     "output_type": "stream",
     "text": [
      "Epoch [192/200]\n",
      "Train Loss: 1.3941064713838184e-06, Train Acc: 100.00%, LR: 0.000009\n",
      "------------------------------------------------------------\n"
     ]
    },
    {
     "name": "stderr",
     "output_type": "stream",
     "text": [
      "Epoch 193/200: 100%|██████████| 77/77 [00:01<00:00, 39.46it/s, Loss=0.0000, Acc=100.00%, LR=0.000007]\n"
     ]
    },
    {
     "name": "stdout",
     "output_type": "stream",
     "text": [
      "Epoch [193/200]\n",
      "Train Loss: 1.894069656094865e-06, Train Acc: 100.00%, LR: 0.000007\n",
      "------------------------------------------------------------\n"
     ]
    },
    {
     "name": "stderr",
     "output_type": "stream",
     "text": [
      "Epoch 194/200: 100%|██████████| 77/77 [00:02<00:00, 36.44it/s, Loss=0.0000, Acc=99.98%, LR=0.000006] \n"
     ]
    },
    {
     "name": "stdout",
     "output_type": "stream",
     "text": [
      "Epoch [194/200]\n",
      "Train Loss: 2.622071652789506e-06, Train Acc: 99.98%, LR: 0.000006\n",
      "------------------------------------------------------------\n"
     ]
    },
    {
     "name": "stderr",
     "output_type": "stream",
     "text": [
      "Epoch 195/200: 100%|██████████| 77/77 [00:01<00:00, 38.58it/s, Loss=0.0000, Acc=100.00%, LR=0.000005]\n"
     ]
    },
    {
     "name": "stdout",
     "output_type": "stream",
     "text": [
      "Epoch [195/200]\n",
      "Train Loss: 1.5620577405991446e-06, Train Acc: 100.00%, LR: 0.000005\n",
      "------------------------------------------------------------\n"
     ]
    },
    {
     "name": "stderr",
     "output_type": "stream",
     "text": [
      "Epoch 196/200: 100%|██████████| 77/77 [00:02<00:00, 38.17it/s, Loss=0.0000, Acc=99.98%, LR=0.000004] \n"
     ]
    },
    {
     "name": "stdout",
     "output_type": "stream",
     "text": [
      "Epoch [196/200]\n",
      "Train Loss: 1.9095390693200013e-06, Train Acc: 99.98%, LR: 0.000004\n",
      "------------------------------------------------------------\n"
     ]
    },
    {
     "name": "stderr",
     "output_type": "stream",
     "text": [
      "Epoch 197/200: 100%|██████████| 77/77 [00:02<00:00, 36.46it/s, Loss=0.0000, Acc=100.00%, LR=0.000003]\n"
     ]
    },
    {
     "name": "stdout",
     "output_type": "stream",
     "text": [
      "Epoch [197/200]\n",
      "Train Loss: 1.8709117646289407e-06, Train Acc: 100.00%, LR: 0.000003\n",
      "------------------------------------------------------------\n"
     ]
    },
    {
     "name": "stderr",
     "output_type": "stream",
     "text": [
      "Epoch 198/200: 100%|██████████| 77/77 [00:01<00:00, 38.62it/s, Loss=0.0000, Acc=100.00%, LR=0.000002]\n"
     ]
    },
    {
     "name": "stdout",
     "output_type": "stream",
     "text": [
      "Epoch [198/200]\n",
      "Train Loss: 1.5576192643920847e-06, Train Acc: 100.00%, LR: 0.000002\n",
      "------------------------------------------------------------\n"
     ]
    },
    {
     "name": "stderr",
     "output_type": "stream",
     "text": [
      "Epoch 199/200: 100%|██████████| 77/77 [00:02<00:00, 30.14it/s, Loss=0.0000, Acc=100.00%, LR=0.000002]\n"
     ]
    },
    {
     "name": "stdout",
     "output_type": "stream",
     "text": [
      "Epoch [199/200]\n",
      "Train Loss: 1.4582218872982144e-06, Train Acc: 100.00%, LR: 0.000002\n",
      "------------------------------------------------------------\n"
     ]
    },
    {
     "name": "stderr",
     "output_type": "stream",
     "text": [
      "Epoch 200/200: 100%|██████████| 77/77 [00:01<00:00, 38.80it/s, Loss=0.0000, Acc=99.98%, LR=0.000001] \n"
     ]
    },
    {
     "name": "stdout",
     "output_type": "stream",
     "text": [
      "Epoch [200/200]\n",
      "Train Loss: 2.4392701570596054e-06, Train Acc: 99.98%, LR: 0.000001\n",
      "------------------------------------------------------------\n",
      "Model saved as '2_timeseries_model_optimized.pth'\n"
     ]
    },
    {
     "data": {
      "image/png": "[encoded data removed]",
      "text/plain": [
       "<Figure size 1500x500 with 3 Axes>"
      ]
     },
     "metadata": {},
     "output_type": "display_data"
    },
    {
     "name": "stdout",
     "output_type": "stream",
     "text": [
      "\n",
      "Final Results:\n",
      "Best Loss: 0.0000\n",
      "Final Accuracy: 99.98%\n",
      "Scheduler used: warmup_cosine\n"
     ]
    }
   ],
   "source": [
    "from tkinter import NO\n",
    "from sympy import true\n",
    "import torch\n",
    "import torch.nn as nn\n",
    "import torch.optim as optim\n",
    "from torch.utils.data import DataLoader, TensorDataset\n",
    "import numpy as np\n",
    "from sklearn.model_selection import train_test_split\n",
    "from sklearn.preprocessing import StandardScaler, LabelEncoder\n",
    "import pandas as pd\n",
    "import json\n",
    "from tqdm import tqdm\n",
    "import matplotlib.pyplot as plt\n",
    "from torch.utils.data import Dataset,DataLoader\n",
    "import random\n",
    "from collections import Counter\n",
    "from sklearn.metrics import f1_score,recall_score,accuracy_score\n",
    "import math\n",
    "\n",
    "class TimeSeriesClassifier(nn.Module):\n",
    "    def __init__(self, n_features, n_classes, n_hidden=128, n_layers=3):\n",
    "        super(TimeSeriesClassifier, self).__init__()\n",
    "        self.bn = nn.BatchNorm1d(num_features=n_features)\n",
    "        self.bilstmlstm = nn.LSTM(\n",
    "            input_size=n_features,\n",
    "            hidden_size=n_hidden,\n",
    "            num_layers=n_layers,\n",
    "            batch_first=True,\n",
    "            dropout=0.5,\n",
    "            bidirectional=True\n",
    "        )\n",
    "        self.norm = torch.nn.LayerNorm(normalized_shape=n_hidden * 2)\n",
    "        self.flatten = nn.Flatten()\n",
    "        self.linear1 = nn.Linear(50*n_hidden * 2, 1024)  # Fixed: *2 for bidirectional\n",
    "        self.dropout1 = nn.Dropout(0.3)\n",
    "        self.linear2 = nn.Linear(1024, 512)\n",
    "        self.dropout2 = nn.Dropout(0.2)\n",
    "        self.linear3 = nn.Linear(512, n_classes)\n",
    "        self.sigmoid = nn.Sigmoid()\n",
    "        self.softmax = nn.Softmax(dim=1)  # Fixed typo and added dim\n",
    "        self.relu = nn.ReLU()\n",
    "        self.tanh = nn.Tanh()\n",
    "        self.leakyrelu = nn.LeakyReLU()  # Fixed typo\n",
    "\n",
    "    def forward(self, x):\n",
    "        out, (hidden, cell) = self.bilstmlstm(x)\n",
    "        out = self.flatten(out)\n",
    "        \n",
    "        out = self.linear1(out)\n",
    "        out = self.tanh(out)\n",
    "        out = self.dropout1(out)\n",
    "        \n",
    "        out = self.linear2(out)\n",
    "        out = self.relu(out)\n",
    "        out = self.dropout2(out)\n",
    "        \n",
    "        out = self.linear3(out)\n",
    "        out = self.sigmoid(out)\n",
    "        \n",
    "        return out\n",
    "\n",
    "# Custom Warmup + Cosine Scheduler (Best for your use case)\n",
    "class WarmupCosineScheduler:\n",
    "    def __init__(self, optimizer, warmup_epochs, total_epochs, min_lr=1e-6):\n",
    "        self.optimizer = optimizer\n",
    "        self.warmup_epochs = warmup_epochs\n",
    "        self.total_epochs = total_epochs\n",
    "        self.min_lr = min_lr\n",
    "        self.base_lr = optimizer.param_groups[0]['lr']\n",
    "        self.current_epoch = 0\n",
    "    \n",
    "    def step(self):\n",
    "        if self.current_epoch < self.warmup_epochs:\n",
    "            # Linear warmup\n",
    "            lr = self.base_lr * (self.current_epoch / self.warmup_epochs)\n",
    "        else:\n",
    "            # Cosine annealing\n",
    "            progress = (self.current_epoch - self.warmup_epochs) / (self.total_epochs - self.warmup_epochs)\n",
    "            lr = self.min_lr + (self.base_lr - self.min_lr) * 0.5 * (1 + math.cos(math.pi * progress))\n",
    "        \n",
    "        for param_group in self.optimizer.param_groups:\n",
    "            param_group['lr'] = lr\n",
    "        \n",
    "        self.current_epoch += 1\n",
    "        return lr\n",
    "\n",
    "# Your existing CustomDataset class (keeping it as is)\n",
    "class CustomDataset(Dataset):\n",
    "    def __init__(self,\n",
    "                 chunk = 100,\n",
    "                 dataframe=None,\n",
    "                 isLabelEncoder=False,\n",
    "                 Label = None):\n",
    "        \n",
    "        self._data_csv = dataframe\n",
    "        self._data_csv = self._data_csv[~(self._data_csv.Label.isin([ \"cooldown\",\"error_redo\",\"break_time\",]))]\n",
    "        if isLabelEncoder:\n",
    "            label_encoder = Label\n",
    "        else:\n",
    "            label_encoder = LabelEncoder()\n",
    "\n",
    "        self._data_csv[\"Label\"] = label_encoder.fit_transform(self._data_csv[\"Label\"])\n",
    "        num_classes = len(label_encoder.classes_)\n",
    "        self.label_encoder = label_encoder\n",
    "        self._data_csv = self._data_csv.drop(columns=[\"timestamp_ms\"])\n",
    "        self.train_data = self.convert_data_csv_train(self._data_csv,segment=chunk,range_data=25)\n",
    "        \n",
    "        fity = []\n",
    "        normal =[]\n",
    "        for i in self.train_data:\n",
    "            if int(i[:,-1][-1]) == 0:\n",
    "                fity.append(i)\n",
    "            else:\n",
    "                normal.append(i)\n",
    "      \n",
    "        fity = random.sample(fity,int(len(fity) * 0.5))\n",
    "        normal.extend(fity)\n",
    "        self.train_data = normal\n",
    "        self.nums  = len(self.train_data)\n",
    "        self.answer_transform = []\n",
    "    \n",
    "        self.train_data = torch.tensor([i.tolist() for i in self.train_data])\n",
    "        \n",
    "        # one-hot \n",
    "        for i in range(0,len(self.train_data)):\n",
    "            dummy = torch.zeros(num_classes)\n",
    "            ct = Counter(self.train_data[i][:,-1].tolist()).most_common()\n",
    "            if len(ct) == 2 and ct[0][0] ==0:\n",
    "                idx,count = Counter(self.train_data[i][:,-1].tolist()).most_common()[1]\n",
    "            else:\n",
    "                idx,count = Counter(self.train_data[i][:,-1].tolist()).most_common()[0]\n",
    "            \n",
    "            dummy[int(idx)] = 1\n",
    "            self.answer_transform.append(dummy)\n",
    "        \n",
    "        self.train_data = self.train_data[:,:,:-1]\n",
    "        self.nums , self.segment, self.input = self.train_data.size()\n",
    "        \n",
    "    def __getitem__(self, index):\n",
    "        inputs = self.train_data[index]\n",
    "        answer = self.answer_transform[index]\n",
    "        \n",
    "        if torch.cuda.is_available():\n",
    "            return inputs.to(torch.float32).to(\"cuda\"),answer.to(\"cuda\")\n",
    "        else:\n",
    "            return inputs.to(torch.float32),answer\n",
    "        \n",
    "    def __len__(self):\n",
    "        return self.nums\n",
    "    \n",
    "    def data_info(self):\n",
    "        return self.nums,self.segment,self.input,self.train_data,self.label_encoder\n",
    "    \n",
    "    def convert_data_csv_train(self,data,segment=50,range_data = 0):\n",
    "        data['group_id'] = (data['Label'] != data['Label'].shift()).cumsum()\n",
    "        grouped_dfs = [g.drop(columns='group_id').values for _, g in data.groupby('group_id')]\n",
    "        \n",
    "        print(\"len(data): \",len(grouped_dfs))\n",
    "        print(\"filter Value\")\n",
    "        all_data = []\n",
    "        for i in tqdm(grouped_dfs,total = len(grouped_dfs)):\n",
    "            if len(i) > range_data:\n",
    "                all_data.append(i)\n",
    "\n",
    "        print(\"pad&mean Value\")\n",
    "        real = []\n",
    "        for i in tqdm(all_data,total = len(all_data)):\n",
    "            segment = segment\n",
    "\n",
    "            if len(i) < segment:\n",
    "                tensor_df = (torch.tensor(i))\n",
    "                n,b = tensor_df.size()\n",
    "                padded_tensor = torch.nn.functional.pad(tensor_df, pad=(0, 0, segment-n, 0), mode='constant', value=0)\n",
    "                real.append(padded_tensor.tolist())\n",
    "            else:\n",
    "                step = int(np.ceil(len(i)//segment))\n",
    "                temp = []\n",
    "                for k in range(segment):\n",
    "                    temp.append(torch.mean(torch.tensor(i[k*step:(k+1)*step]),dim=0).tolist())\n",
    "                real.append(temp)\n",
    "\n",
    "        train_data = torch.tensor(real)\n",
    "        return train_data\n",
    "\n",
    "# IMPROVED Training function with multiple scheduler options\n",
    "def train_model(model, train_loader, num_epochs=50, learning_rate=0.001, scheduler_type='warmup_cosine'):\n",
    "    # Better loss function for multi-class classification\n",
    "    criterion = nn.BCELoss()  # Better than MSE for sigmoid output\n",
    "    optimizer = optim.AdamW(model.parameters(), lr=learning_rate, weight_decay=1e-4)\n",
    "\n",
    "    # SCHEDULER OPTIONS - Choose the best one for your case\n",
    "    if scheduler_type == 'cosine_restart':\n",
    "        # Your current choice - EXCELLENT for most cases\n",
    "        scheduler = optim.lr_scheduler.CosineAnnealingWarmRestarts(\n",
    "            optimizer, \n",
    "            T_0=10,          # Initial restart period\n",
    "            T_mult=2,        # Factor to increase restart period\n",
    "            eta_min=1e-6,    # Minimum learning rate\n",
    "            last_epoch=-1\n",
    "        )\n",
    "    elif scheduler_type == 'warmup_cosine':\n",
    "        # BEST for time series - custom warmup + cosine\n",
    "        warmup_epochs = int(num_epochs * 0.1)  # 10% warmup\n",
    "        scheduler = WarmupCosineScheduler(optimizer, warmup_epochs, num_epochs)\n",
    "    elif scheduler_type == 'reduce_plateau':\n",
    "        # ADAPTIVE - great when unsure about scheduling\n",
    "        scheduler = optim.lr_scheduler.ReduceLROnPlateau(\n",
    "            optimizer, 'min', patience=10, min_lr=1e-6, factor=0.5, verbose=True\n",
    "        )\n",
    "    elif scheduler_type == 'one_cycle':\n",
    "        # FAST convergence - great for fine-tuning\n",
    "        total_steps = len(train_loader) * num_epochs\n",
    "        scheduler = optim.lr_scheduler.OneCycleLR(\n",
    "            optimizer, max_lr=learning_rate*10, total_steps=total_steps, pct_start=0.1\n",
    "        )\n",
    "    \n",
    "    train_losses = []\n",
    "    train_accuracies = []\n",
    "    learning_rates = []\n",
    "    \n",
    "    device = torch.device('cuda' if torch.cuda.is_available() else 'cpu')\n",
    "    model.to(device)\n",
    "    model.train()\n",
    "    best_loss = float('inf')\n",
    "    best_dict = None\n",
    "    \n",
    "    for epoch in range(num_epochs):\n",
    "        train_loss = 0.0\n",
    "        train_correct = 0\n",
    "        train_total = 0\n",
    "        \n",
    "        pbar = tqdm(train_loader, desc=f'Epoch {epoch+1}/{num_epochs}')\n",
    "        \n",
    "        for batch_idx, (batch_x, batch_y) in enumerate(pbar):\n",
    "            batch_x, batch_y = batch_x.to(device), batch_y.to(device)\n",
    "            \n",
    "            optimizer.zero_grad()\n",
    "            outputs = model(batch_x)\n",
    "            \n",
    "            # Improved loss calculation\n",
    "            loss = criterion(outputs, batch_y)\n",
    "            \n",
    "            # Optional: Add class balancing\n",
    "            if torch.argmax(batch_y, dim=1).unique().numel() > 1:  # Multi-class present\n",
    "                # Weight rare classes more\n",
    "                class_weights = 1.0 / (torch.bincount(torch.argmax(batch_y, dim=1)) + 1e-6)\n",
    "                weights = class_weights[torch.argmax(batch_y, dim=1)]\n",
    "                loss = (loss * weights.unsqueeze(1)).mean()\n",
    "            \n",
    "            loss.backward()\n",
    "            \n",
    "            # Gradient clipping for stability\n",
    "            torch.nn.utils.clip_grad_norm_(model.parameters(), max_norm=1.0)\n",
    "            \n",
    "            optimizer.step()\n",
    "            \n",
    "            # Step scheduler for OneCycleLR\n",
    "            if scheduler_type == 'one_cycle':\n",
    "                scheduler.step()\n",
    "            \n",
    "            train_loss += loss.item()\n",
    "            \n",
    "            # Calculate accuracy\n",
    "            predicted = (outputs > 0.5).float()\n",
    "            train_correct += (predicted == batch_y).all(dim=1).sum().item()\n",
    "            train_total += batch_y.size(0)\n",
    "            \n",
    "            # Update progress bar\n",
    "            current_avg_loss = train_loss / (batch_idx + 1)\n",
    "            current_acc = 100 * train_correct / train_total if train_total > 0 else 0\n",
    "            pbar.set_postfix({\n",
    "                'Loss': f'{current_avg_loss:.4f}',\n",
    "                'Acc': f'{current_acc:.2f}%',\n",
    "                'LR': f'{optimizer.param_groups[0][\"lr\"]:.6f}'\n",
    "            })\n",
    "        \n",
    "        # Calculate epoch metrics\n",
    "        train_loss /= len(train_loader)\n",
    "        train_acc = 100 * train_correct / train_total if train_total > 0 else 0\n",
    "        current_lr = optimizer.param_groups[0]['lr']\n",
    "        \n",
    "        # Save best model\n",
    "        if train_loss < best_loss:\n",
    "            best_loss = train_loss\n",
    "            best_dict = model.state_dict()\n",
    "        \n",
    "        train_losses.append(train_loss)\n",
    "        train_accuracies.append(train_acc)\n",
    "        learning_rates.append(current_lr)\n",
    "        \n",
    "        print(f'Epoch [{epoch+1}/{num_epochs}]')\n",
    "        print(f'Train Loss: {train_loss}, Train Acc: {train_acc:.2f}%, LR: {current_lr:.6f}')\n",
    "        print('-' * 60)\n",
    "        \n",
    "        # Step scheduler (except OneCycleLR which steps per batch)\n",
    "        if scheduler_type == 'cosine_restart':\n",
    "            scheduler.step()\n",
    "        elif scheduler_type == 'warmup_cosine':\n",
    "            scheduler.step()\n",
    "        elif scheduler_type == 'reduce_plateau':\n",
    "            scheduler.step(train_loss)\n",
    "    \n",
    "    return train_losses, train_accuracies, learning_rates, best_dict\n",
    "\n",
    "def main():\n",
    "    n_hidden = 128\n",
    "    n_layers = 1\n",
    "    epochs = 200\n",
    "    batch_size = 64\n",
    "    learning_rate = 1e-3\n",
    "    \n",
    "    # SCHEDULER CHOICE - Try different ones!\n",
    "    scheduler_options = [\n",
    "        'cosine_restart',    # Your current - excellent overall\n",
    "        'warmup_cosine',     # Best for time series\n",
    "        'reduce_plateau',    # Most adaptive\n",
    "        'one_cycle'          # Fastest convergence\n",
    "    ]\n",
    "    \n",
    "    chosen_scheduler = 'warmup_cosine'  # Recommended for your time series task\n",
    "    \n",
    "    df = pd.read_csv(r'..\\meta_data\\normal_train_data.csv')\n",
    "    train_data = CustomDataset(chunk=50, dataframe=df)\n",
    "    train_dataset = DataLoader(train_data, batch_size=batch_size)\n",
    "    nums, segment, input, train_data_tensor, label_encoder = train_data.data_info()\n",
    "    \n",
    "    n_features = input\n",
    "    n_classes = len(label_encoder.classes_)\n",
    "    \n",
    "    model = TimeSeriesClassifier(\n",
    "        n_features=n_features,\n",
    "        n_classes=n_classes,\n",
    "        n_hidden=n_hidden,\n",
    "        n_layers=n_layers\n",
    "    ).to(\"cuda\")\n",
    "    \n",
    "    print(f\"Model initialized with {n_features} features and {n_classes} classes\")\n",
    "    print(f\"Using scheduler: {chosen_scheduler}\")\n",
    "    \n",
    "    # Train model\n",
    "    print(\"Starting training...\")\n",
    "    train_losses, train_accs, learning_rates, best_dict = train_model(\n",
    "        model, train_dataset, \n",
    "        num_epochs=epochs, \n",
    "        learning_rate=learning_rate,\n",
    "        scheduler_type=chosen_scheduler\n",
    "    )\n",
    "    \n",
    "    # Save model\n",
    "    torch.save({\n",
    "        'model_state_dict': best_dict,\n",
    "        'label_encoder': label_encoder,\n",
    "        'model_config': {\n",
    "            'n_features': n_features,\n",
    "            'n_classes': n_classes,\n",
    "            'n_hidden': n_hidden,\n",
    "            'n_layers': n_layers\n",
    "        },\n",
    "        'scheduler_used': chosen_scheduler\n",
    "    }, '2_timeseries_model_optimized.pth')\n",
    "    \n",
    "    print(\"Model saved as '2_timeseries_model_optimized.pth'\")\n",
    "    \n",
    "    # Enhanced plotting\n",
    "    plt.figure(figsize=(15, 5))\n",
    "    \n",
    "    plt.subplot(1, 3, 1)\n",
    "    plt.plot(train_losses, label='Train Loss', color='red')\n",
    "    plt.title('Training Loss')\n",
    "    plt.xlabel('Epoch')\n",
    "    plt.ylabel('Loss')\n",
    "    plt.legend()\n",
    "    plt.grid(True, alpha=0.3)\n",
    "    \n",
    "    plt.subplot(1, 3, 2)\n",
    "    plt.plot(train_accs, label='Train Acc', color='blue')\n",
    "    plt.title('Training Accuracy')\n",
    "    plt.xlabel('Epoch')\n",
    "    plt.ylabel('Accuracy (%)')\n",
    "    plt.legend()\n",
    "    plt.grid(True, alpha=0.3)\n",
    "    \n",
    "    plt.subplot(1, 3, 3)\n",
    "    plt.plot(learning_rates, label='Learning Rate', color='green')\n",
    "    plt.title(f'Learning Rate Schedule ({chosen_scheduler})')\n",
    "    plt.xlabel('Epoch')\n",
    "    plt.ylabel('Learning Rate')\n",
    "    plt.yscale('log')\n",
    "    plt.legend()\n",
    "    plt.grid(True, alpha=0.3)\n",
    "    \n",
    "    plt.tight_layout()\n",
    "    plt.show()\n",
    "    \n",
    "    print(f\"\\nFinal Results:\")\n",
    "    print(f\"Best Loss: {min(train_losses):.4f}\")\n",
    "    print(f\"Final Accuracy: {train_accs[-1]:.2f}%\")\n",
    "    print(f\"Scheduler used: {chosen_scheduler}\")\n",
    "\n",
    "if __name__ == \"__main__\":\n",
    "    main()"
   ]
  },
  {
   "cell_type": "code",
   "execution_count": 20,
   "id": "ac208074",
   "metadata": {},
   "outputs": [
    {
     "name": "stdout",
     "output_type": "stream",
     "text": [
      "✅ Model loaded successfully from: saved_models\\cnn_timeseries_model_20250801_125002.pth\n",
      "📊 Model Info:\n",
      "   Input Shape: (121, 28)\n",
      "   Classes: 51\n",
      "   Class Names: ['nothing', 'กาแฟ', 'กิน', 'ขอบคุณ', 'คำถาม', 'คุณ', 'ฉัน', 'ชอบ', 'ช่วย', 'ดี', 'ดื่ม', 'ตอนนี้', 'ต้องการ', 'ทำ', 'ทำงาน', 'ทีหลัง', 'ที่นั่น', 'ที่นี่', 'นอน', 'น้ำ', 'บ้าน', 'ป่วย', 'พรุ่งนี้', 'พูด', 'มา', 'มี', 'รถ', 'รอ', 'ร้อน', 'ร้าย', 'วันนี้', 'วิ่ง', 'หนังสือ', 'หนาว', 'อันตราย', 'อาหาร', 'อ่าน', 'เขียน', 'เข้าใจ', 'เดิน', 'เพื่อน', 'เมื่อวาน', 'เรา', 'เรียน', 'เล็ก', 'เล่น', 'เวลา', 'โทรศัพท์', 'โรงเรียน', 'ใหญ่', 'ไป']\n",
      "🏆 Training Info:\n",
      "   Final Val Acc: 93.72549019607843\n",
      "   Scheduler: warmup_cosine\n",
      "   Total Epochs: 53\n",
      "📊 Model Info:\n",
      "   Input Shape: (121, 28)\n",
      "   Classes: 51\n",
      "   Class Names: ['nothing', 'กาแฟ', 'กิน', 'ขอบคุณ', 'คำถาม', 'คุณ', 'ฉัน', 'ชอบ', 'ช่วย', 'ดี', 'ดื่ม', 'ตอนนี้', 'ต้องการ', 'ทำ', 'ทำงาน', 'ทีหลัง', 'ที่นั่น', 'ที่นี่', 'นอน', 'น้ำ', 'บ้าน', 'ป่วย', 'พรุ่งนี้', 'พูด', 'มา', 'มี', 'รถ', 'รอ', 'ร้อน', 'ร้าย', 'วันนี้', 'วิ่ง', 'หนังสือ', 'หนาว', 'อันตราย', 'อาหาร', 'อ่าน', 'เขียน', 'เข้าใจ', 'เดิน', 'เพื่อน', 'เมื่อวาน', 'เรา', 'เรียน', 'เล็ก', 'เล่น', 'เวลา', 'โทรศัพท์', 'โรงเรียน', 'ใหญ่', 'ไป']\n",
      "Found 201 label groups\n",
      "Kept 103 groups after length filtering\n"
     ]
    },
    {
     "name": "stderr",
     "output_type": "stream",
     "text": [
      "Processing sequences: 100%|██████████| 103/103 [00:00<00:00, 3480.95it/s]\n"
     ]
    },
    {
     "name": "stdout",
     "output_type": "stream",
     "text": [
      "Dataset created: 103 sequences of shape torch.Size([103, 121, 28])\n",
      "Classes: 51, Distribution: Counter({np.int64(0): 5, np.int64(6): 2, np.int64(5): 2, np.int64(3): 2, np.int64(42): 2, np.int64(10): 2, np.int64(50): 2, np.int64(24): 2, np.int64(21): 2, np.int64(7): 2, np.int64(12): 2, np.int64(25): 2, np.int64(13): 2, np.int64(23): 2, np.int64(36): 2, np.int64(37): 2, np.int64(18): 2, np.int64(45): 2, np.int64(39): 2, np.int64(31): 2, np.int64(9): 2, np.int64(29): 2, np.int64(49): 2, np.int64(44): 2, np.int64(28): 2, np.int64(33): 2, np.int64(30): 2, np.int64(22): 2, np.int64(41): 2, np.int64(20): 2, np.int64(48): 2, np.int64(40): 2, np.int64(19): 2, np.int64(35): 2, np.int64(1): 2, np.int64(32): 2, np.int64(47): 2, np.int64(26): 2, np.int64(46): 2, np.int64(11): 2, np.int64(15): 2, np.int64(17): 2, np.int64(4): 2, np.int64(34): 2, np.int64(8): 2, np.int64(27): 2, np.int64(38): 2, np.int64(43): 2, np.int64(14): 2, np.int64(2): 1, np.int64(16): 1})\n",
      "🔍 Starting inference...\n",
      "Expected input shape: (121, 28)\n"
     ]
    },
    {
     "name": "stderr",
     "output_type": "stream",
     "text": [
      "Evaluating:   0%|          | 0/2 [00:00<?, ?it/s]\n"
     ]
    },
    {
     "ename": "RuntimeError",
     "evalue": "Expected all tensors to be on the same device, but found at least two devices, cpu and cuda:0! (when checking argument for argument weight in method wrapper_CUDA__native_batch_norm)",
     "output_type": "error",
     "traceback": [
      "\u001b[31m---------------------------------------------------------------------------\u001b[39m",
      "\u001b[31mRuntimeError\u001b[39m                              Traceback (most recent call last)",
      "\u001b[36mCell\u001b[39m\u001b[36m \u001b[39m\u001b[32mIn[20]\u001b[39m\u001b[32m, line 59\u001b[39m\n\u001b[32m     56\u001b[39m \u001b[38;5;28;01mwith\u001b[39;00m torch.no_grad():\n\u001b[32m     57\u001b[39m     \u001b[38;5;28;01mfor\u001b[39;00m batch_idx, (inputs, answer) \u001b[38;5;129;01min\u001b[39;00m \u001b[38;5;28menumerate\u001b[39m(tqdm(test_loader, desc=\u001b[33m\"\u001b[39m\u001b[33mEvaluating\u001b[39m\u001b[33m\"\u001b[39m)):\n\u001b[32m     58\u001b[39m         \u001b[38;5;66;03m# Forward pass\u001b[39;00m\n\u001b[32m---> \u001b[39m\u001b[32m59\u001b[39m         output = \u001b[43mmodel\u001b[49m\u001b[43m(\u001b[49m\u001b[43minputs\u001b[49m\u001b[43m)\u001b[49m\n\u001b[32m     61\u001b[39m         \u001b[38;5;66;03m# Print shapes for debugging (only first batch)\u001b[39;00m\n\u001b[32m     62\u001b[39m         \u001b[38;5;28;01mif\u001b[39;00m batch_idx == \u001b[32m0\u001b[39m:\n",
      "\u001b[36mFile \u001b[39m\u001b[32mc:\\SKB_co_Project\\Mocap\\git\\Sign_Language_Detection\\.venv\\Lib\\site-packages\\torch\\nn\\modules\\module.py:1751\u001b[39m, in \u001b[36mModule._wrapped_call_impl\u001b[39m\u001b[34m(self, *args, **kwargs)\u001b[39m\n\u001b[32m   1749\u001b[39m     \u001b[38;5;28;01mreturn\u001b[39;00m \u001b[38;5;28mself\u001b[39m._compiled_call_impl(*args, **kwargs)  \u001b[38;5;66;03m# type: ignore[misc]\u001b[39;00m\n\u001b[32m   1750\u001b[39m \u001b[38;5;28;01melse\u001b[39;00m:\n\u001b[32m-> \u001b[39m\u001b[32m1751\u001b[39m     \u001b[38;5;28;01mreturn\u001b[39;00m \u001b[38;5;28;43mself\u001b[39;49m\u001b[43m.\u001b[49m\u001b[43m_call_impl\u001b[49m\u001b[43m(\u001b[49m\u001b[43m*\u001b[49m\u001b[43margs\u001b[49m\u001b[43m,\u001b[49m\u001b[43m \u001b[49m\u001b[43m*\u001b[49m\u001b[43m*\u001b[49m\u001b[43mkwargs\u001b[49m\u001b[43m)\u001b[49m\n",
      "\u001b[36mFile \u001b[39m\u001b[32mc:\\SKB_co_Project\\Mocap\\git\\Sign_Language_Detection\\.venv\\Lib\\site-packages\\torch\\nn\\modules\\module.py:1762\u001b[39m, in \u001b[36mModule._call_impl\u001b[39m\u001b[34m(self, *args, **kwargs)\u001b[39m\n\u001b[32m   1757\u001b[39m \u001b[38;5;66;03m# If we don't have any hooks, we want to skip the rest of the logic in\u001b[39;00m\n\u001b[32m   1758\u001b[39m \u001b[38;5;66;03m# this function, and just call forward.\u001b[39;00m\n\u001b[32m   1759\u001b[39m \u001b[38;5;28;01mif\u001b[39;00m \u001b[38;5;129;01mnot\u001b[39;00m (\u001b[38;5;28mself\u001b[39m._backward_hooks \u001b[38;5;129;01mor\u001b[39;00m \u001b[38;5;28mself\u001b[39m._backward_pre_hooks \u001b[38;5;129;01mor\u001b[39;00m \u001b[38;5;28mself\u001b[39m._forward_hooks \u001b[38;5;129;01mor\u001b[39;00m \u001b[38;5;28mself\u001b[39m._forward_pre_hooks\n\u001b[32m   1760\u001b[39m         \u001b[38;5;129;01mor\u001b[39;00m _global_backward_pre_hooks \u001b[38;5;129;01mor\u001b[39;00m _global_backward_hooks\n\u001b[32m   1761\u001b[39m         \u001b[38;5;129;01mor\u001b[39;00m _global_forward_hooks \u001b[38;5;129;01mor\u001b[39;00m _global_forward_pre_hooks):\n\u001b[32m-> \u001b[39m\u001b[32m1762\u001b[39m     \u001b[38;5;28;01mreturn\u001b[39;00m \u001b[43mforward_call\u001b[49m\u001b[43m(\u001b[49m\u001b[43m*\u001b[49m\u001b[43margs\u001b[49m\u001b[43m,\u001b[49m\u001b[43m \u001b[49m\u001b[43m*\u001b[49m\u001b[43m*\u001b[49m\u001b[43mkwargs\u001b[49m\u001b[43m)\u001b[49m\n\u001b[32m   1764\u001b[39m result = \u001b[38;5;28;01mNone\u001b[39;00m\n\u001b[32m   1765\u001b[39m called_always_called_hooks = \u001b[38;5;28mset\u001b[39m()\n",
      "\u001b[36mCell\u001b[39m\u001b[36m \u001b[39m\u001b[32mIn[14]\u001b[39m\u001b[32m, line 121\u001b[39m, in \u001b[36mCNNTimeSeriesClassifier.forward\u001b[39m\u001b[34m(self, x)\u001b[39m\n\u001b[32m    118\u001b[39m \u001b[38;5;66;03m# Normalize along feature dimension\u001b[39;00m\n\u001b[32m    119\u001b[39m \u001b[38;5;66;03m# Reshape for BatchNorm1d: (batch_size * seq_len, n_features)\u001b[39;00m\n\u001b[32m    120\u001b[39m x_norm = x.view(-\u001b[32m1\u001b[39m, x.size(\u001b[32m2\u001b[39m))\n\u001b[32m--> \u001b[39m\u001b[32m121\u001b[39m x_norm = \u001b[38;5;28;43mself\u001b[39;49m\u001b[43m.\u001b[49m\u001b[43mnormalization\u001b[49m\u001b[43m(\u001b[49m\u001b[43mx_norm\u001b[49m\u001b[43m)\u001b[49m\n\u001b[32m    122\u001b[39m x = x_norm.view(batch_size, x.size(\u001b[32m1\u001b[39m), x.size(\u001b[32m2\u001b[39m))\n\u001b[32m    124\u001b[39m \u001b[38;5;66;03m# Reshape for 2D convolution: (batch_size, 1, seq_len, n_features)\u001b[39;00m\n",
      "\u001b[36mFile \u001b[39m\u001b[32mc:\\SKB_co_Project\\Mocap\\git\\Sign_Language_Detection\\.venv\\Lib\\site-packages\\torch\\nn\\modules\\module.py:1751\u001b[39m, in \u001b[36mModule._wrapped_call_impl\u001b[39m\u001b[34m(self, *args, **kwargs)\u001b[39m\n\u001b[32m   1749\u001b[39m     \u001b[38;5;28;01mreturn\u001b[39;00m \u001b[38;5;28mself\u001b[39m._compiled_call_impl(*args, **kwargs)  \u001b[38;5;66;03m# type: ignore[misc]\u001b[39;00m\n\u001b[32m   1750\u001b[39m \u001b[38;5;28;01melse\u001b[39;00m:\n\u001b[32m-> \u001b[39m\u001b[32m1751\u001b[39m     \u001b[38;5;28;01mreturn\u001b[39;00m \u001b[38;5;28;43mself\u001b[39;49m\u001b[43m.\u001b[49m\u001b[43m_call_impl\u001b[49m\u001b[43m(\u001b[49m\u001b[43m*\u001b[49m\u001b[43margs\u001b[49m\u001b[43m,\u001b[49m\u001b[43m \u001b[49m\u001b[43m*\u001b[49m\u001b[43m*\u001b[49m\u001b[43mkwargs\u001b[49m\u001b[43m)\u001b[49m\n",
      "\u001b[36mFile \u001b[39m\u001b[32mc:\\SKB_co_Project\\Mocap\\git\\Sign_Language_Detection\\.venv\\Lib\\site-packages\\torch\\nn\\modules\\module.py:1762\u001b[39m, in \u001b[36mModule._call_impl\u001b[39m\u001b[34m(self, *args, **kwargs)\u001b[39m\n\u001b[32m   1757\u001b[39m \u001b[38;5;66;03m# If we don't have any hooks, we want to skip the rest of the logic in\u001b[39;00m\n\u001b[32m   1758\u001b[39m \u001b[38;5;66;03m# this function, and just call forward.\u001b[39;00m\n\u001b[32m   1759\u001b[39m \u001b[38;5;28;01mif\u001b[39;00m \u001b[38;5;129;01mnot\u001b[39;00m (\u001b[38;5;28mself\u001b[39m._backward_hooks \u001b[38;5;129;01mor\u001b[39;00m \u001b[38;5;28mself\u001b[39m._backward_pre_hooks \u001b[38;5;129;01mor\u001b[39;00m \u001b[38;5;28mself\u001b[39m._forward_hooks \u001b[38;5;129;01mor\u001b[39;00m \u001b[38;5;28mself\u001b[39m._forward_pre_hooks\n\u001b[32m   1760\u001b[39m         \u001b[38;5;129;01mor\u001b[39;00m _global_backward_pre_hooks \u001b[38;5;129;01mor\u001b[39;00m _global_backward_hooks\n\u001b[32m   1761\u001b[39m         \u001b[38;5;129;01mor\u001b[39;00m _global_forward_hooks \u001b[38;5;129;01mor\u001b[39;00m _global_forward_pre_hooks):\n\u001b[32m-> \u001b[39m\u001b[32m1762\u001b[39m     \u001b[38;5;28;01mreturn\u001b[39;00m \u001b[43mforward_call\u001b[49m\u001b[43m(\u001b[49m\u001b[43m*\u001b[49m\u001b[43margs\u001b[49m\u001b[43m,\u001b[49m\u001b[43m \u001b[49m\u001b[43m*\u001b[49m\u001b[43m*\u001b[49m\u001b[43mkwargs\u001b[49m\u001b[43m)\u001b[49m\n\u001b[32m   1764\u001b[39m result = \u001b[38;5;28;01mNone\u001b[39;00m\n\u001b[32m   1765\u001b[39m called_always_called_hooks = \u001b[38;5;28mset\u001b[39m()\n",
      "\u001b[36mFile \u001b[39m\u001b[32mc:\\SKB_co_Project\\Mocap\\git\\Sign_Language_Detection\\.venv\\Lib\\site-packages\\torch\\nn\\modules\\batchnorm.py:193\u001b[39m, in \u001b[36m_BatchNorm.forward\u001b[39m\u001b[34m(self, input)\u001b[39m\n\u001b[32m    186\u001b[39m     bn_training = (\u001b[38;5;28mself\u001b[39m.running_mean \u001b[38;5;129;01mis\u001b[39;00m \u001b[38;5;28;01mNone\u001b[39;00m) \u001b[38;5;129;01mand\u001b[39;00m (\u001b[38;5;28mself\u001b[39m.running_var \u001b[38;5;129;01mis\u001b[39;00m \u001b[38;5;28;01mNone\u001b[39;00m)\n\u001b[32m    188\u001b[39m \u001b[38;5;250m\u001b[39m\u001b[33mr\u001b[39m\u001b[33;03m\"\"\"\u001b[39;00m\n\u001b[32m    189\u001b[39m \u001b[33;03mBuffers are only updated if they are to be tracked and we are in training mode. Thus they only need to be\u001b[39;00m\n\u001b[32m    190\u001b[39m \u001b[33;03mpassed when the update should occur (i.e. in training mode when they are tracked), or when buffer stats are\u001b[39;00m\n\u001b[32m    191\u001b[39m \u001b[33;03mused for normalization (i.e. in eval mode when buffers are not None).\u001b[39;00m\n\u001b[32m    192\u001b[39m \u001b[33;03m\"\"\"\u001b[39;00m\n\u001b[32m--> \u001b[39m\u001b[32m193\u001b[39m \u001b[38;5;28;01mreturn\u001b[39;00m \u001b[43mF\u001b[49m\u001b[43m.\u001b[49m\u001b[43mbatch_norm\u001b[49m\u001b[43m(\u001b[49m\n\u001b[32m    194\u001b[39m \u001b[43m    \u001b[49m\u001b[38;5;28;43minput\u001b[39;49m\u001b[43m,\u001b[49m\n\u001b[32m    195\u001b[39m \u001b[43m    \u001b[49m\u001b[38;5;66;43;03m# If buffers are not to be tracked, ensure that they won't be updated\u001b[39;49;00m\n\u001b[32m    196\u001b[39m \u001b[43m    \u001b[49m\u001b[38;5;28;43mself\u001b[39;49m\u001b[43m.\u001b[49m\u001b[43mrunning_mean\u001b[49m\n\u001b[32m    197\u001b[39m \u001b[43m    \u001b[49m\u001b[38;5;28;43;01mif\u001b[39;49;00m\u001b[43m \u001b[49m\u001b[38;5;129;43;01mnot\u001b[39;49;00m\u001b[43m \u001b[49m\u001b[38;5;28;43mself\u001b[39;49m\u001b[43m.\u001b[49m\u001b[43mtraining\u001b[49m\u001b[43m \u001b[49m\u001b[38;5;129;43;01mor\u001b[39;49;00m\u001b[43m \u001b[49m\u001b[38;5;28;43mself\u001b[39;49m\u001b[43m.\u001b[49m\u001b[43mtrack_running_stats\u001b[49m\n\u001b[32m    198\u001b[39m \u001b[43m    \u001b[49m\u001b[38;5;28;43;01melse\u001b[39;49;00m\u001b[43m \u001b[49m\u001b[38;5;28;43;01mNone\u001b[39;49;00m\u001b[43m,\u001b[49m\n\u001b[32m    199\u001b[39m \u001b[43m    \u001b[49m\u001b[38;5;28;43mself\u001b[39;49m\u001b[43m.\u001b[49m\u001b[43mrunning_var\u001b[49m\u001b[43m \u001b[49m\u001b[38;5;28;43;01mif\u001b[39;49;00m\u001b[43m \u001b[49m\u001b[38;5;129;43;01mnot\u001b[39;49;00m\u001b[43m \u001b[49m\u001b[38;5;28;43mself\u001b[39;49m\u001b[43m.\u001b[49m\u001b[43mtraining\u001b[49m\u001b[43m \u001b[49m\u001b[38;5;129;43;01mor\u001b[39;49;00m\u001b[43m \u001b[49m\u001b[38;5;28;43mself\u001b[39;49m\u001b[43m.\u001b[49m\u001b[43mtrack_running_stats\u001b[49m\u001b[43m \u001b[49m\u001b[38;5;28;43;01melse\u001b[39;49;00m\u001b[43m \u001b[49m\u001b[38;5;28;43;01mNone\u001b[39;49;00m\u001b[43m,\u001b[49m\n\u001b[32m    200\u001b[39m \u001b[43m    \u001b[49m\u001b[38;5;28;43mself\u001b[39;49m\u001b[43m.\u001b[49m\u001b[43mweight\u001b[49m\u001b[43m,\u001b[49m\n\u001b[32m    201\u001b[39m \u001b[43m    \u001b[49m\u001b[38;5;28;43mself\u001b[39;49m\u001b[43m.\u001b[49m\u001b[43mbias\u001b[49m\u001b[43m,\u001b[49m\n\u001b[32m    202\u001b[39m \u001b[43m    \u001b[49m\u001b[43mbn_training\u001b[49m\u001b[43m,\u001b[49m\n\u001b[32m    203\u001b[39m \u001b[43m    \u001b[49m\u001b[43mexponential_average_factor\u001b[49m\u001b[43m,\u001b[49m\n\u001b[32m    204\u001b[39m \u001b[43m    \u001b[49m\u001b[38;5;28;43mself\u001b[39;49m\u001b[43m.\u001b[49m\u001b[43meps\u001b[49m\u001b[43m,\u001b[49m\n\u001b[32m    205\u001b[39m \u001b[43m\u001b[49m\u001b[43m)\u001b[49m\n",
      "\u001b[36mFile \u001b[39m\u001b[32mc:\\SKB_co_Project\\Mocap\\git\\Sign_Language_Detection\\.venv\\Lib\\site-packages\\torch\\nn\\functional.py:2822\u001b[39m, in \u001b[36mbatch_norm\u001b[39m\u001b[34m(input, running_mean, running_var, weight, bias, training, momentum, eps)\u001b[39m\n\u001b[32m   2819\u001b[39m \u001b[38;5;28;01mif\u001b[39;00m training:\n\u001b[32m   2820\u001b[39m     _verify_batch_size(\u001b[38;5;28minput\u001b[39m.size())\n\u001b[32m-> \u001b[39m\u001b[32m2822\u001b[39m \u001b[38;5;28;01mreturn\u001b[39;00m \u001b[43mtorch\u001b[49m\u001b[43m.\u001b[49m\u001b[43mbatch_norm\u001b[49m\u001b[43m(\u001b[49m\n\u001b[32m   2823\u001b[39m \u001b[43m    \u001b[49m\u001b[38;5;28;43minput\u001b[39;49m\u001b[43m,\u001b[49m\n\u001b[32m   2824\u001b[39m \u001b[43m    \u001b[49m\u001b[43mweight\u001b[49m\u001b[43m,\u001b[49m\n\u001b[32m   2825\u001b[39m \u001b[43m    \u001b[49m\u001b[43mbias\u001b[49m\u001b[43m,\u001b[49m\n\u001b[32m   2826\u001b[39m \u001b[43m    \u001b[49m\u001b[43mrunning_mean\u001b[49m\u001b[43m,\u001b[49m\n\u001b[32m   2827\u001b[39m \u001b[43m    \u001b[49m\u001b[43mrunning_var\u001b[49m\u001b[43m,\u001b[49m\n\u001b[32m   2828\u001b[39m \u001b[43m    \u001b[49m\u001b[43mtraining\u001b[49m\u001b[43m,\u001b[49m\n\u001b[32m   2829\u001b[39m \u001b[43m    \u001b[49m\u001b[43mmomentum\u001b[49m\u001b[43m,\u001b[49m\n\u001b[32m   2830\u001b[39m \u001b[43m    \u001b[49m\u001b[43meps\u001b[49m\u001b[43m,\u001b[49m\n\u001b[32m   2831\u001b[39m \u001b[43m    \u001b[49m\u001b[43mtorch\u001b[49m\u001b[43m.\u001b[49m\u001b[43mbackends\u001b[49m\u001b[43m.\u001b[49m\u001b[43mcudnn\u001b[49m\u001b[43m.\u001b[49m\u001b[43menabled\u001b[49m\u001b[43m,\u001b[49m\n\u001b[32m   2832\u001b[39m \u001b[43m\u001b[49m\u001b[43m)\u001b[49m\n",
      "\u001b[31mRuntimeError\u001b[39m: Expected all tensors to be on the same device, but found at least two devices, cpu and cuda:0! (when checking argument for argument weight in method wrapper_CUDA__native_batch_norm)"
     ]
    }
   ],
   "source": [
    "import glob\n",
    "import os\n",
    "import torch\n",
    "import pandas as pd\n",
    "import numpy as np\n",
    "from torch.utils.data import DataLoader\n",
    "from sklearn.preprocessing import LabelEncoder\n",
    "from sklearn.metrics import accuracy_score, f1_score, classification_report\n",
    "from tqdm import tqdm\n",
    "import torch.nn.functional as F\n",
    "\n",
    "# Load test data\n",
    "test_df = pd.read_csv(r\"..\\meta_data\\indicator-20250727T060250Z-1-001\\indicator\\data\\20250715_111750_DATA_INDICATOR_sensor.csv\")\n",
    "\n",
    "# Load the CNN model using the load_model function\n",
    "model, label_encoder, dataset_info, training_info = load_model(r\"saved_models\\cnn_timeseries_model_20250801_125002.pth\", device='cuda')\n",
    "\n",
    "print(f\"📊 Model Info:\")\n",
    "print(f\"   Input Shape: {dataset_info['input_shape']}\")\n",
    "print(f\"   Classes: {dataset_info['n_classes']}\")\n",
    "print(f\"   Class Names: {dataset_info['class_names']}\")\n",
    "\n",
    "# # Create test dataset using the loaded label encoder\n",
    "# # Note: You need to match the chunk_size with what the CNN expects (121 from dataset_info)\n",
    "# expected_chunk_size = dataset_info['sequence_length']\n",
    "# test_dataset = CustomDataset(\n",
    "#     chunk=expected_chunk_size,  # Use the same chunk size as training\n",
    "#     dataframe=test_df,\n",
    "#     isLabelEncoder=True,\n",
    "#     Label=label_encoder\n",
    "# )\n",
    "\n",
    "test_df = pd.read_csv(r'..\\meta_data\\indicator-20250727T060250Z-1-001\\indicator\\data\\20250715_111750_DATA_INDICATOR_sensor.csv')\n",
    "expected_chunk_size = dataset_info['sequence_length']\n",
    "test_dataset = ImprovedCustomDataset(\n",
    "    dataframe=test_df,\n",
    "    chunk_size=expected_chunk_size,\n",
    "    label_encoder=label_encoder,\n",
    "    is_test=True,\n",
    "    balance_classes=False\n",
    ")\n",
    "\n",
    "# Create DataLoader\n",
    "test_loader = DataLoader(test_dataset, batch_size=64)\n",
    "\n",
    "print(f\"🔍 Starting inference...\")\n",
    "print(f\"Expected input shape: {dataset_info['input_shape']}\")\n",
    "\n",
    "y_pred = []\n",
    "y_true = []\n",
    "y_pred_labels = []\n",
    "y_true_labels = []\n",
    "\n",
    "model.eval()\n",
    "\n",
    "with torch.no_grad():\n",
    "    for batch_idx, (inputs, answer) in enumerate(tqdm(test_loader, desc=\"Evaluating\")):\n",
    "        # Forward pass\n",
    "        output = model(inputs)\n",
    "        \n",
    "        # Print shapes for debugging (only first batch)\n",
    "        if batch_idx == 0:\n",
    "            print(f\"\\n🔍 Tensor Shapes:\")\n",
    "            print(f\"   Input shape: {inputs.shape}\")\n",
    "            print(f\"   Output shape: {output.shape}\")\n",
    "            print(f\"   Answer shape: {answer.shape}\")\n",
    "        \n",
    "        # Get probabilities and predictions\n",
    "        probabilities = F.softmax(output, dim=1)\n",
    "        pred_classes = torch.argmax(output, dim=1).cpu()\n",
    "        true_classes = torch.argmax(answer, dim=1).cpu()\n",
    "        \n",
    "        # Store predictions\n",
    "        y_pred.append(pred_classes)\n",
    "        y_true.append(true_classes)\n",
    "        \n",
    "        # Decode to label names\n",
    "        pred_labels = [label_encoder.classes_[idx] for idx in pred_classes.numpy()]\n",
    "        true_labels = [label_encoder.classes_[idx] for idx in true_classes.numpy()]\n",
    "        \n",
    "        y_pred_labels.extend(pred_labels)\n",
    "        y_true_labels.extend(true_labels)\n",
    "        \n",
    "        # Show first few predictions from first batch\n",
    "        if batch_idx == 0:\n",
    "            print(f\"\\n📋 Sample Predictions (First 10):\")\n",
    "            print(f\"{'Index':<5} {'True Label':<15} {'Predicted':<15} {'Confidence':<10}\")\n",
    "            print(\"-\" * 55)\n",
    "            \n",
    "            for i in range(min(10, len(pred_classes))):\n",
    "                confidence = probabilities[i, pred_classes[i]].item()\n",
    "                print(f\"{i:<5} {true_labels[i]:<15} {pred_labels[i]:<15} {confidence:.3f}\")\n",
    "\n",
    "# Concatenate all batches\n",
    "y_pred = torch.cat(y_pred).numpy()\n",
    "y_true = torch.cat(y_true).numpy()\n",
    "\n",
    "# Calculate metrics\n",
    "accuracy = accuracy_score(y_true, y_pred)\n",
    "f1_macro = f1_score(y_true, y_pred, average='macro')\n",
    "f1_weighted = f1_score(y_true, y_pred, average='weighted')\n",
    "\n",
    "print(f\"\\n📊 EVALUATION RESULTS:\")\n",
    "print(f\"{'='*50}\")\n",
    "print(f\"Total Samples:     {len(y_pred)}\")\n",
    "print(f\"Accuracy:          {accuracy:.4f} ({accuracy*100:.2f}%)\")\n",
    "print(f\"F1 (Macro):        {f1_macro:.4f} ({f1_macro*100:.2f}%)\")\n",
    "print(f\"F1 (Weighted):     {f1_weighted:.4f} ({f1_weighted*100:.2f}%)\")\n",
    "print(f\"{'='*50}\")\n",
    "\n",
    "# Detailed classification report with label names\n",
    "print(f\"\\n📈 CLASSIFICATION REPORT:\")\n",
    "print(classification_report(y_true, y_pred, target_names=label_encoder.classes_, digits=4))\n",
    "\n",
    "# Show prediction distribution by label name\n",
    "print(f\"\\n📊 PREDICTION DISTRIBUTION BY LABEL:\")\n",
    "from collections import Counter\n",
    "\n",
    "pred_counts = Counter(y_pred_labels)\n",
    "true_counts = Counter(y_true_labels)\n",
    "\n",
    "print(f\"\\nPredicted Label Distribution:\")\n",
    "for label, count in pred_counts.most_common():\n",
    "    percentage = (count / len(y_pred_labels)) * 100\n",
    "    print(f\"  {label:<15}: {count:>5} ({percentage:>5.1f}%)\")\n",
    "\n",
    "print(f\"\\nTrue Label Distribution:\")\n",
    "for label, count in true_counts.most_common():\n",
    "    percentage = (count / len(y_true_labels)) * 100\n",
    "    print(f\"  {label:<15}: {count:>5} ({percentage:>5.1f}%)\")\n",
    "\n",
    "# Show confusion between labels\n",
    "print(f\"\\n🔍 PREDICTION ANALYSIS:\")\n",
    "correct_predictions = sum(1 for true, pred in zip(y_true_labels, y_pred_labels) if true == pred)\n",
    "print(f\"Correct predictions: {correct_predictions}/{len(y_pred_labels)} ({(correct_predictions/len(y_pred_labels)*100):.1f}%)\")\n",
    "\n",
    "# Show most common misclassifications\n",
    "misclassifications = [(true, pred) for true, pred in zip(y_true_labels, y_pred_labels) if true != pred]\n",
    "if misclassifications:\n",
    "    misclass_counts = Counter(misclassifications)\n",
    "    print(f\"\\nTop 5 Misclassifications:\")\n",
    "    for (true_label, pred_label), count in misclass_counts.most_common(5):\n",
    "        print(f\"  {true_label} → {pred_label}: {count} times\")\n",
    "\n",
    "# Save detailed results\n",
    "print(f\"\\n💾 Saving detailed results...\")\n",
    "\n",
    "# Create results DataFrame\n",
    "results_df = pd.DataFrame({\n",
    "    'true_label': y_true_labels,\n",
    "    'predicted_label': y_pred_labels,\n",
    "    'true_class_id': y_true,\n",
    "    'predicted_class_id': y_pred,\n",
    "    'correct': [t == p for t, p in zip(y_true_labels, y_pred_labels)]\n",
    "})\n",
    "\n",
    "# Save to CSV\n",
    "results_df.to_csv('prediction_results.csv', index=False)\n",
    "print(f\"📊 Results saved to: prediction_results.csv\")\n",
    "\n",
    "print(f\"\\n✅ Inference completed!\")"
   ]
  },
  {
   "cell_type": "code",
   "execution_count": 154,
   "id": "c5e2d396",
   "metadata": {},
   "outputs": [
    {
     "data": {
      "text/plain": [
       "tensor([17, 16,  3,  0, 35, 12, 23, 22, 21,  7, 12, 25, 26,  2, 31, 37, 32, 30,\n",
       "        39, 31,  9, 29, 35, 35, 28, 33, 30, 22, 25, 20, 48, 40, 19, 35,  1, 35,\n",
       "        47, 14, 46, 40, 12, 17,  4, 34,  8, 37, 38, 36, 26, 17, 17, 31, 17, 12,\n",
       "        40, 37,  6, 47, 12, 36, 26, 36, 36, 17, 36, 30, 39, 36,  9, 38,  6, 34,\n",
       "        37, 26, 30, 36, 37, 37, 37, 40, 19, 17, 47,  6, 47, 26, 46,  7, 40, 17,\n",
       "        17, 19, 34,  8, 37,  7,  6, 26, 49,  6, 40,  0, 36,  0, 36, 36,  0,  6,\n",
       "        37])"
      ]
     },
     "execution_count": 154,
     "metadata": {},
     "output_type": "execute_result"
    }
   ],
   "source": [
    "y_pred"
   ]
  },
  {
   "cell_type": "code",
   "execution_count": 152,
   "id": "d8091620",
   "metadata": {},
   "outputs": [],
   "source": [
    "y_pred = torch.cat(y_pred)\n",
    "y_true = torch.cat(y_true)\n"
   ]
  },
  {
   "cell_type": "code",
   "execution_count": 153,
   "id": "268bb6db",
   "metadata": {},
   "outputs": [
    {
     "name": "stdout",
     "output_type": "stream",
     "text": [
      "f1 score     0.3944954128440367\n",
      "recal score  0.3944954128440367\n",
      "acc score    0.3944954128440367\n"
     ]
    }
   ],
   "source": [
    "from sklearn.metrics import f1_score,recall_score,accuracy_score\n",
    "f1_scores = f1_score(y_true,y_pred, average=\"micro\")\n",
    "print(\"f1 score    \",f1_scores)\n",
    "recall_scores = recall_score(y_true, y_pred, average=\"micro\")\n",
    "print(\"recal score \",recall_scores)\n",
    "acc = accuracy_score(y_true, y_pred)\n",
    "print(\"acc score   \",acc)"
   ]
  },
  {
   "cell_type": "code",
   "execution_count": 155,
   "id": "c51dd205",
   "metadata": {},
   "outputs": [
    {
     "name": "stdout",
     "output_type": "stream",
     "text": [
      "109\n",
      "tensor([ 6,  5,  3, 42,  2, 10, 50, 24, 21,  7, 12, 25, 13, 23, 36, 37, 18, 45,\n",
      "        39, 31,  9, 29, 49, 44, 28, 33, 30, 22, 41, 20, 48, 40, 19, 35,  1, 32,\n",
      "        47, 26, 46, 11, 15, 17,  4, 34,  8, 27, 38, 43, 14,  6,  5,  3, 42, 10,\n",
      "        50, 24, 21,  7, 12, 25, 13, 23, 36, 37, 18, 45, 39, 31,  9, 29, 49, 44,\n",
      "        28, 33, 30, 22, 41, 20, 48, 40, 19, 35,  1, 32, 47, 26, 46, 11, 15, 17,\n",
      "        16,  4, 34,  8, 27, 38, 43, 14,  0,  0,  0,  0,  0,  0,  0,  0,  0,  0,\n",
      "         0])\n",
      "['ฉัน' 'คุณ' 'ขอบคุณ' 'เรา' 'กิน' 'ดื่ม' 'ไป' 'มา' 'ป่วย' 'ชอบ' 'ต้องการ'\n",
      " 'มี' 'ทำ' 'พูด' 'อ่าน' 'เขียน' 'นอน' 'เล่น' 'เดิน' 'วิ่ง' 'ดี' 'ร้าย'\n",
      " 'ใหญ่' 'เล็ก' 'ร้อน' 'หนาว' 'วันนี้' 'พรุ่งนี้' 'เมื่อวาน' 'บ้าน'\n",
      " 'โรงเรียน' 'เพื่อน' 'น้ำ' 'อาหาร' 'กาแฟ' 'หนังสือ' 'โทรศัพท์' 'รถ' 'เวลา'\n",
      " 'ตอนนี้' 'ทีหลัง' 'ที่นี่' 'คำถาม' 'อันตราย' 'ช่วย' 'รอ' 'เข้าใจ' 'เรียน'\n",
      " 'ทำงาน' 'ฉัน' 'คุณ' 'ขอบคุณ' 'เรา' 'ดื่ม' 'ไป' 'มา' 'ป่วย' 'ชอบ'\n",
      " 'ต้องการ' 'มี' 'ทำ' 'พูด' 'อ่าน' 'เขียน' 'นอน' 'เล่น' 'เดิน' 'วิ่ง' 'ดี'\n",
      " 'ร้าย' 'ใหญ่' 'เล็ก' 'ร้อน' 'หนาว' 'วันนี้' 'พรุ่งนี้' 'เมื่อวาน' 'บ้าน'\n",
      " 'โรงเรียน' 'เพื่อน' 'น้ำ' 'อาหาร' 'กาแฟ' 'หนังสือ' 'โทรศัพท์' 'รถ' 'เวลา'\n",
      " 'ตอนนี้' 'ทีหลัง' 'ที่นี่' 'ที่นั่น' 'คำถาม' 'อันตราย' 'ช่วย' 'รอ'\n",
      " 'เข้าใจ' 'เรียน' 'ทำงาน' 'nothing' 'nothing' 'nothing' 'nothing'\n",
      " 'nothing' 'nothing' 'nothing' 'nothing' 'nothing' 'nothing' 'nothing']\n",
      "['ที่นี่' 'ที่นั่น' 'ขอบคุณ' 'nothing' 'อาหาร' 'ต้องการ' 'พูด' 'พรุ่งนี้'\n",
      " 'ป่วย' 'ชอบ' 'ต้องการ' 'มี' 'รถ' 'กิน' 'วิ่ง' 'เขียน' 'หนังสือ' 'วันนี้'\n",
      " 'เดิน' 'วิ่ง' 'ดี' 'ร้าย' 'อาหาร' 'อาหาร' 'ร้อน' 'หนาว' 'วันนี้'\n",
      " 'พรุ่งนี้' 'มี' 'บ้าน' 'โรงเรียน' 'เพื่อน' 'น้ำ' 'อาหาร' 'กาแฟ' 'อาหาร'\n",
      " 'โทรศัพท์' 'ทำงาน' 'เวลา' 'เพื่อน' 'ต้องการ' 'ที่นี่' 'คำถาม' 'อันตราย'\n",
      " 'ช่วย' 'เขียน' 'เข้าใจ' 'อ่าน' 'รถ' 'ที่นี่' 'ที่นี่' 'วิ่ง' 'ที่นี่'\n",
      " 'ต้องการ' 'เพื่อน' 'เขียน' 'ฉัน' 'โทรศัพท์' 'ต้องการ' 'อ่าน' 'รถ' 'อ่าน'\n",
      " 'อ่าน' 'ที่นี่' 'อ่าน' 'วันนี้' 'เดิน' 'อ่าน' 'ดี' 'เข้าใจ' 'ฉัน'\n",
      " 'อันตราย' 'เขียน' 'รถ' 'วันนี้' 'อ่าน' 'เขียน' 'เขียน' 'เขียน' 'เพื่อน'\n",
      " 'น้ำ' 'ที่นี่' 'โทรศัพท์' 'ฉัน' 'โทรศัพท์' 'รถ' 'เวลา' 'ชอบ' 'เพื่อน'\n",
      " 'ที่นี่' 'ที่นี่' 'น้ำ' 'อันตราย' 'ช่วย' 'เขียน' 'ชอบ' 'ฉัน' 'รถ' 'ใหญ่'\n",
      " 'ฉัน' 'เพื่อน' 'nothing' 'อ่าน' 'nothing' 'อ่าน' 'อ่าน' 'nothing' 'ฉัน'\n",
      " 'เขียน']\n",
      "ฉัน ที่นี่\n",
      "คุณ ที่นั่น\n",
      "ขอบคุณ ขอบคุณ\n",
      "เรา nothing\n",
      "กิน อาหาร\n",
      "ดื่ม ต้องการ\n",
      "ไป พูด\n",
      "มา พรุ่งนี้\n",
      "ป่วย ป่วย\n",
      "ชอบ ชอบ\n",
      "ต้องการ ต้องการ\n",
      "มี มี\n",
      "ทำ รถ\n",
      "พูด กิน\n",
      "อ่าน วิ่ง\n",
      "เขียน เขียน\n",
      "นอน หนังสือ\n",
      "เล่น วันนี้\n",
      "เดิน เดิน\n",
      "วิ่ง วิ่ง\n",
      "ดี ดี\n",
      "ร้าย ร้าย\n",
      "ใหญ่ อาหาร\n",
      "เล็ก อาหาร\n",
      "ร้อน ร้อน\n",
      "หนาว หนาว\n",
      "วันนี้ วันนี้\n",
      "พรุ่งนี้ พรุ่งนี้\n",
      "เมื่อวาน มี\n",
      "บ้าน บ้าน\n",
      "โรงเรียน โรงเรียน\n",
      "เพื่อน เพื่อน\n",
      "น้ำ น้ำ\n",
      "อาหาร อาหาร\n",
      "กาแฟ กาแฟ\n",
      "หนังสือ อาหาร\n",
      "โทรศัพท์ โทรศัพท์\n",
      "รถ ทำงาน\n",
      "เวลา เวลา\n",
      "ตอนนี้ เพื่อน\n",
      "ทีหลัง ต้องการ\n",
      "ที่นี่ ที่นี่\n",
      "คำถาม คำถาม\n",
      "อันตราย อันตราย\n",
      "ช่วย ช่วย\n",
      "รอ เขียน\n",
      "เข้าใจ เข้าใจ\n",
      "เรียน อ่าน\n",
      "ทำงาน รถ\n",
      "ฉัน ที่นี่\n",
      "คุณ ที่นี่\n",
      "ขอบคุณ วิ่ง\n",
      "เรา ที่นี่\n",
      "ดื่ม ต้องการ\n",
      "ไป เพื่อน\n",
      "มา เขียน\n",
      "ป่วย ฉัน\n",
      "ชอบ โทรศัพท์\n",
      "ต้องการ ต้องการ\n",
      "มี อ่าน\n",
      "ทำ รถ\n",
      "พูด อ่าน\n",
      "อ่าน อ่าน\n",
      "เขียน ที่นี่\n",
      "นอน อ่าน\n",
      "เล่น วันนี้\n",
      "เดิน เดิน\n",
      "วิ่ง อ่าน\n",
      "ดี ดี\n",
      "ร้าย เข้าใจ\n",
      "ใหญ่ ฉัน\n",
      "เล็ก อันตราย\n",
      "ร้อน เขียน\n",
      "หนาว รถ\n",
      "วันนี้ วันนี้\n",
      "พรุ่งนี้ อ่าน\n",
      "เมื่อวาน เขียน\n",
      "บ้าน เขียน\n",
      "โรงเรียน เขียน\n",
      "เพื่อน เพื่อน\n",
      "น้ำ น้ำ\n",
      "อาหาร ที่นี่\n",
      "กาแฟ โทรศัพท์\n",
      "หนังสือ ฉัน\n",
      "โทรศัพท์ โทรศัพท์\n",
      "รถ รถ\n",
      "เวลา เวลา\n",
      "ตอนนี้ ชอบ\n",
      "ทีหลัง เพื่อน\n",
      "ที่นี่ ที่นี่\n",
      "ที่นั่น ที่นี่\n",
      "คำถาม น้ำ\n",
      "อันตราย อันตราย\n",
      "ช่วย ช่วย\n",
      "รอ เขียน\n",
      "เข้าใจ ชอบ\n",
      "เรียน ฉัน\n",
      "ทำงาน รถ\n",
      "nothing ใหญ่\n",
      "nothing ฉัน\n",
      "nothing เพื่อน\n",
      "nothing nothing\n",
      "nothing อ่าน\n",
      "nothing nothing\n",
      "nothing อ่าน\n",
      "nothing อ่าน\n",
      "nothing nothing\n",
      "nothing ฉัน\n",
      "nothing เขียน\n"
     ]
    }
   ],
   "source": [
    "print(len(y_pred))\n",
    "print(y_true)\n",
    "\n",
    "y_true = model_dict['label_encoder'].inverse_transform(y_true)\n",
    "y_pred = model_dict['label_encoder'].inverse_transform(y_pred)\n",
    "\n",
    "print(y_true)\n",
    "print(y_pred)\n",
    "\n",
    "# from sklearn.metrics import f1_score,recall_score,accuracy_score\n",
    "# f1_scores = f1_score(y_true,y_pred, average=\"micro\")\n",
    "# f1_scores\n",
    "for data in zip(y_true,y_pred):\n",
    "    print(f\"{data[0]} {data[1]}\")"
   ]
  },
  {
   "cell_type": "code",
   "execution_count": null,
   "id": "8615d6f5",
   "metadata": {},
   "outputs": [
    {
     "name": "stdout",
     "output_type": "stream",
     "text": [
      "f1 score     0.45871559633027525\n",
      "recal score  0.45871559633027525\n",
      "acc score    0.45871559633027525\n"
     ]
    }
   ],
   "source": []
  },
  {
   "cell_type": "code",
   "execution_count": 264,
   "id": "6215d68b",
   "metadata": {},
   "outputs": [
    {
     "name": "stdout",
     "output_type": "stream",
     "text": [
      "Original shape: torch.Size([2, 3, 4])\n",
      "Swapped axes shape: torch.Size([2, 4, 3])\n"
     ]
    }
   ],
   "source": [
    "import torch\n",
    "\n",
    "x = torch.randn(2, 3, 4) # Original shape (batch, channels, height)\n",
    "print(f\"Original shape: {x.shape}\")\n",
    "\n",
    "# Swap dimension 1 and dimension 2 using .swapaxes()\n",
    "y = x.swapaxes(1, 2)\n",
    "print(f\"Swapped axes shape: {y.shape}\")"
   ]
  },
  {
   "cell_type": "code",
   "execution_count": 45,
   "id": "c18e433a",
   "metadata": {},
   "outputs": [
    {
     "name": "stderr",
     "output_type": "stream",
     "text": [
      "C:\\Users\\Sumat\\AppData\\Local\\Temp\\ipykernel_12004\\4112676768.py:105: SettingWithCopyWarning: \n",
      "A value is trying to be set on a copy of a slice from a DataFrame.\n",
      "Try using .loc[row_indexer,col_indexer] = value instead\n",
      "\n",
      "See the caveats in the documentation: https://pandas.pydata.org/pandas-docs/stable/user_guide/indexing.html#returning-a-view-versus-a-copy\n",
      "  self._data_csv[\"Label\"] = label_encoder.fit_transform(self._data_csv[\"Label\"])\n"
     ]
    },
    {
     "name": "stdout",
     "output_type": "stream",
     "text": [
      "len(data):  201\n",
      "filter Value\n"
     ]
    },
    {
     "name": "stderr",
     "output_type": "stream",
     "text": [
      "100%|██████████| 201/201 [00:00<?, ?it/s]\n"
     ]
    },
    {
     "name": "stdout",
     "output_type": "stream",
     "text": [
      "pad&mean Value\n"
     ]
    },
    {
     "name": "stderr",
     "output_type": "stream",
     "text": [
      "100%|██████████| 120/120 [00:00<00:00, 945.92it/s]"
     ]
    },
    {
     "name": "stdout",
     "output_type": "stream",
     "text": [
      "['nothing' 'กาแฟ' 'กิน' 'ขอบคุณ' 'คำถาม' 'คุณ' 'ฉัน' 'ชอบ' 'ช่วย' 'ดี'\n",
      " 'ดื่ม' 'ตอนนี้' 'ต้องการ' 'ทำ' 'ทำงาน' 'ทีหลัง' 'ที่นั่น' 'ที่นี่' 'นอน'\n",
      " 'น้ำ' 'บ้าน' 'ป่วย' 'พรุ่งนี้' 'พูด' 'มา' 'มี' 'รถ' 'รอ' 'ร้อน' 'ร้าย'\n",
      " 'วันนี้' 'วิ่ง' 'หนังสือ' 'หนาว' 'อันตราย' 'อาหาร' 'อ่าน' 'เขียน'\n",
      " 'เข้าใจ' 'เดิน' 'เพื่อน' 'เมื่อวาน' 'เรา' 'เรียน' 'เล็ก' 'เล่น' 'เวลา'\n",
      " 'โทรศัพท์' 'โรงเรียน' 'ใหญ่' 'ไป']\n",
      "['nothing' 'กาแฟ' 'กิน' 'ขอบคุณ' 'คำถาม' 'คุณ' 'ฉัน' 'ชอบ' 'ช่วย' 'ดี'\n",
      " 'ดื่ม' 'ตอนนี้' 'ต้องการ' 'ทำ' 'ทำงาน' 'ทีหลัง' 'ที่นั่น' 'ที่นี่' 'นอน'\n",
      " 'น้ำ' 'บ้าน' 'ป่วย' 'พรุ่งนี้' 'พูด' 'มา' 'มี' 'รถ' 'รอ' 'ร้อน' 'ร้าย'\n",
      " 'วันนี้' 'วิ่ง' 'หนังสือ' 'หนาว' 'อันตราย' 'อาหาร' 'อ่าน' 'เขียน'\n",
      " 'เข้าใจ' 'เดิน' 'เพื่อน' 'เมื่อวาน' 'เรา' 'เรียน' 'เล็ก' 'เล่น' 'เวลา'\n",
      " 'โทรศัพท์' 'โรงเรียน' 'ใหญ่' 'ไป']\n"
     ]
    },
    {
     "name": "stderr",
     "output_type": "stream",
     "text": [
      "\n"
     ]
    }
   ],
   "source": [
    "test_df = pd.read_csv(r\"..\\meta_data\\indicator-20250727T060250Z-1-001\\indicator\\data\\20250715_111750_DATA_INDICATOR_sensor.csv\")\n",
    "# test_df  = test_df[test_df.columns[1:]]\n",
    "# df = pd.read_csv(r'..\\meta_data\\normal_train_data.csv')\n",
    "# train_data = CustomDataset(chunk=50,dataframe=df)\n",
    "with torch.serialization.safe_globals([LabelEncoder]):\n",
    "    # Load the model dictionary within the safe_globals context\n",
    "    model_dict = torch.load('timeseries_model.pth', weights_only=False)\n",
    "    \n",
    "test_dataset = CustomDataset(chunk=50,dataframe=test_df,isLabelEncoder=True,Label=model_dict['label_encoder'])\n",
    "nums, segment, input, train_data, label_encoder = test_dataset.data_info()\n",
    "print(label_encoder.classes_)\n",
    "print(model_dict['label_encoder']())"
   ]
  },
  {
   "cell_type": "code",
   "execution_count": 73,
   "id": "3adc79ee",
   "metadata": {},
   "outputs": [
    {
     "name": "stdout",
     "output_type": "stream",
     "text": [
      "2\n",
      "[tensor([ 6,  5,  3, 42,  2, 10, 50, 24, 21,  7, 12, 25, 13, 23, 36, 37, 18, 45,\n",
      "        39, 31,  9, 29, 49, 44, 28, 33, 30, 22, 41, 20, 48, 40, 19, 35,  1, 32,\n",
      "        47, 26, 46, 11, 15, 17,  4, 34,  8, 27, 38, 43, 14,  6,  5,  3, 42, 10,\n",
      "        50, 24, 21,  7, 12, 25, 13, 23, 36, 37], device='cuda:0'), tensor([18, 45, 39, 31,  9, 29, 49, 44, 28, 33, 30, 22, 41, 20, 48, 40, 19, 35,\n",
      "         1, 32, 47, 26, 46, 11, 15, 17, 16,  4, 34,  8, 27, 38, 43, 14,  0,  0,\n",
      "         0,  0,  0,  0,  0,  0,  0,  0,  0], device='cuda:0')]\n"
     ]
    },
    {
     "ename": "TypeError",
     "evalue": "can't convert cuda:0 device type tensor to numpy. Use Tensor.cpu() to copy the tensor to host memory first.",
     "output_type": "error",
     "traceback": [
      "\u001b[31m---------------------------------------------------------------------------\u001b[39m",
      "\u001b[31mTypeError\u001b[39m                                 Traceback (most recent call last)",
      "\u001b[36mCell\u001b[39m\u001b[36m \u001b[39m\u001b[32mIn[73]\u001b[39m\u001b[32m, line 4\u001b[39m\n\u001b[32m      1\u001b[39m \u001b[38;5;28mprint\u001b[39m(\u001b[38;5;28mlen\u001b[39m(y_pred))\n\u001b[32m      2\u001b[39m \u001b[38;5;28mprint\u001b[39m(y_true)\n\u001b[32m----> \u001b[39m\u001b[32m4\u001b[39m y_true = \u001b[43mmodel_dict\u001b[49m\u001b[43m[\u001b[49m\u001b[33;43m'\u001b[39;49m\u001b[33;43mlabel_encoder\u001b[39;49m\u001b[33;43m'\u001b[39;49m\u001b[43m]\u001b[49m\u001b[43m.\u001b[49m\u001b[43minverse_transform\u001b[49m\u001b[43m(\u001b[49m\u001b[43my_true\u001b[49m\u001b[43m)\u001b[49m\n\u001b[32m      5\u001b[39m y_pred = model_dict[\u001b[33m'\u001b[39m\u001b[33mlabel_encoder\u001b[39m\u001b[33m'\u001b[39m].inverse_transform(y_pred)\n\u001b[32m      7\u001b[39m \u001b[38;5;28mprint\u001b[39m(y_true)\n",
      "\u001b[36mFile \u001b[39m\u001b[32mc:\\SKB_co_Project\\Mocap\\git\\Sign_Language_Detection\\.venv\\Lib\\site-packages\\sklearn\\preprocessing\\_label.py:151\u001b[39m, in \u001b[36mLabelEncoder.inverse_transform\u001b[39m\u001b[34m(self, y)\u001b[39m\n\u001b[32m    149\u001b[39m check_is_fitted(\u001b[38;5;28mself\u001b[39m)\n\u001b[32m    150\u001b[39m xp, _ = get_namespace(y)\n\u001b[32m--> \u001b[39m\u001b[32m151\u001b[39m y = \u001b[43mcolumn_or_1d\u001b[49m\u001b[43m(\u001b[49m\u001b[43my\u001b[49m\u001b[43m,\u001b[49m\u001b[43m \u001b[49m\u001b[43mwarn\u001b[49m\u001b[43m=\u001b[49m\u001b[38;5;28;43;01mTrue\u001b[39;49;00m\u001b[43m)\u001b[49m\n\u001b[32m    152\u001b[39m \u001b[38;5;66;03m# inverse transform of empty array is empty array\u001b[39;00m\n\u001b[32m    153\u001b[39m \u001b[38;5;28;01mif\u001b[39;00m _num_samples(y) == \u001b[32m0\u001b[39m:\n",
      "\u001b[36mFile \u001b[39m\u001b[32mc:\\SKB_co_Project\\Mocap\\git\\Sign_Language_Detection\\.venv\\Lib\\site-packages\\sklearn\\utils\\validation.py:1454\u001b[39m, in \u001b[36mcolumn_or_1d\u001b[39m\u001b[34m(y, dtype, warn, device)\u001b[39m\n\u001b[32m   1416\u001b[39m \u001b[38;5;250m\u001b[39m\u001b[33;03m\"\"\"Ravel column or 1d numpy array, else raises an error.\u001b[39;00m\n\u001b[32m   1417\u001b[39m \n\u001b[32m   1418\u001b[39m \u001b[33;03mParameters\u001b[39;00m\n\u001b[32m   (...)\u001b[39m\u001b[32m   1451\u001b[39m \u001b[33;03marray([1, 1])\u001b[39;00m\n\u001b[32m   1452\u001b[39m \u001b[33;03m\"\"\"\u001b[39;00m\n\u001b[32m   1453\u001b[39m xp, _ = get_namespace(y)\n\u001b[32m-> \u001b[39m\u001b[32m1454\u001b[39m y = \u001b[43mcheck_array\u001b[49m\u001b[43m(\u001b[49m\n\u001b[32m   1455\u001b[39m \u001b[43m    \u001b[49m\u001b[43my\u001b[49m\u001b[43m,\u001b[49m\n\u001b[32m   1456\u001b[39m \u001b[43m    \u001b[49m\u001b[43mensure_2d\u001b[49m\u001b[43m=\u001b[49m\u001b[38;5;28;43;01mFalse\u001b[39;49;00m\u001b[43m,\u001b[49m\n\u001b[32m   1457\u001b[39m \u001b[43m    \u001b[49m\u001b[43mdtype\u001b[49m\u001b[43m=\u001b[49m\u001b[43mdtype\u001b[49m\u001b[43m,\u001b[49m\n\u001b[32m   1458\u001b[39m \u001b[43m    \u001b[49m\u001b[43minput_name\u001b[49m\u001b[43m=\u001b[49m\u001b[33;43m\"\u001b[39;49m\u001b[33;43my\u001b[39;49m\u001b[33;43m\"\u001b[39;49m\u001b[43m,\u001b[49m\n\u001b[32m   1459\u001b[39m \u001b[43m    \u001b[49m\u001b[43mensure_all_finite\u001b[49m\u001b[43m=\u001b[49m\u001b[38;5;28;43;01mFalse\u001b[39;49;00m\u001b[43m,\u001b[49m\n\u001b[32m   1460\u001b[39m \u001b[43m    \u001b[49m\u001b[43mensure_min_samples\u001b[49m\u001b[43m=\u001b[49m\u001b[32;43m0\u001b[39;49m\u001b[43m,\u001b[49m\n\u001b[32m   1461\u001b[39m \u001b[43m\u001b[49m\u001b[43m)\u001b[49m\n\u001b[32m   1463\u001b[39m shape = y.shape\n\u001b[32m   1464\u001b[39m \u001b[38;5;28;01mif\u001b[39;00m \u001b[38;5;28mlen\u001b[39m(shape) == \u001b[32m1\u001b[39m:\n",
      "\u001b[36mFile \u001b[39m\u001b[32mc:\\SKB_co_Project\\Mocap\\git\\Sign_Language_Detection\\.venv\\Lib\\site-packages\\sklearn\\utils\\validation.py:1053\u001b[39m, in \u001b[36mcheck_array\u001b[39m\u001b[34m(array, accept_sparse, accept_large_sparse, dtype, order, copy, force_writeable, force_all_finite, ensure_all_finite, ensure_non_negative, ensure_2d, allow_nd, ensure_min_samples, ensure_min_features, estimator, input_name)\u001b[39m\n\u001b[32m   1051\u001b[39m         array = xp.astype(array, dtype, copy=\u001b[38;5;28;01mFalse\u001b[39;00m)\n\u001b[32m   1052\u001b[39m     \u001b[38;5;28;01melse\u001b[39;00m:\n\u001b[32m-> \u001b[39m\u001b[32m1053\u001b[39m         array = \u001b[43m_asarray_with_order\u001b[49m\u001b[43m(\u001b[49m\u001b[43marray\u001b[49m\u001b[43m,\u001b[49m\u001b[43m \u001b[49m\u001b[43morder\u001b[49m\u001b[43m=\u001b[49m\u001b[43morder\u001b[49m\u001b[43m,\u001b[49m\u001b[43m \u001b[49m\u001b[43mdtype\u001b[49m\u001b[43m=\u001b[49m\u001b[43mdtype\u001b[49m\u001b[43m,\u001b[49m\u001b[43m \u001b[49m\u001b[43mxp\u001b[49m\u001b[43m=\u001b[49m\u001b[43mxp\u001b[49m\u001b[43m)\u001b[49m\n\u001b[32m   1054\u001b[39m \u001b[38;5;28;01mexcept\u001b[39;00m ComplexWarning \u001b[38;5;28;01mas\u001b[39;00m complex_warning:\n\u001b[32m   1055\u001b[39m     \u001b[38;5;28;01mraise\u001b[39;00m \u001b[38;5;167;01mValueError\u001b[39;00m(\n\u001b[32m   1056\u001b[39m         \u001b[33m\"\u001b[39m\u001b[33mComplex data not supported\u001b[39m\u001b[38;5;130;01m\\n\u001b[39;00m\u001b[38;5;132;01m{}\u001b[39;00m\u001b[38;5;130;01m\\n\u001b[39;00m\u001b[33m\"\u001b[39m.format(array)\n\u001b[32m   1057\u001b[39m     ) \u001b[38;5;28;01mfrom\u001b[39;00m\u001b[38;5;250m \u001b[39m\u001b[34;01mcomplex_warning\u001b[39;00m\n",
      "\u001b[36mFile \u001b[39m\u001b[32mc:\\SKB_co_Project\\Mocap\\git\\Sign_Language_Detection\\.venv\\Lib\\site-packages\\sklearn\\utils\\_array_api.py:757\u001b[39m, in \u001b[36m_asarray_with_order\u001b[39m\u001b[34m(array, dtype, order, copy, xp, device)\u001b[39m\n\u001b[32m    755\u001b[39m     array = numpy.array(array, order=order, dtype=dtype)\n\u001b[32m    756\u001b[39m \u001b[38;5;28;01melse\u001b[39;00m:\n\u001b[32m--> \u001b[39m\u001b[32m757\u001b[39m     array = \u001b[43mnumpy\u001b[49m\u001b[43m.\u001b[49m\u001b[43masarray\u001b[49m\u001b[43m(\u001b[49m\u001b[43marray\u001b[49m\u001b[43m,\u001b[49m\u001b[43m \u001b[49m\u001b[43morder\u001b[49m\u001b[43m=\u001b[49m\u001b[43morder\u001b[49m\u001b[43m,\u001b[49m\u001b[43m \u001b[49m\u001b[43mdtype\u001b[49m\u001b[43m=\u001b[49m\u001b[43mdtype\u001b[49m\u001b[43m)\u001b[49m\n\u001b[32m    759\u001b[39m \u001b[38;5;66;03m# At this point array is a NumPy ndarray. We convert it to an array\u001b[39;00m\n\u001b[32m    760\u001b[39m \u001b[38;5;66;03m# container that is consistent with the input's namespace.\u001b[39;00m\n\u001b[32m    761\u001b[39m \u001b[38;5;28;01mreturn\u001b[39;00m xp.asarray(array)\n",
      "\u001b[36mFile \u001b[39m\u001b[32mc:\\SKB_co_Project\\Mocap\\git\\Sign_Language_Detection\\.venv\\Lib\\site-packages\\torch\\_tensor.py:1225\u001b[39m, in \u001b[36mTensor.__array__\u001b[39m\u001b[34m(self, dtype)\u001b[39m\n\u001b[32m   1223\u001b[39m     \u001b[38;5;28;01mreturn\u001b[39;00m handle_torch_function(Tensor.__array__, (\u001b[38;5;28mself\u001b[39m,), \u001b[38;5;28mself\u001b[39m, dtype=dtype)\n\u001b[32m   1224\u001b[39m \u001b[38;5;28;01mif\u001b[39;00m dtype \u001b[38;5;129;01mis\u001b[39;00m \u001b[38;5;28;01mNone\u001b[39;00m:\n\u001b[32m-> \u001b[39m\u001b[32m1225\u001b[39m     \u001b[38;5;28;01mreturn\u001b[39;00m \u001b[38;5;28;43mself\u001b[39;49m\u001b[43m.\u001b[49m\u001b[43mnumpy\u001b[49m\u001b[43m(\u001b[49m\u001b[43m)\u001b[49m\n\u001b[32m   1226\u001b[39m \u001b[38;5;28;01melse\u001b[39;00m:\n\u001b[32m   1227\u001b[39m     \u001b[38;5;28;01mreturn\u001b[39;00m \u001b[38;5;28mself\u001b[39m.numpy().astype(dtype, copy=\u001b[38;5;28;01mFalse\u001b[39;00m)\n",
      "\u001b[31mTypeError\u001b[39m: can't convert cuda:0 device type tensor to numpy. Use Tensor.cpu() to copy the tensor to host memory first."
     ]
    }
   ],
   "source": [
    "print(len(y_pred))\n",
    "print(y_true)\n",
    "\n",
    "y_true = model_dict['label_encoder'].inverse_transform(y_true)\n",
    "y_pred = model_dict['label_encoder'].inverse_transform(y_pred)\n",
    "\n",
    "print(y_true)\n",
    "print(y_pred)\n",
    "\n",
    "# from sklearn.metrics import f1_score,recall_score,accuracy_score\n",
    "# f1_scores = f1_score(y_true,y_pred, average=\"micro\")\n",
    "# f1_scores\n",
    "for data in zip(y_true,y_pred):\n",
    "    print(f\"{data[0]} {data[1]}\")"
   ]
  },
  {
   "cell_type": "code",
   "execution_count": 231,
   "id": "b862f899",
   "metadata": {},
   "outputs": [
    {
     "data": {
      "text/plain": [
       "[tensor([ 6,  5,  3, 42,  2, 10, 50, 24, 21,  7, 12, 25, 13, 23, 36, 37, 18, 45,\n",
       "         39, 31,  9, 29, 49, 44, 28, 33, 30, 22, 41, 20, 48, 40, 19, 35,  1, 32,\n",
       "         47, 26, 46, 11, 15, 17,  4, 34,  8, 27, 38, 43, 14,  6,  5,  3, 42, 10,\n",
       "         50, 24, 21,  7, 12, 25, 13, 23, 36, 37]),\n",
       " tensor([18, 45, 39, 31,  9, 29, 49, 44, 28, 33, 30, 22, 41, 20, 48, 40, 19, 35,\n",
       "          1, 32, 47, 26, 46, 11, 15, 17, 16,  4, 34,  8, 27, 38, 43, 14,  0,  0,\n",
       "          0,  0,  0,  0,  0,  0,  0,  0,  0])]"
      ]
     },
     "execution_count": 231,
     "metadata": {},
     "output_type": "execute_result"
    }
   ],
   "source": [
    "y_true_list"
   ]
  },
  {
   "cell_type": "code",
   "execution_count": 232,
   "id": "7028ed1d",
   "metadata": {},
   "outputs": [
    {
     "data": {
      "text/plain": [
       "[tensor([105, 105,  13,  13,   6,   6,  13,  13,   6,  89, 105,  13,  24,  24,\n",
       "         105, 105,  24, 105, 105, 105, 105, 105,  24,  24,  24,  24,  32,  24,\n",
       "          24,  24, 105,  32,  96,  24,  24,  24, 105,  24,  32, 105, 105, 105,\n",
       "         105,  32, 105, 105, 105, 105,  32, 105, 105, 105, 105, 105, 105, 105,\n",
       "         105, 105, 105, 105,  32, 105, 105, 105]),\n",
       " tensor([105, 105, 105, 105,  59, 105, 105, 105, 105,  32,  32,  32,  32, 105,\n",
       "         105,  32,  65, 105,  32, 105, 105,  48,  32, 105, 105, 105,  48,  48,\n",
       "          32, 105, 105, 105, 105,  48, 105, 105, 105, 105, 105, 105, 105, 105,\n",
       "         105, 105, 105])]"
      ]
     },
     "execution_count": 232,
     "metadata": {},
     "output_type": "execute_result"
    }
   ],
   "source": [
    "y_pred_list"
   ]
  },
  {
   "cell_type": "code",
   "execution_count": 230,
   "id": "c4bc06af",
   "metadata": {},
   "outputs": [
    {
     "ename": "ValueError",
     "evalue": "unknown is not supported",
     "output_type": "error",
     "traceback": [
      "\u001b[31m---------------------------------------------------------------------------\u001b[39m",
      "\u001b[31mValueError\u001b[39m                                Traceback (most recent call last)",
      "\u001b[36mCell\u001b[39m\u001b[36m \u001b[39m\u001b[32mIn[230]\u001b[39m\u001b[32m, line 2\u001b[39m\n\u001b[32m      1\u001b[39m \u001b[38;5;28;01mfrom\u001b[39;00m\u001b[38;5;250m \u001b[39m\u001b[34;01msklearn\u001b[39;00m\u001b[34;01m.\u001b[39;00m\u001b[34;01mmetrics\u001b[39;00m\u001b[38;5;250m \u001b[39m\u001b[38;5;28;01mimport\u001b[39;00m f1_score,recall_score,accuracy_score\n\u001b[32m----> \u001b[39m\u001b[32m2\u001b[39m f1_scores = \u001b[43mf1_score\u001b[49m\u001b[43m(\u001b[49m\u001b[43my_true_list\u001b[49m\u001b[43m,\u001b[49m\u001b[43my_pred_list\u001b[49m\u001b[43m,\u001b[49m\u001b[43m \u001b[49m\u001b[43maverage\u001b[49m\u001b[43m=\u001b[49m\u001b[33;43m\"\u001b[39;49m\u001b[33;43mmicro\u001b[39;49m\u001b[33;43m\"\u001b[39;49m\u001b[43m)\u001b[49m\n\u001b[32m      3\u001b[39m \u001b[38;5;28mprint\u001b[39m(\u001b[33m\"\u001b[39m\u001b[33mf1 score    \u001b[39m\u001b[33m\"\u001b[39m,f1_scores)\n\u001b[32m      4\u001b[39m recall_scores = recall_score(y_true_list, y_pred_list, average=\u001b[33m\"\u001b[39m\u001b[33mmicro\u001b[39m\u001b[33m\"\u001b[39m)\n",
      "\u001b[36mFile \u001b[39m\u001b[32mc:\\SKB_co_Project\\Mocap\\git\\Sign_Language_Detection\\.venv\\Lib\\site-packages\\sklearn\\utils\\_param_validation.py:218\u001b[39m, in \u001b[36mvalidate_params.<locals>.decorator.<locals>.wrapper\u001b[39m\u001b[34m(*args, **kwargs)\u001b[39m\n\u001b[32m    212\u001b[39m \u001b[38;5;28;01mtry\u001b[39;00m:\n\u001b[32m    213\u001b[39m     \u001b[38;5;28;01mwith\u001b[39;00m config_context(\n\u001b[32m    214\u001b[39m         skip_parameter_validation=(\n\u001b[32m    215\u001b[39m             prefer_skip_nested_validation \u001b[38;5;129;01mor\u001b[39;00m global_skip_validation\n\u001b[32m    216\u001b[39m         )\n\u001b[32m    217\u001b[39m     ):\n\u001b[32m--> \u001b[39m\u001b[32m218\u001b[39m         \u001b[38;5;28;01mreturn\u001b[39;00m \u001b[43mfunc\u001b[49m\u001b[43m(\u001b[49m\u001b[43m*\u001b[49m\u001b[43margs\u001b[49m\u001b[43m,\u001b[49m\u001b[43m \u001b[49m\u001b[43m*\u001b[49m\u001b[43m*\u001b[49m\u001b[43mkwargs\u001b[49m\u001b[43m)\u001b[49m\n\u001b[32m    219\u001b[39m \u001b[38;5;28;01mexcept\u001b[39;00m InvalidParameterError \u001b[38;5;28;01mas\u001b[39;00m e:\n\u001b[32m    220\u001b[39m     \u001b[38;5;66;03m# When the function is just a wrapper around an estimator, we allow\u001b[39;00m\n\u001b[32m    221\u001b[39m     \u001b[38;5;66;03m# the function to delegate validation to the estimator, but we replace\u001b[39;00m\n\u001b[32m    222\u001b[39m     \u001b[38;5;66;03m# the name of the estimator by the name of the function in the error\u001b[39;00m\n\u001b[32m    223\u001b[39m     \u001b[38;5;66;03m# message to avoid confusion.\u001b[39;00m\n\u001b[32m    224\u001b[39m     msg = re.sub(\n\u001b[32m    225\u001b[39m         \u001b[33mr\u001b[39m\u001b[33m\"\u001b[39m\u001b[33mparameter of \u001b[39m\u001b[33m\\\u001b[39m\u001b[33mw+ must be\u001b[39m\u001b[33m\"\u001b[39m,\n\u001b[32m    226\u001b[39m         \u001b[33mf\u001b[39m\u001b[33m\"\u001b[39m\u001b[33mparameter of \u001b[39m\u001b[38;5;132;01m{\u001b[39;00mfunc.\u001b[34m__qualname__\u001b[39m\u001b[38;5;132;01m}\u001b[39;00m\u001b[33m must be\u001b[39m\u001b[33m\"\u001b[39m,\n\u001b[32m    227\u001b[39m         \u001b[38;5;28mstr\u001b[39m(e),\n\u001b[32m    228\u001b[39m     )\n",
      "\u001b[36mFile \u001b[39m\u001b[32mc:\\SKB_co_Project\\Mocap\\git\\Sign_Language_Detection\\.venv\\Lib\\site-packages\\sklearn\\metrics\\_classification.py:1465\u001b[39m, in \u001b[36mf1_score\u001b[39m\u001b[34m(y_true, y_pred, labels, pos_label, average, sample_weight, zero_division)\u001b[39m\n\u001b[32m   1285\u001b[39m \u001b[38;5;129m@validate_params\u001b[39m(\n\u001b[32m   1286\u001b[39m     {\n\u001b[32m   1287\u001b[39m         \u001b[33m\"\u001b[39m\u001b[33my_true\u001b[39m\u001b[33m\"\u001b[39m: [\u001b[33m\"\u001b[39m\u001b[33marray-like\u001b[39m\u001b[33m\"\u001b[39m, \u001b[33m\"\u001b[39m\u001b[33msparse matrix\u001b[39m\u001b[33m\"\u001b[39m],\n\u001b[32m   (...)\u001b[39m\u001b[32m   1312\u001b[39m     zero_division=\u001b[33m\"\u001b[39m\u001b[33mwarn\u001b[39m\u001b[33m\"\u001b[39m,\n\u001b[32m   1313\u001b[39m ):\n\u001b[32m   1314\u001b[39m \u001b[38;5;250m    \u001b[39m\u001b[33;03m\"\"\"Compute the F1 score, also known as balanced F-score or F-measure.\u001b[39;00m\n\u001b[32m   1315\u001b[39m \n\u001b[32m   1316\u001b[39m \u001b[33;03m    The F1 score can be interpreted as a harmonic mean of the precision and\u001b[39;00m\n\u001b[32m   (...)\u001b[39m\u001b[32m   1463\u001b[39m \u001b[33;03m    array([0.66666667, 1.        , 0.66666667])\u001b[39;00m\n\u001b[32m   1464\u001b[39m \u001b[33;03m    \"\"\"\u001b[39;00m\n\u001b[32m-> \u001b[39m\u001b[32m1465\u001b[39m     \u001b[38;5;28;01mreturn\u001b[39;00m \u001b[43mfbeta_score\u001b[49m\u001b[43m(\u001b[49m\n\u001b[32m   1466\u001b[39m \u001b[43m        \u001b[49m\u001b[43my_true\u001b[49m\u001b[43m,\u001b[49m\n\u001b[32m   1467\u001b[39m \u001b[43m        \u001b[49m\u001b[43my_pred\u001b[49m\u001b[43m,\u001b[49m\n\u001b[32m   1468\u001b[39m \u001b[43m        \u001b[49m\u001b[43mbeta\u001b[49m\u001b[43m=\u001b[49m\u001b[32;43m1\u001b[39;49m\u001b[43m,\u001b[49m\n\u001b[32m   1469\u001b[39m \u001b[43m        \u001b[49m\u001b[43mlabels\u001b[49m\u001b[43m=\u001b[49m\u001b[43mlabels\u001b[49m\u001b[43m,\u001b[49m\n\u001b[32m   1470\u001b[39m \u001b[43m        \u001b[49m\u001b[43mpos_label\u001b[49m\u001b[43m=\u001b[49m\u001b[43mpos_label\u001b[49m\u001b[43m,\u001b[49m\n\u001b[32m   1471\u001b[39m \u001b[43m        \u001b[49m\u001b[43maverage\u001b[49m\u001b[43m=\u001b[49m\u001b[43maverage\u001b[49m\u001b[43m,\u001b[49m\n\u001b[32m   1472\u001b[39m \u001b[43m        \u001b[49m\u001b[43msample_weight\u001b[49m\u001b[43m=\u001b[49m\u001b[43msample_weight\u001b[49m\u001b[43m,\u001b[49m\n\u001b[32m   1473\u001b[39m \u001b[43m        \u001b[49m\u001b[43mzero_division\u001b[49m\u001b[43m=\u001b[49m\u001b[43mzero_division\u001b[49m\u001b[43m,\u001b[49m\n\u001b[32m   1474\u001b[39m \u001b[43m    \u001b[49m\u001b[43m)\u001b[49m\n",
      "\u001b[36mFile \u001b[39m\u001b[32mc:\\SKB_co_Project\\Mocap\\git\\Sign_Language_Detection\\.venv\\Lib\\site-packages\\sklearn\\utils\\_param_validation.py:191\u001b[39m, in \u001b[36mvalidate_params.<locals>.decorator.<locals>.wrapper\u001b[39m\u001b[34m(*args, **kwargs)\u001b[39m\n\u001b[32m    189\u001b[39m global_skip_validation = get_config()[\u001b[33m\"\u001b[39m\u001b[33mskip_parameter_validation\u001b[39m\u001b[33m\"\u001b[39m]\n\u001b[32m    190\u001b[39m \u001b[38;5;28;01mif\u001b[39;00m global_skip_validation:\n\u001b[32m--> \u001b[39m\u001b[32m191\u001b[39m     \u001b[38;5;28;01mreturn\u001b[39;00m \u001b[43mfunc\u001b[49m\u001b[43m(\u001b[49m\u001b[43m*\u001b[49m\u001b[43margs\u001b[49m\u001b[43m,\u001b[49m\u001b[43m \u001b[49m\u001b[43m*\u001b[49m\u001b[43m*\u001b[49m\u001b[43mkwargs\u001b[49m\u001b[43m)\u001b[49m\n\u001b[32m    193\u001b[39m func_sig = signature(func)\n\u001b[32m    195\u001b[39m \u001b[38;5;66;03m# Map *args/**kwargs to the function signature\u001b[39;00m\n",
      "\u001b[36mFile \u001b[39m\u001b[32mc:\\SKB_co_Project\\Mocap\\git\\Sign_Language_Detection\\.venv\\Lib\\site-packages\\sklearn\\metrics\\_classification.py:1683\u001b[39m, in \u001b[36mfbeta_score\u001b[39m\u001b[34m(y_true, y_pred, beta, labels, pos_label, average, sample_weight, zero_division)\u001b[39m\n\u001b[32m   1477\u001b[39m \u001b[38;5;129m@validate_params\u001b[39m(\n\u001b[32m   1478\u001b[39m     {\n\u001b[32m   1479\u001b[39m         \u001b[33m\"\u001b[39m\u001b[33my_true\u001b[39m\u001b[33m\"\u001b[39m: [\u001b[33m\"\u001b[39m\u001b[33marray-like\u001b[39m\u001b[33m\"\u001b[39m, \u001b[33m\"\u001b[39m\u001b[33msparse matrix\u001b[39m\u001b[33m\"\u001b[39m],\n\u001b[32m   (...)\u001b[39m\u001b[32m   1506\u001b[39m     zero_division=\u001b[33m\"\u001b[39m\u001b[33mwarn\u001b[39m\u001b[33m\"\u001b[39m,\n\u001b[32m   1507\u001b[39m ):\n\u001b[32m   1508\u001b[39m \u001b[38;5;250m    \u001b[39m\u001b[33;03m\"\"\"Compute the F-beta score.\u001b[39;00m\n\u001b[32m   1509\u001b[39m \n\u001b[32m   1510\u001b[39m \u001b[33;03m    The F-beta score is the weighted harmonic mean of precision and recall,\u001b[39;00m\n\u001b[32m   (...)\u001b[39m\u001b[32m   1680\u001b[39m \u001b[33;03m    ... )\u001b[39;00m\n\u001b[32m   1681\u001b[39m \u001b[33;03m    \"\"\"\u001b[39;00m\n\u001b[32m-> \u001b[39m\u001b[32m1683\u001b[39m     _, _, f, _ = \u001b[43mprecision_recall_fscore_support\u001b[49m\u001b[43m(\u001b[49m\n\u001b[32m   1684\u001b[39m \u001b[43m        \u001b[49m\u001b[43my_true\u001b[49m\u001b[43m,\u001b[49m\n\u001b[32m   1685\u001b[39m \u001b[43m        \u001b[49m\u001b[43my_pred\u001b[49m\u001b[43m,\u001b[49m\n\u001b[32m   1686\u001b[39m \u001b[43m        \u001b[49m\u001b[43mbeta\u001b[49m\u001b[43m=\u001b[49m\u001b[43mbeta\u001b[49m\u001b[43m,\u001b[49m\n\u001b[32m   1687\u001b[39m \u001b[43m        \u001b[49m\u001b[43mlabels\u001b[49m\u001b[43m=\u001b[49m\u001b[43mlabels\u001b[49m\u001b[43m,\u001b[49m\n\u001b[32m   1688\u001b[39m \u001b[43m        \u001b[49m\u001b[43mpos_label\u001b[49m\u001b[43m=\u001b[49m\u001b[43mpos_label\u001b[49m\u001b[43m,\u001b[49m\n\u001b[32m   1689\u001b[39m \u001b[43m        \u001b[49m\u001b[43maverage\u001b[49m\u001b[43m=\u001b[49m\u001b[43maverage\u001b[49m\u001b[43m,\u001b[49m\n\u001b[32m   1690\u001b[39m \u001b[43m        \u001b[49m\u001b[43mwarn_for\u001b[49m\u001b[43m=\u001b[49m\u001b[43m(\u001b[49m\u001b[33;43m\"\u001b[39;49m\u001b[33;43mf-score\u001b[39;49m\u001b[33;43m\"\u001b[39;49m\u001b[43m,\u001b[49m\u001b[43m)\u001b[49m\u001b[43m,\u001b[49m\n\u001b[32m   1691\u001b[39m \u001b[43m        \u001b[49m\u001b[43msample_weight\u001b[49m\u001b[43m=\u001b[49m\u001b[43msample_weight\u001b[49m\u001b[43m,\u001b[49m\n\u001b[32m   1692\u001b[39m \u001b[43m        \u001b[49m\u001b[43mzero_division\u001b[49m\u001b[43m=\u001b[49m\u001b[43mzero_division\u001b[49m\u001b[43m,\u001b[49m\n\u001b[32m   1693\u001b[39m \u001b[43m    \u001b[49m\u001b[43m)\u001b[49m\n\u001b[32m   1694\u001b[39m     \u001b[38;5;28;01mreturn\u001b[39;00m f\n",
      "\u001b[36mFile \u001b[39m\u001b[32mc:\\SKB_co_Project\\Mocap\\git\\Sign_Language_Detection\\.venv\\Lib\\site-packages\\sklearn\\utils\\_param_validation.py:191\u001b[39m, in \u001b[36mvalidate_params.<locals>.decorator.<locals>.wrapper\u001b[39m\u001b[34m(*args, **kwargs)\u001b[39m\n\u001b[32m    189\u001b[39m global_skip_validation = get_config()[\u001b[33m\"\u001b[39m\u001b[33mskip_parameter_validation\u001b[39m\u001b[33m\"\u001b[39m]\n\u001b[32m    190\u001b[39m \u001b[38;5;28;01mif\u001b[39;00m global_skip_validation:\n\u001b[32m--> \u001b[39m\u001b[32m191\u001b[39m     \u001b[38;5;28;01mreturn\u001b[39;00m \u001b[43mfunc\u001b[49m\u001b[43m(\u001b[49m\u001b[43m*\u001b[49m\u001b[43margs\u001b[49m\u001b[43m,\u001b[49m\u001b[43m \u001b[49m\u001b[43m*\u001b[49m\u001b[43m*\u001b[49m\u001b[43mkwargs\u001b[49m\u001b[43m)\u001b[49m\n\u001b[32m    193\u001b[39m func_sig = signature(func)\n\u001b[32m    195\u001b[39m \u001b[38;5;66;03m# Map *args/**kwargs to the function signature\u001b[39;00m\n",
      "\u001b[36mFile \u001b[39m\u001b[32mc:\\SKB_co_Project\\Mocap\\git\\Sign_Language_Detection\\.venv\\Lib\\site-packages\\sklearn\\metrics\\_classification.py:1996\u001b[39m, in \u001b[36mprecision_recall_fscore_support\u001b[39m\u001b[34m(y_true, y_pred, beta, labels, pos_label, average, warn_for, sample_weight, zero_division)\u001b[39m\n\u001b[32m   1827\u001b[39m \u001b[38;5;250m\u001b[39m\u001b[33;03m\"\"\"Compute precision, recall, F-measure and support for each class.\u001b[39;00m\n\u001b[32m   1828\u001b[39m \n\u001b[32m   1829\u001b[39m \u001b[33;03mThe precision is the ratio ``tp / (tp + fp)`` where ``tp`` is the number of\u001b[39;00m\n\u001b[32m   (...)\u001b[39m\u001b[32m   1993\u001b[39m \u001b[33;03m array([2, 2, 2]))\u001b[39;00m\n\u001b[32m   1994\u001b[39m \u001b[33;03m\"\"\"\u001b[39;00m\n\u001b[32m   1995\u001b[39m _check_zero_division(zero_division)\n\u001b[32m-> \u001b[39m\u001b[32m1996\u001b[39m labels = \u001b[43m_check_set_wise_labels\u001b[49m\u001b[43m(\u001b[49m\u001b[43my_true\u001b[49m\u001b[43m,\u001b[49m\u001b[43m \u001b[49m\u001b[43my_pred\u001b[49m\u001b[43m,\u001b[49m\u001b[43m \u001b[49m\u001b[43maverage\u001b[49m\u001b[43m,\u001b[49m\u001b[43m \u001b[49m\u001b[43mlabels\u001b[49m\u001b[43m,\u001b[49m\u001b[43m \u001b[49m\u001b[43mpos_label\u001b[49m\u001b[43m)\u001b[49m\n\u001b[32m   1998\u001b[39m \u001b[38;5;66;03m# Calculate tp_sum, pred_sum, true_sum ###\u001b[39;00m\n\u001b[32m   1999\u001b[39m samplewise = average == \u001b[33m\"\u001b[39m\u001b[33msamples\u001b[39m\u001b[33m\"\u001b[39m\n",
      "\u001b[36mFile \u001b[39m\u001b[32mc:\\SKB_co_Project\\Mocap\\git\\Sign_Language_Detection\\.venv\\Lib\\site-packages\\sklearn\\metrics\\_classification.py:1762\u001b[39m, in \u001b[36m_check_set_wise_labels\u001b[39m\u001b[34m(y_true, y_pred, average, labels, pos_label)\u001b[39m\n\u001b[32m   1759\u001b[39m     \u001b[38;5;28;01mraise\u001b[39;00m \u001b[38;5;167;01mValueError\u001b[39;00m(\u001b[33m\"\u001b[39m\u001b[33maverage has to be one of \u001b[39m\u001b[33m\"\u001b[39m + \u001b[38;5;28mstr\u001b[39m(average_options))\n\u001b[32m   1761\u001b[39m y_true, y_pred = attach_unique(y_true, y_pred)\n\u001b[32m-> \u001b[39m\u001b[32m1762\u001b[39m y_type, y_true, y_pred = \u001b[43m_check_targets\u001b[49m\u001b[43m(\u001b[49m\u001b[43my_true\u001b[49m\u001b[43m,\u001b[49m\u001b[43m \u001b[49m\u001b[43my_pred\u001b[49m\u001b[43m)\u001b[49m\n\u001b[32m   1763\u001b[39m \u001b[38;5;66;03m# Convert to Python primitive type to avoid NumPy type / Python str\u001b[39;00m\n\u001b[32m   1764\u001b[39m \u001b[38;5;66;03m# comparison. See https://github.com/numpy/numpy/issues/6784\u001b[39;00m\n\u001b[32m   1765\u001b[39m present_labels = _tolist(unique_labels(y_true, y_pred))\n",
      "\u001b[36mFile \u001b[39m\u001b[32mc:\\SKB_co_Project\\Mocap\\git\\Sign_Language_Detection\\.venv\\Lib\\site-packages\\sklearn\\metrics\\_classification.py:117\u001b[39m, in \u001b[36m_check_targets\u001b[39m\u001b[34m(y_true, y_pred)\u001b[39m\n\u001b[32m    115\u001b[39m \u001b[38;5;66;03m# No metrics support \"multiclass-multioutput\" format\u001b[39;00m\n\u001b[32m    116\u001b[39m \u001b[38;5;28;01mif\u001b[39;00m y_type \u001b[38;5;129;01mnot\u001b[39;00m \u001b[38;5;129;01min\u001b[39;00m [\u001b[33m\"\u001b[39m\u001b[33mbinary\u001b[39m\u001b[33m\"\u001b[39m, \u001b[33m\"\u001b[39m\u001b[33mmulticlass\u001b[39m\u001b[33m\"\u001b[39m, \u001b[33m\"\u001b[39m\u001b[33mmultilabel-indicator\u001b[39m\u001b[33m\"\u001b[39m]:\n\u001b[32m--> \u001b[39m\u001b[32m117\u001b[39m     \u001b[38;5;28;01mraise\u001b[39;00m \u001b[38;5;167;01mValueError\u001b[39;00m(\u001b[33m\"\u001b[39m\u001b[38;5;132;01m{0}\u001b[39;00m\u001b[33m is not supported\u001b[39m\u001b[33m\"\u001b[39m.format(y_type))\n\u001b[32m    119\u001b[39m \u001b[38;5;28;01mif\u001b[39;00m y_type \u001b[38;5;129;01min\u001b[39;00m [\u001b[33m\"\u001b[39m\u001b[33mbinary\u001b[39m\u001b[33m\"\u001b[39m, \u001b[33m\"\u001b[39m\u001b[33mmulticlass\u001b[39m\u001b[33m\"\u001b[39m]:\n\u001b[32m    120\u001b[39m     xp, _ = get_namespace(y_true, y_pred)\n",
      "\u001b[31mValueError\u001b[39m: unknown is not supported"
     ]
    }
   ],
   "source": [
    "from sklearn.metrics import f1_score,recall_score,accuracy_score\n",
    "f1_scores = f1_score(y_true_list,y_pred_list, average=\"micro\")\n",
    "print(\"f1 score    \",f1_scores)\n",
    "recall_scores = recall_score(y_true_list, y_pred_list, average=\"micro\")\n",
    "print(\"recal score \",recall_scores)\n",
    "acc = accuracy_score(y_true_list, y_pred_list)\n",
    "print(\"acc score   \",acc)"
   ]
  },
  {
   "cell_type": "code",
   "execution_count": 222,
   "id": "bcf8008e",
   "metadata": {},
   "outputs": [
    {
     "name": "stdout",
     "output_type": "stream",
     "text": [
      "tensor([[0., 0., 0., 0., 0., 0., 1., 0., 0., 0., 0., 0., 0., 0., 0., 0., 0., 0.,\n",
      "         0., 0., 0., 0., 0., 0., 0., 0., 0., 0., 0., 0., 0., 0., 0., 0., 0., 0.,\n",
      "         0., 0., 0., 0., 0., 0., 0., 0., 0., 0., 0., 0., 0., 0., 0.]],\n",
      "       device='cuda:0')\n",
      "tensor([[0.3367, 0.9411, 0.8888, 0.3454, 0.5158, 0.9573, 0.9608, 0.8919, 0.7389,\n",
      "         0.6599, 0.7078, 0.2992, 0.9474, 0.5658, 0.8094, 0.8323, 0.9687, 0.9327,\n",
      "         0.9115, 0.2239, 0.9097, 0.2966, 0.2925, 0.2931, 0.1308, 0.9230, 0.3189,\n",
      "         0.7540, 0.7673, 0.9137, 0.8934, 0.8894, 0.9432, 0.9270, 0.8860, 0.9671,\n",
      "         0.5715, 0.8207, 0.7843, 0.8838, 0.7153, 0.9151, 0.9441, 0.8628, 0.9480,\n",
      "         0.5602, 0.3740, 0.5679, 0.9582, 0.9738, 0.9535, 0.7767, 0.7901, 0.8256,\n",
      "         0.5163, 0.8924, 0.4001, 0.6706, 0.9109, 0.6833, 0.7480, 0.1864, 0.7870,\n",
      "         0.4934, 0.3942, 0.8843, 0.9447, 0.6757, 0.7503, 0.3813, 0.8291, 0.3707,\n",
      "         0.4904, 0.5892, 0.9411, 0.2511, 0.6290, 0.7926, 0.8104, 0.6263, 0.8114,\n",
      "         0.6132, 0.4288, 0.8104, 0.9010, 0.3697, 0.6343, 0.8229, 0.8475, 0.9923,\n",
      "         0.8284, 0.6430, 0.3544, 0.9107, 0.8028, 0.7687, 0.8219, 0.8887, 0.9692,\n",
      "         0.3867, 0.9426, 0.9341, 0.3166, 0.5671, 0.9848, 0.9912, 0.8697, 0.8665,\n",
      "         0.8898, 0.6974, 0.7513, 0.8622, 0.3471, 0.7824, 0.8331, 0.8348, 0.7446,\n",
      "         0.2533, 0.8233, 0.3086, 0.8887, 0.3655, 0.3921, 0.2759, 0.9062, 0.4294,\n",
      "         0.2104, 0.8881]], device='cuda:0')\n"
     ]
    }
   ],
   "source": [
    "print(y_true[0])\n",
    "print(y_pred[0])\n"
   ]
  },
  {
   "cell_type": "code",
   "execution_count": 2,
   "id": "59b56b9a",
   "metadata": {},
   "outputs": [],
   "source": [
    "class lstm_linear(nn.Module):\n",
    "    def __init__(self,chunk =10,sigmoid_state=True,len_input = 16,outputa = 50):\n",
    "        super().__init__()\n",
    "        h_ = 128\n",
    "        self.dropout = nn.Dropout(p=0.3)\n",
    "        self.biLSTM = nn.LSTM(chunk,h_,bidirectional=True)\n",
    "        self.linear1 = nn.Linear((h_ * 2 * len_input),128)\n",
    "        self.Lazyl1 = nn.LazyLinear(128)\n",
    "        self.linear2 = nn.Linear(128,outputa)\n",
    "        self.sigmoid  = nn.Sigmoid()\n",
    "        self.softmax  = nn.Softmax(dim=1)\n",
    "        self.relu = nn.ReLU()\n",
    "        self.sigmoid_state = sigmoid_state\n",
    "    def forward(self,x):\n",
    "        out1,(hn,cn) = self.biLSTM(x)\n",
    "        b,f,o = out1.size()\n",
    "        out1 = out1.reshape(b,-1)\n",
    "        output = self.linear1((out1))\n",
    "        y_final = self.linear2((output))\n",
    "        if self.sigmoid_state:\n",
    "            y_final = self.sigmoid(y_final)\n",
    "        else:\n",
    "            y_final = self.softmax(y_final)\n",
    "        return y_final"
   ]
  },
  {
   "cell_type": "code",
   "execution_count": 3,
   "id": "7709b4a7",
   "metadata": {},
   "outputs": [],
   "source": [
    "dicta = torch.load(r\"model_epoch_50_70.pt\",weights_only=False)"
   ]
  },
  {
   "cell_type": "code",
   "execution_count": null,
   "id": "72380ab8",
   "metadata": {},
   "outputs": [],
   "source": []
  }
 ],
 "metadata": {
  "kernelspec": {
   "display_name": ".venv",
   "language": "python",
   "name": "python3"
  },
  "language_info": {
   "codemirror_mode": {
    "name": "ipython",
    "version": 3
   },
   "file_extension": ".py",
   "mimetype": "text/x-python",
   "name": "python",
   "nbconvert_exporter": "python",
   "pygments_lexer": "ipython3",
   "version": "3.12.10"
  }
 },
 "nbformat": 4,
 "nbformat_minor": 5
}
